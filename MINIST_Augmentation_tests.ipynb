{
  "nbformat": 4,
  "nbformat_minor": 0,
  "metadata": {
    "kernelspec": {
      "display_name": "Python 3",
      "language": "python",
      "name": "python3"
    },
    "language_info": {
      "codemirror_mode": {
        "name": "ipython",
        "version": 3
      },
      "file_extension": ".py",
      "mimetype": "text/x-python",
      "name": "python",
      "nbconvert_exporter": "python",
      "pygments_lexer": "ipython3",
      "version": "3.6.7"
    },
    "colab": {
      "name": "Copy of exploring-mnist.ipynb",
      "provenance": [],
      "collapsed_sections": [],
      "include_colab_link": true
    }
  },
  "cells": [
    {
      "cell_type": "markdown",
      "metadata": {
        "id": "view-in-github",
        "colab_type": "text"
      },
      "source": [
        "<a href=\"https://colab.research.google.com/github/steffenmodest/Python_Examples/blob/main/MINIST_Augmentation_tests.ipynb\" target=\"_parent\"><img src=\"https://colab.research.google.com/assets/colab-badge.svg\" alt=\"Open In Colab\"/></a>"
      ]
    },
    {
      "cell_type": "markdown",
      "metadata": {
        "id": "ASB7GEbEAWU0"
      },
      "source": [
        "## Notebook begleitend zum Video \"Laden und Bearbeiten von MNIST\""
      ]
    },
    {
      "cell_type": "markdown",
      "metadata": {
        "id": "0_tJ50Q4oYVd"
      },
      "source": [
        "### Importieren von TensorFlow, Keras und Numpy"
      ]
    },
    {
      "cell_type": "markdown",
      "metadata": {
        "id": "2ry8YzVtIcVb"
      },
      "source": [
        "Bevor wir die volle Funktionalität von NumPy nutzen können, müssen wir als aller erstes die Bibliothek importieren. Mit dem Kürzel \"as\" geben wir numpy einen \"Spitznamen\" und können für alle Funktionen von Numpy ab jetzt schreiben `np.some_function()`.\n",
        "\n",
        "Wir lernen zwar erst im nächsten Video TensorFlow bzw. Keras kennen, jedoch bietet uns Keras eine einfache Möglichkeit den MNIST-Datensatz zu laden, da dieser bereits als eines der Datensätze in Keras integriert ist."
      ]
    },
    {
      "cell_type": "code",
      "metadata": {
        "id": "jRgFh5ThoqMJ"
      },
      "source": [
        "import numpy as np\n",
        "import tensorflow as tf\n",
        "from tensorflow import keras"
      ],
      "execution_count": 1,
      "outputs": []
    },
    {
      "cell_type": "markdown",
      "metadata": {
        "id": "F9VGilB3AWU7"
      },
      "source": [
        "### MNIST Datensatz laden"
      ]
    },
    {
      "cell_type": "markdown",
      "metadata": {
        "id": "iNVg9t90JuYl"
      },
      "source": [
        "Wir können ganz einfach durch die Angabe des Datensatzes unsere Daten festlegen und mit einer einfachen Funktion laden. \n",
        "Wir bekommen von der Funktion 2 verschiedene Tupel zurück, zum einen die Trainingsdaten (Bilder + Label) und zum anderen die Testdaten (ebenso Bilder + Label)."
      ]
    },
    {
      "cell_type": "code",
      "metadata": {
        "id": "c0JkHkQOgNS8",
        "colab": {
          "base_uri": "https://localhost:8080/"
        },
        "outputId": "77403532-4c79-4640-8b4b-24a766a7e7b6"
      },
      "source": [
        "# Datensatz angeben\n",
        "data = keras.datasets.mnist\n",
        "\n",
        "# Datensatz herunterladen, Aufteilen der Daten in Test- und Trainingsdaten\n",
        "(train_images, train_labels), (test_images, test_labels) = data.load_data()"
      ],
      "execution_count": 2,
      "outputs": [
        {
          "output_type": "stream",
          "text": [
            "Downloading data from https://storage.googleapis.com/tensorflow/tf-keras-datasets/mnist.npz\n",
            "11493376/11490434 [==============================] - 0s 0us/step\n"
          ],
          "name": "stdout"
        }
      ]
    },
    {
      "cell_type": "code",
      "metadata": {
        "id": "1O5RcOQSie4l",
        "colab": {
          "base_uri": "https://localhost:8080/"
        },
        "outputId": "e5360b6b-aed6-4e7f-ceac-f354baec6504"
      },
      "source": [
        "train_images"
      ],
      "execution_count": 4,
      "outputs": [
        {
          "output_type": "execute_result",
          "data": {
            "text/plain": [
              "array([[[0, 0, 0, ..., 0, 0, 0],\n",
              "        [0, 0, 0, ..., 0, 0, 0],\n",
              "        [0, 0, 0, ..., 0, 0, 0],\n",
              "        ...,\n",
              "        [0, 0, 0, ..., 0, 0, 0],\n",
              "        [0, 0, 0, ..., 0, 0, 0],\n",
              "        [0, 0, 0, ..., 0, 0, 0]],\n",
              "\n",
              "       [[0, 0, 0, ..., 0, 0, 0],\n",
              "        [0, 0, 0, ..., 0, 0, 0],\n",
              "        [0, 0, 0, ..., 0, 0, 0],\n",
              "        ...,\n",
              "        [0, 0, 0, ..., 0, 0, 0],\n",
              "        [0, 0, 0, ..., 0, 0, 0],\n",
              "        [0, 0, 0, ..., 0, 0, 0]],\n",
              "\n",
              "       [[0, 0, 0, ..., 0, 0, 0],\n",
              "        [0, 0, 0, ..., 0, 0, 0],\n",
              "        [0, 0, 0, ..., 0, 0, 0],\n",
              "        ...,\n",
              "        [0, 0, 0, ..., 0, 0, 0],\n",
              "        [0, 0, 0, ..., 0, 0, 0],\n",
              "        [0, 0, 0, ..., 0, 0, 0]],\n",
              "\n",
              "       ...,\n",
              "\n",
              "       [[0, 0, 0, ..., 0, 0, 0],\n",
              "        [0, 0, 0, ..., 0, 0, 0],\n",
              "        [0, 0, 0, ..., 0, 0, 0],\n",
              "        ...,\n",
              "        [0, 0, 0, ..., 0, 0, 0],\n",
              "        [0, 0, 0, ..., 0, 0, 0],\n",
              "        [0, 0, 0, ..., 0, 0, 0]],\n",
              "\n",
              "       [[0, 0, 0, ..., 0, 0, 0],\n",
              "        [0, 0, 0, ..., 0, 0, 0],\n",
              "        [0, 0, 0, ..., 0, 0, 0],\n",
              "        ...,\n",
              "        [0, 0, 0, ..., 0, 0, 0],\n",
              "        [0, 0, 0, ..., 0, 0, 0],\n",
              "        [0, 0, 0, ..., 0, 0, 0]],\n",
              "\n",
              "       [[0, 0, 0, ..., 0, 0, 0],\n",
              "        [0, 0, 0, ..., 0, 0, 0],\n",
              "        [0, 0, 0, ..., 0, 0, 0],\n",
              "        ...,\n",
              "        [0, 0, 0, ..., 0, 0, 0],\n",
              "        [0, 0, 0, ..., 0, 0, 0],\n",
              "        [0, 0, 0, ..., 0, 0, 0]]], dtype=uint8)"
            ]
          },
          "metadata": {
            "tags": []
          },
          "execution_count": 4
        }
      ]
    },
    {
      "cell_type": "markdown",
      "metadata": {
        "id": "xk6IB92vgZWm"
      },
      "source": [
        "Folgend wollen wir uns die Größe der geladenen Daten  ausgeben lassen\n",
        "- geladene Daten sind Numpy-Arrays\n",
        "  - 3D Matrizen\n",
        "- 60.000 und 10.000 Bilder der Größe $28\\cdot 28=784$ Pixel\n",
        "\n"
      ]
    },
    {
      "cell_type": "code",
      "metadata": {
        "id": "pgvfOy_rgjop",
        "colab": {
          "base_uri": "https://localhost:8080/",
          "height": 51
        },
        "outputId": "2f77756b-7957-4ccf-cccd-678ec7a2f3b6"
      },
      "source": [
        "# Größe der Trainingsdaten (Länge, Höhe und Tiefe des Numpy-Arrays)\n",
        "print(train_images.shape)\n",
        "# Größe der Testdaten (Länge, Höhe und Tiefe des Numpy-Arrays)\n",
        "print(test_images.shape)"
      ],
      "execution_count": null,
      "outputs": [
        {
          "output_type": "stream",
          "text": [
            "(60000, 28, 28)\n",
            "(10000, 28, 28)\n"
          ],
          "name": "stdout"
        }
      ]
    },
    {
      "cell_type": "markdown",
      "metadata": {
        "id": "1QgACuLB9pxh"
      },
      "source": [
        "Wie wir bereits in Woche 1 kennen gelernt haben, handelt es sich bei den Pixeln um Werte von 0 bis 255. Dies wollen wir nachfolgend einmal validieren.\n"
      ]
    },
    {
      "cell_type": "code",
      "metadata": {
        "id": "KTbR4JT59dDc",
        "colab": {
          "base_uri": "https://localhost:8080/",
          "height": 51
        },
        "outputId": "2a739827-f55d-49a1-fed2-d8d93be91753"
      },
      "source": [
        "# Minima und Maxima der Matrix\n",
        "print(np.min(train_images))\n",
        "print(np.max(train_images))"
      ],
      "execution_count": null,
      "outputs": [
        {
          "output_type": "stream",
          "text": [
            "0\n",
            "255\n"
          ],
          "name": "stdout"
        }
      ]
    },
    {
      "cell_type": "markdown",
      "metadata": {
        "id": "sbYDPA0CAWVH"
      },
      "source": [
        "### Manipulation der Daten\n",
        "Falls wir nur einen kleinen Ausschnitt der Daten benötigen oder mit weniger Daten lernen wollen, können wir das Eingabearray wie schon im Video zu NumPy gesehen, reduzieren. "
      ]
    },
    {
      "cell_type": "code",
      "metadata": {
        "id": "GPcRZePcAWVN",
        "colab": {
          "base_uri": "https://localhost:8080/",
          "height": 34
        },
        "outputId": "a899852e-fa81-465e-fdbe-cf9fa8d519c6"
      },
      "source": [
        "train_images = train_images[:1000]\n",
        "\n",
        "# Größe des neuen Trainingsdatensatzes (Länge, Höhe und Tiefe des Numpy-Arrays)\n",
        "print(train_images.shape)"
      ],
      "execution_count": null,
      "outputs": [
        {
          "output_type": "stream",
          "text": [
            "(1000, 28, 28)\n"
          ],
          "name": "stdout"
        }
      ]
    },
    {
      "cell_type": "markdown",
      "metadata": {
        "id": "eP5u9t3-AWVi"
      },
      "source": [
        "### Notwendige Umformung für Verwendung in Keras\n"
      ]
    },
    {
      "cell_type": "markdown",
      "metadata": {
        "id": "QkBtSQrFAWV2"
      },
      "source": [
        "Wir haben bereits in der ersten Woche zum Thema \"Wie lernen neuronale Netze?\" kennengelernt, dass wir die gewünschte Ausgabe des Netzes (Labels) als Vektor der größe 10 erwarten. Jeder Eintrag in diesem Vektor sollte hierbei für eine Zahl von 0-9 stehen. Eine 5 würde somit an der 6. Stelle eine 1 enthalten und alle anderen Werte wären 0.\n",
        "\n",
        "Die Labels aus dem MNIST-Datensatz sind zu Beginn nur einfache Zahlen und müssen daher von uns umgewandelt werden:\n",
        "- Das Bild der handgeschriebenen 5 hat das Label `5`\n",
        "- Wir wollen jedoch den folgenden Wert: `[0. 0. 0. 0. 0. 1. 0. 0. 0. 0.]`\n"
      ]
    },
    {
      "cell_type": "code",
      "metadata": {
        "id": "Sx54OqeaANx6",
        "colab": {
          "base_uri": "https://localhost:8080/",
          "height": 51
        },
        "outputId": "0bc8939c-294a-47aa-c63e-bd192734df33"
      },
      "source": [
        "# Altes Label ist die Zahl der Klasse\n",
        "# Beispiel: Das Bild mit der handgeschriebenen 5 hat das Label 5\n",
        "print(f\"Label davor: {train_labels[0]}\")\n",
        "\n",
        "# Umformung des Labels zu einem Vektor\n",
        "# Dieser Vektor hat eine 1 an der Stelle 5 (beginnend bei 0) und sonst überall 0\n",
        "\n",
        "# Haben 10 Klassen (Zahlen von 0-9) und somit 10 Neuronen für die Ausgabe\n",
        "total_classes = 10\n",
        "# Hilfsfunktion zur Durchführung der Vektorisierung\n",
        "train_labels_vectorized = keras.utils.to_categorical(train_labels, total_classes)\n",
        "print(f\"Label danach: {train_labels_vectorized[0]}\")"
      ],
      "execution_count": null,
      "outputs": [
        {
          "output_type": "stream",
          "text": [
            "Label davor: 5\n",
            "Label danach: [0. 0. 0. 0. 0. 1. 0. 0. 0. 0.]\n"
          ],
          "name": "stdout"
        }
      ]
    },
    {
      "cell_type": "markdown",
      "metadata": {
        "id": "L0ksupUpQQ19"
      },
      "source": [
        "### Bilder aus dem Datensatz anzeigen\n",
        "\n",
        "Zur genaueren Inspektion dieses und anderer Datensätze eignet sich zum Beispiel die Bibliothek `matplotlib`.\n",
        "\n",
        "Die nachfolgenden Befehle sollten nach dem letzten Video bereits bekannt sein.\n"
      ]
    },
    {
      "cell_type": "code",
      "metadata": {
        "id": "GSapzH0oQtGm"
      },
      "source": [
        "import matplotlib.pyplot as plt\n",
        "# Magischer Befehl für die Verwendung von matplotlib in lokalen jupyter notebooks\n",
        "%matplotlib inline"
      ],
      "execution_count": null,
      "outputs": []
    },
    {
      "cell_type": "markdown",
      "metadata": {
        "id": "paYbrN0AQymE"
      },
      "source": [
        "Wir hatten bereits ein paar kleine Änderungen an den geladenen Daten vorgenommen. Diese wollen wir folgend mit dem erneuten Laden der Daten rückgängig machen, um anschließend mit den usprüglichen Daten zu arbeiten.  "
      ]
    },
    {
      "cell_type": "code",
      "metadata": {
        "id": "yb5yFX3bCCb1"
      },
      "source": [
        "# Erneutes Laden der Test- und Trainingsdaten\n",
        "(train_images, train_labels), (test_images, test_labels) = data.load_data()"
      ],
      "execution_count": null,
      "outputs": []
    },
    {
      "cell_type": "markdown",
      "metadata": {
        "id": "y4Vx5DV8Qm7w"
      },
      "source": [
        "Wir wollen uns nun die einzelnen Bilder des MNIST-Datensatzes und eine zugehörige Legende anzeigen lassen, um ein Gefühl für die Daten zu erhalten.\n",
        "\n",
        "Auf diese Weise lassen sich in einem späteren Video falsch klassifizierte Bilder des Netzes anzeigen."
      ]
    },
    {
      "cell_type": "code",
      "metadata": {
        "id": "3yU9ph5BQmeH",
        "colab": {
          "base_uri": "https://localhost:8080/",
          "height": 265
        },
        "outputId": "4689c0c0-5b07-442c-c9ec-b021a6b96e3e"
      },
      "source": [
        "plt.imshow(train_images[0])\n",
        "plt.colorbar()\n",
        "plt.show()"
      ],
      "execution_count": null,
      "outputs": [
        {
          "output_type": "display_data",
          "data": {
            "image/png": "[encoded data removed]",
            "text/plain": [
              "<Figure size 432x288 with 2 Axes>"
            ]
          },
          "metadata": {
            "tags": []
          }
        }
      ]
    },
    {
      "cell_type": "markdown",
      "metadata": {
        "id": "zohFfy_6BxE3"
      },
      "source": [
        "Wir wollen für das Trainieren unseres Netzes gerne normalisierte Pixelwerte zwischen 0 bis 1. Das Erreichen wir, indem wir jeden Eintrag in den `train_images` durch 255 teilen. "
      ]
    },
    {
      "cell_type": "code",
      "metadata": {
        "id": "pFHyhFIkBwOa"
      },
      "source": [
        "normalized_train_images = train_images / 255"
      ],
      "execution_count": null,
      "outputs": []
    },
    {
      "cell_type": "markdown",
      "metadata": {
        "id": "vJ5NZfvacapH"
      },
      "source": [
        "Das Ergebnis der Normalisierung wollen wir uns ebenso ausgeben und sehen anhand der Legende unseren Erfolg."
      ]
    },
    {
      "cell_type": "code",
      "metadata": {
        "id": "CMZP1bzjR3kf",
        "colab": {
          "base_uri": "https://localhost:8080/",
          "height": 269
        },
        "outputId": "0ed12729-323a-451a-87b5-477728c365be"
      },
      "source": [
        "# Als colormap (cmap) nutzen wir \"binary\", da wir nur zwischen weiß und schwarz interpolieren wollen\n",
        "plt.imshow(normalized_train_images[0], cmap=plt.cm.binary)\n",
        "plt.colorbar()\n",
        "plt.show()"
      ],
      "execution_count": null,
      "outputs": [
        {
          "output_type": "display_data",
          "data": {
            "image/png": "[encoded data removed]",
            "text/plain": [
              "<Figure size 432x288 with 2 Axes>"
            ]
          },
          "metadata": {
            "tags": []
          }
        }
      ]
    },
    {
      "cell_type": "markdown",
      "metadata": {
        "id": "Py6KJncLi9Fk"
      },
      "source": [
        "### Datensatz bearbeiten (Noise hinzufügen)\n",
        "\n",
        "Dies ist absolut optional und nur ein kleiner Ausblick in das Thema *Data Augmentation*, worauf wir in Woche 4 genauer eingehen wollen.\n"
      ]
    },
    {
      "cell_type": "markdown",
      "metadata": {
        "id": "VoaJa3QfCLT0"
      },
      "source": [
        "Wir erzeugen eine Matrix der Größe 28 x 28 mit Werten zwischen 0 und 1 (Befehl sollte vom NumPy Video bekannt sein). Die zufällig erzeugt Matrix wollen wir mit dem gleich großen Trainingsbild addieren, um dem Bild Rauschen hinzuzufügen.\n",
        "\n",
        "Mittels dieses Rauschens haben wir ein neues Bild erzeugt, welches wir für das Training unseres Netzes verwenden könnten.\n"
      ]
    },
    {
      "cell_type": "code",
      "metadata": {
        "id": "mnqbxSv3jCHd",
        "colab": {
          "base_uri": "https://localhost:8080/",
          "height": 265
        },
        "outputId": "111fef9a-eff7-4118-f2d1-984d96fb8237"
      },
      "source": [
        "# Noise kann beliebig gewählt werden mit Wahl des Zufallsgenerators\n",
        "noise_matrix = np.random.random((28,28))\n",
        "# Addieren der Matrix mit Noise auf die ursprüngliche Matrix\n",
        "new_train_data = normalized_train_images[1] + noise_matrix\n",
        "# Neues Bild anzeigen\n",
        "plt.imshow(new_train_data, cmap=plt.cm.binary)\n",
        "plt.show()"
      ],
      "execution_count": null,
      "outputs": [
        {
          "output_type": "display_data",
          "data": {
            "image/png": "[encoded data removed]",
            "text/plain": [
              "<Figure size 432x288 with 1 Axes>"
            ]
          },
          "metadata": {
            "tags": []
          }
        }
      ]
    },
    {
      "cell_type": "markdown",
      "metadata": {
        "id": "6rV2kKPmm4ss"
      },
      "source": [
        "### Datensatzwerte erzeugen "
      ]
    },
    {
      "cell_type": "markdown",
      "metadata": {
        "id": "jV4bc9MtcvvB"
      },
      "source": [
        "Eine weitere Möglichkeit den Datensatz zu bearbeiten (erweitern) bietet die Transponierung.\n",
        "`new_train_data = train_images[1].T` erzeugt eine an der Diagonalen gespiegelte 0, welche weiterhin als 0 klassifiziert werden soll, aber aufgrund der Spiegelung anders aussieht.\n",
        "\n",
        "Die Funktion `np.rot90` ermöglicht uns Bilder um Vielfache von 90° zu drehen und auf diese Weise neue Daten zu generieren. Eine 0 die um 180° gedreht wurde, also auf dem Kopf steht, sollte weiterhin als 0 klassifiziert werden."
      ]
    },
    {
      "cell_type": "code",
      "metadata": {
        "id": "gltAdVh_UjWC",
        "colab": {
          "base_uri": "https://localhost:8080/",
          "height": 265
        },
        "outputId": "d7b3c707-3c48-45ff-dc69-853b9a872cd3"
      },
      "source": [
        "# 2-fache Drehung um 90° (auf dem Kopf stehende 0)\n",
        "flipped_zero = np.rot90(normalized_train_images[1])\n",
        "flipped_zero = np.rot90(flipped_zero)\n",
        "\n",
        "# Neues Bild anzeigen\n",
        "plt.imshow(flipped_zero, cmap=plt.cm.binary)\n",
        "plt.show()"
      ],
      "execution_count": null,
      "outputs": [
        {
          "output_type": "display_data",
          "data": {
            "image/png": "[encoded data removed]",
            "text/plain": [
              "<Figure size 432x288 with 1 Axes>"
            ]
          },
          "metadata": {
            "tags": []
          }
        }
      ]
    },
    {
      "cell_type": "markdown",
      "metadata": {
        "id": "af3GZUuSDGu2"
      },
      "source": [
        "Anschließend wollen wir das neu generierte Bild an den bestehenden Datensatz anhängen. \n",
        "Hierfür müssen beide nd-Arrays, welche wir aneinander hängen, die gleiche Dimension (Größe) besitzen. Also formen wir flipped_zero von einem 2D-Array zu einem 3D-Array."
      ]
    },
    {
      "cell_type": "code",
      "metadata": {
        "id": "bm5yo8JoUp7L",
        "colab": {
          "base_uri": "https://localhost:8080/",
          "height": 34
        },
        "outputId": "ff543e12-a13b-4edc-949e-d12ae4051e44"
      },
      "source": [
        "# flipped_zero wird zu Array der Länge 1 mit einer 28x28 Matrix\n",
        "flipped_zero = flipped_zero.reshape(1,28,28)\n",
        "\n",
        "# Damit können wir das 1x28x28 flipped_zero Array mit dem 60000x28x28 train_images Array zusammenfügen\n",
        "extended_train_images = np.append(normalized_train_images, flipped_zero, axis=0)\n",
        "print(extended_train_images.shape)"
      ],
      "execution_count": null,
      "outputs": [
        {
          "output_type": "stream",
          "text": [
            "(60001, 28, 28)\n"
          ],
          "name": "stdout"
        }
      ]
    },
    {
      "cell_type": "markdown",
      "metadata": {
        "id": "JfORmA4qwNLs"
      },
      "source": [
        "### Kleiner Hinweis am Ende"
      ]
    },
    {
      "cell_type": "markdown",
      "metadata": {
        "id": "eShZ1vRhfJvU"
      },
      "source": [
        "Warum haben wir uns bereits jetzt mit dem Thema *Data Augmentation* beschäftigt?\n",
        "\n",
        "Der MNIST Datensatz ist eigentlich nicht komplex genung, um die Daten beliebig zu manipulieren und trotzdem sinnvolle Erkenntnisse über den Datensatz zu gewinnen oder diesen mit neuen Daten zu erweitern, um daran noch besser zu lernen.\n",
        "- Der Datensatz hat sich für wissenschaftliche Zwecke bewährt und wurde mehrfach verbessert\n",
        "- Erweiterung um neue Daten nicht notwendig\n",
        "\n",
        "Wir lernen später in Woche 4, wie man mit anspruchsvollen Datensätzen arbeitet (z.B. `tf_flowers` mit wenig Daten) und werden dann eventuell mittels Data Augemntation neue Daten erzeugen müssen. \n",
        "\n",
        "Der viel wichtigere Grund ist jedoch, dass wir Methoden und Tools kennengelernt haben, die uns dabei helfen einen Eindruck von den Daten zu bekommen. Das ist besonders wichtig wenn man an einem eigenen Image Recognition Projekt arbeitet. Es ist wichtig die Daten zu verstehen und zu optimieren. Daher finde wir es sinnvoll, wenn vorab schonmal ein bisschen mit den Daten herumgespielt wird.\n"
      ]
    }
  ]
}