{
  "nbformat": 4,
  "nbformat_minor": 0,
  "metadata": {
    "colab": {
      "name": "M-Net_1",
      "provenance": [],
      "collapsed_sections": [],
      "authorship_tag": "ABX9TyPcIJj16jEdfMyvODHa2iZF",
      "include_colab_link": true
    },
    "kernelspec": {
      "name": "python3",
      "display_name": "Python 3"
    },
    "accelerator": "TPU"
  },
  "cells": [
    {
      "cell_type": "markdown",
      "metadata": {
        "id": "view-in-github",
        "colab_type": "text"
      },
      "source": [
        "<a href=\"https://colab.research.google.com/github/steffenmodest/Python_Examples/blob/main/M_Net_1.ipynb\" target=\"_parent\"><img src=\"https://colab.research.google.com/assets/colab-badge.svg\" alt=\"Open In Colab\"/></a>"
      ]
    },
    {
      "cell_type": "code",
      "metadata": {
        "id": "BiRMJKUw4uJN"
      },
      "source": [
        "import numpy as np\r\n",
        "import matplotlib.pyplot as plt\r\n",
        "\r\n",
        "rs = 23  # fester Random Seed"
      ],
      "execution_count": 1,
      "outputs": []
    },
    {
      "cell_type": "markdown",
      "metadata": {
        "id": "v7W9IXTQ-Nn6"
      },
      "source": [
        "Load Data"
      ]
    },
    {
      "cell_type": "code",
      "metadata": {
        "colab": {
          "base_uri": "https://localhost:8080/"
        },
        "id": "OkWXskSV9JUk",
        "outputId": "de4837e8-7166-4438-dd63-08c4521c05ee"
      },
      "source": [
        "from tensorflow.keras.datasets import fashion_mnist, mnist\r\n",
        "\r\n",
        "# Fashion MNIST Daten laden, wir wollen nur die Trainingsdaten und verwerfen die Testdaten\r\n",
        "# (X_train, y_train), (X_test, y_test) = fashion_mnist.load_data()\r\n",
        "(X_train, y_train), (X_test, y_test) = mnist.load_data()\r\n",
        "\r\n",
        "print(X_train.shape)\r\n",
        "print(X_test.shape)\r\n",
        "print(y_train.shape)\r\n",
        "print(y_test.shape)"
      ],
      "execution_count": 2,
      "outputs": [
        {
          "output_type": "stream",
          "text": [
            "Downloading data from https://storage.googleapis.com/tensorflow/tf-keras-datasets/mnist.npz\n",
            "11493376/11490434 [==============================] - 0s 0us/step\n",
            "(60000, 28, 28)\n",
            "(10000, 28, 28)\n",
            "(60000,)\n",
            "(10000,)\n"
          ],
          "name": "stdout"
        }
      ]
    },
    {
      "cell_type": "markdown",
      "metadata": {
        "id": "ZIUroMbRAalY"
      },
      "source": [
        "Preprocess data"
      ]
    },
    {
      "cell_type": "code",
      "metadata": {
        "colab": {
          "base_uri": "https://localhost:8080/"
        },
        "id": "vG-KCjq_AYkG",
        "outputId": "4f41bfa5-96fb-439f-d6cc-fa9e2721fdff"
      },
      "source": [
        "from sklearn.pipeline import Pipeline\r\n",
        "from sklearn.preprocessing import StandardScaler, Normalizer, MinMaxScaler, FunctionTransformer\r\n",
        "from sklearn.metrics import mean_absolute_error, mean_squared_error, r2_score\r\n",
        "\r\n",
        "# Plätte 2D Bild in einen Vektor:\r\n",
        "# Reshape behält die Anzahl Element in der ersten Dimension (len(X_orig) -> #Bilder)\r\n",
        "# die restlichen Zellen des Arrays (-1 -> Pixel) bekommen alle ihre eigene Dimension\r\n",
        "X = X_train.reshape(len(X_train), -1).astype('float64')\r\n",
        "\r\n",
        "# Dimensionen um den Mittelpunkt zentrieren\r\n",
        "preproccessing = StandardScaler()\r\n",
        "X = preproccessing.fit_transform(X)\r\n",
        "\r\n",
        "print (\"Originaldaten:\")\r\n",
        "print(\"Shape: {}, Mean: {:f}, STD: {:f}\".format(X_train.shape, np.mean(X_train), np.std(X_train)))\r\n",
        "\r\n",
        "print (\"Vorbereitete Daten:\")\r\n",
        "print(\"Shape: {}, Mean: {:f}, STD: {:f}\".format(X.shape, np.mean(X), np.std(X)))"
      ],
      "execution_count": 3,
      "outputs": [
        {
          "output_type": "stream",
          "text": [
            "Originaldaten:\n",
            "Shape: (60000, 28, 28), Mean: 33.318421, STD: 78.567490\n",
            "Vorbereitete Daten:\n",
            "Shape: (60000, 784), Mean: -0.000000, STD: 0.956316\n"
          ],
          "name": "stdout"
        }
      ]
    },
    {
      "cell_type": "markdown",
      "metadata": {
        "id": "lbpaEp8-ChlG"
      },
      "source": [
        "Create Hidden Activations"
      ]
    },
    {
      "cell_type": "code",
      "metadata": {
        "colab": {
          "base_uri": "https://localhost:8080/"
        },
        "id": "O6SBu62b9Sky",
        "outputId": "f57e2dd6-bd46-469b-eb90-2f4944a7f44a"
      },
      "source": [
        "H = np.random.rand(60000, 40)\r\n",
        "print(H.shape)\r\n",
        "print(H)"
      ],
      "execution_count": 4,
      "outputs": [
        {
          "output_type": "stream",
          "text": [
            "(60000, 40)\n",
            "[[0.80179533 0.80024828 0.81947999 ... 0.36612905 0.05383133 0.44520376]\n",
            " [0.68994053 0.02271146 0.84644959 ... 0.89881711 0.96738728 0.57371492]\n",
            " [0.18079655 0.05909824 0.20710637 ... 0.35391965 0.24676539 0.49774747]\n",
            " ...\n",
            " [0.40490323 0.54697415 0.87512465 ... 0.22487565 0.72047718 0.90909678]\n",
            " [0.00124867 0.71242439 0.84059922 ... 0.78668834 0.34822058 0.31227951]\n",
            " [0.64844837 0.44128842 0.54038505 ... 0.86509351 0.4912531  0.59365634]]\n"
          ],
          "name": "stdout"
        }
      ]
    },
    {
      "cell_type": "markdown",
      "metadata": {
        "id": "3W8_KWaMCmpe"
      },
      "source": [
        "1st Forward Learn"
      ]
    },
    {
      "cell_type": "code",
      "metadata": {
        "colab": {
          "base_uri": "https://localhost:8080/"
        },
        "id": "7qf5L17T4Npb",
        "outputId": "b2eed706-282a-4e94-a9c1-4175fc0afd5d"
      },
      "source": [
        "import numpy as np\r\n",
        "from sklearn.linear_model import LinearRegression\r\n",
        "\r\n",
        "reg = LinearRegression().fit(H, X)\r\n",
        "print(reg.score(H, X))\r\n",
        "X_pred = reg.predict(H)\r\n",
        "print(f'MAE {mean_absolute_error(X_pred, X)}')\r\n",
        "print(f'MSE {mean_squared_error(X_pred, X)}')\r\n",
        "print(f'R2 {r2_score(X_pred, X)}')\r\n",
        "print(f'R2 vw {r2_score(X_pred, X, multioutput=\"variance_weighted\")}')\r\n",
        "print(f'R2 ua {r2_score(X_pred, X, multioutput=\"uniform_average\")}')\r\n",
        "\r\n",
        "W = reg.coef_\r\n",
        "print(W.shape)\r\n",
        "WI = reg.intercept_\r\n",
        "print(WI.shape)"
      ],
      "execution_count": 5,
      "outputs": [
        {
          "output_type": "stream",
          "text": [
            "/usr/local/lib/python3.6/dist-packages/sklearn/base.py:434: FutureWarning: The default value of multioutput (not exposed in score method) will change from 'variance_weighted' to 'uniform_average' in 0.23 to keep consistent with 'metrics.r2_score'. To specify the default value manually and avoid the warning, please either call 'metrics.r2_score' directly or make a custom scorer with 'metrics.make_scorer' (the built-in scorer 'r2' uses multioutput='uniform_average').\n",
            "  \"multioutput='uniform_average').\", FutureWarning)\n"
          ],
          "name": "stderr"
        },
        {
          "output_type": "stream",
          "text": [
            "0.0006922384163008567\n",
            "MAE 0.4442709413999881\n",
            "MSE 0.9139077360401685\n",
            "R2 -1380.9507181897616\n",
            "R2 vw -1442.5889976278222\n",
            "R2 ua -1380.9507181897616\n",
            "(784, 40)\n",
            "(784,)\n"
          ],
          "name": "stdout"
        }
      ]
    },
    {
      "cell_type": "markdown",
      "metadata": {
        "id": "yYL74vKOCss2"
      },
      "source": [
        "1st Back Activations"
      ]
    },
    {
      "cell_type": "code",
      "metadata": {
        "colab": {
          "base_uri": "https://localhost:8080/"
        },
        "id": "j2p9rcyI4dcK",
        "outputId": "446dd348-e4cc-4d6c-dd9e-584ffccc8e46"
      },
      "source": [
        "XT = X.transpose()\r\n",
        "print(f'shape of X_train {X.shape} and X_train transposed {XT.shape}')\r\n",
        "\r\n",
        "reg = LinearRegression().fit(W, XT)\r\n",
        "print(reg.score(W, XT))\r\n",
        "XT_pred = reg.predict(W)\r\n",
        "print(f'MAE {mean_absolute_error(XT_pred, XT)}')\r\n",
        "print(f'MSE {mean_squared_error(XT_pred, XT)}')\r\n",
        "print(f'R2 {r2_score(XT_pred, XT)}')\r\n",
        "print(f'R2 vw {r2_score(XT_pred, XT, multioutput=\"variance_weighted\")}')\r\n",
        "print(f'R2 ua {r2_score(XT_pred, XT, multioutput=\"uniform_average\")}')\r\n",
        "\r\n",
        "H_new = reg.coef_\r\n",
        "print(H_new.shape)\r\n",
        "HI = reg.intercept_\r\n",
        "print(HI.shape)"
      ],
      "execution_count": 6,
      "outputs": [
        {
          "output_type": "stream",
          "text": [
            "shape of X_train (60000, 784) and X_train transposed (784, 60000)\n"
          ],
          "name": "stdout"
        },
        {
          "output_type": "stream",
          "text": [
            "/usr/local/lib/python3.6/dist-packages/sklearn/base.py:434: FutureWarning: The default value of multioutput (not exposed in score method) will change from 'variance_weighted' to 'uniform_average' in 0.23 to keep consistent with 'metrics.r2_score'. To specify the default value manually and avoid the warning, please either call 'metrics.r2_score' directly or make a custom scorer with 'metrics.make_scorer' (the built-in scorer 'r2' uses multioutput='uniform_average').\n",
            "  \"multioutput='uniform_average').\", FutureWarning)\n"
          ],
          "name": "stderr"
        },
        {
          "output_type": "stream",
          "text": [
            "0.29283932807730984\n",
            "MAE 0.42783230012268425\n",
            "MSE 0.6332444381245188\n",
            "R2 -1.1053327953513452\n",
            "R2 vw -1.4148418744356608\n",
            "R2 ua -1.1053327953513452\n",
            "(60000, 40)\n",
            "(60000,)\n"
          ],
          "name": "stdout"
        }
      ]
    },
    {
      "cell_type": "markdown",
      "metadata": {
        "id": "zuXNkE6hGXbO"
      },
      "source": [
        "2nd Forward learn - result are Coherent Weights"
      ]
    },
    {
      "cell_type": "code",
      "metadata": {
        "colab": {
          "base_uri": "https://localhost:8080/"
        },
        "id": "prT-plGDGbrQ",
        "outputId": "1b8b25a5-aca1-434a-d4d1-6e985917a529"
      },
      "source": [
        "reg = LinearRegression().fit(H_new, X)\r\n",
        "print(reg.score(H_new, X))\r\n",
        "X_pred = reg.predict(H_new)\r\n",
        "print(f'MAE {mean_absolute_error(X_pred, X)}')\r\n",
        "print(f'MSE {mean_squared_error(X_pred, X)}')\r\n",
        "print(f'R2 {r2_score(X_pred, X)}')\r\n",
        "print(f'R2 vw {r2_score(X_pred, X, multioutput=\"variance_weighted\")}')\r\n",
        "print(f'R2 ua {r2_score(X_pred, X, multioutput=\"uniform_average\")}')\r\n",
        "\r\n",
        "W = reg.coef_\r\n",
        "print(W.shape)\r\n",
        "WI = reg.intercept_\r\n",
        "print(WI.shape)"
      ],
      "execution_count": 7,
      "outputs": [
        {
          "output_type": "stream",
          "text": [
            "/usr/local/lib/python3.6/dist-packages/sklearn/base.py:434: FutureWarning: The default value of multioutput (not exposed in score method) will change from 'variance_weighted' to 'uniform_average' in 0.23 to keep consistent with 'metrics.r2_score'. To specify the default value manually and avoid the warning, please either call 'metrics.r2_score' directly or make a custom scorer with 'metrics.make_scorer' (the built-in scorer 'r2' uses multioutput='uniform_average').\n",
            "  \"multioutput='uniform_average').\", FutureWarning)\n"
          ],
          "name": "stderr"
        },
        {
          "output_type": "stream",
          "text": [
            "0.4201052892971113\n",
            "MAE 0.35280227030519423\n",
            "MSE 0.5303373821096423\n",
            "R2 -1.5835657917015684\n",
            "R2 vw -0.3803556524438253\n",
            "R2 ua -1.5835657917015684\n",
            "(784, 40)\n",
            "(784,)\n"
          ],
          "name": "stdout"
        }
      ]
    },
    {
      "cell_type": "markdown",
      "metadata": {
        "id": "QQm_Dd-RJ3Q-"
      },
      "source": [
        "2nd Back Activation - final representation of X_train in Hidden Activations"
      ]
    },
    {
      "cell_type": "code",
      "metadata": {
        "colab": {
          "base_uri": "https://localhost:8080/"
        },
        "id": "Ti-h4fmn4tKY",
        "outputId": "1a1309dd-9781-443b-9c1d-391648734795"
      },
      "source": [
        "reg = LinearRegression().fit(W, XT)\r\n",
        "print(reg.score(W, XT))\r\n",
        "XT_pred = reg.predict(W)\r\n",
        "print(f'MAE {mean_absolute_error(XT_pred, XT)}')\r\n",
        "print(f'MSE {mean_squared_error(XT_pred, XT)}')\r\n",
        "print(f'R2 vw {r2_score(XT_pred, XT, multioutput=\"variance_weighted\")}')\r\n",
        "print(f'R2 ua {r2_score(XT_pred, XT, multioutput=\"uniform_average\")}')\r\n",
        "\r\n",
        "H_new = reg.coef_\r\n",
        "print(H_new.shape)\r\n",
        "HI = reg.intercept_\r\n",
        "print(HI.shape)"
      ],
      "execution_count": 8,
      "outputs": [
        {
          "output_type": "stream",
          "text": [
            "/usr/local/lib/python3.6/dist-packages/sklearn/base.py:434: FutureWarning: The default value of multioutput (not exposed in score method) will change from 'variance_weighted' to 'uniform_average' in 0.23 to keep consistent with 'metrics.r2_score'. To specify the default value manually and avoid the warning, please either call 'metrics.r2_score' directly or make a custom scorer with 'metrics.make_scorer' (the built-in scorer 'r2' uses multioutput='uniform_average').\n",
            "  \"multioutput='uniform_average').\", FutureWarning)\n"
          ],
          "name": "stderr"
        },
        {
          "output_type": "stream",
          "text": [
            "0.4564170560506656\n",
            "MAE 0.33673582318151973\n",
            "MSE 0.48676473336585624\n",
            "R2 vw -0.1909785945619721\n",
            "R2 ua 0.05323032031970552\n",
            "(60000, 40)\n",
            "(60000,)\n"
          ],
          "name": "stdout"
        }
      ]
    },
    {
      "cell_type": "markdown",
      "metadata": {
        "id": "o6coHZMrLna9"
      },
      "source": [
        "KNN test with Hidden Activations"
      ]
    },
    {
      "cell_type": "code",
      "metadata": {
        "colab": {
          "base_uri": "https://localhost:8080/"
        },
        "id": "GlQidejSLkNv",
        "outputId": "ed842148-945a-4753-8856-65ec0062c5a1"
      },
      "source": [
        "# X = [[0], [1], [2], [3]]\r\n",
        "# y = [0, 0, 1, 1]\r\n",
        "\r\n",
        "# Plätte 2D Bild in einen Vektor:\r\n",
        "# Reshape behält die Anzahl Element in der ersten Dimension (len(X_orig) -> #Bilder)\r\n",
        "# die restlichen Zellen des Arrays (-1 -> Pixel) bekommen alle ihre eigene Dimension\r\n",
        "X_p_test = X_test.reshape(len(X_test), -1).astype('float64')\r\n",
        "\r\n",
        "# Dimensionen um den Mittelpunkt zentrieren\r\n",
        "preproccessing = StandardScaler()\r\n",
        "X_p_test = preproccessing.fit_transform(X_p_test)\r\n",
        "\r\n",
        "print (\"Originaldaten:\")\r\n",
        "print(\"Shape: {}, Mean: {:f}, STD: {:f}\".format(X_test.shape, np.mean(X_test), np.std(X_test)))\r\n",
        "\r\n",
        "print (\"Vorbereitete Daten:\")\r\n",
        "print(\"Shape: {}, Mean: {:f}, STD: {:f}\".format(X_p_test.shape, np.mean(X_p_test), np.std(X_p_test)))\r\n",
        "\r\n",
        "from sklearn.neighbors import KNeighborsClassifier\r\n",
        "neigh = KNeighborsClassifier(n_neighbors=5, n_jobs=-1, weights='distance')\r\n",
        "neigh.fit(H_new, y_train)\r\n",
        "\r\n",
        "# print(neigh.predict([[1.1]]))\r\n",
        "\r\n",
        "# print(neigh.predict_proba([[0.9]]))"
      ],
      "execution_count": 20,
      "outputs": [
        {
          "output_type": "stream",
          "text": [
            "Originaldaten:\n",
            "Shape: (10000, 28, 28), Mean: 33.791224, STD: 79.172463\n",
            "Vorbereitete Daten:\n",
            "Shape: (10000, 784), Mean: 0.000000, STD: 0.923061\n"
          ],
          "name": "stdout"
        },
        {
          "output_type": "execute_result",
          "data": {
            "text/plain": [
              "KNeighborsClassifier(algorithm='auto', leaf_size=30, metric='minkowski',\n",
              "                     metric_params=None, n_jobs=-1, n_neighbors=5, p=2,\n",
              "                     weights='distance')"
            ]
          },
          "metadata": {
            "tags": []
          },
          "execution_count": 20
        }
      ]
    },
    {
      "cell_type": "markdown",
      "metadata": {
        "id": "a_ntlc-AQVpU"
      },
      "source": [
        "Back Activation of Test Data"
      ]
    },
    {
      "cell_type": "code",
      "metadata": {
        "colab": {
          "base_uri": "https://localhost:8080/"
        },
        "id": "qynKZ5tSQadw",
        "outputId": "5f5193b8-86a7-44a5-9dea-9b1898cbd127"
      },
      "source": [
        "XT = X_p_test.transpose()\r\n",
        "print(f'shape of X_p_train {X_p_test.shape} and X_p_train transposed {XT.shape}')\r\n",
        "\r\n",
        "reg = LinearRegression().fit(W, XT)\r\n",
        "print(reg.score(W, XT))\r\n",
        "XT_pred = reg.predict(W)\r\n",
        "print(f'MAE {mean_absolute_error(XT_pred, XT)}')\r\n",
        "print(f'MSE {mean_squared_error(XT_pred, XT)}')\r\n",
        "print(f'R2 {r2_score(XT_pred, XT)}')\r\n",
        "print(f'R2 vw {r2_score(XT_pred, XT, multioutput=\"variance_weighted\")}')\r\n",
        "print(f'R2 ua {r2_score(XT_pred, XT, multioutput=\"uniform_average\")}')\r\n",
        "\r\n",
        "H_test = reg.coef_\r\n",
        "print(H_test.shape)\r\n",
        "HI_test = reg.intercept_\r\n",
        "print(HI_test.shape)"
      ],
      "execution_count": 21,
      "outputs": [
        {
          "output_type": "stream",
          "text": [
            "shape of X_p_train (10000, 784) and X_p_train transposed (784, 10000)\n"
          ],
          "name": "stdout"
        },
        {
          "output_type": "stream",
          "text": [
            "/usr/local/lib/python3.6/dist-packages/sklearn/base.py:434: FutureWarning: The default value of multioutput (not exposed in score method) will change from 'variance_weighted' to 'uniform_average' in 0.23 to keep consistent with 'metrics.r2_score'. To specify the default value manually and avoid the warning, please either call 'metrics.r2_score' directly or make a custom scorer with 'metrics.make_scorer' (the built-in scorer 'r2' uses multioutput='uniform_average').\n",
            "  \"multioutput='uniform_average').\", FutureWarning)\n"
          ],
          "name": "stderr"
        },
        {
          "output_type": "stream",
          "text": [
            "0.48284923333170954\n",
            "MAE 0.33323054438621386\n",
            "MSE 0.43081588374005086\n",
            "R2 0.09308547816000565\n",
            "R2 vw -0.07103984218820643\n",
            "R2 ua 0.09308547816000565\n",
            "(10000, 40)\n",
            "(10000,)\n"
          ],
          "name": "stdout"
        }
      ]
    },
    {
      "cell_type": "code",
      "metadata": {
        "id": "IlF5bJweNXr-"
      },
      "source": [
        "# Predicting the Test set results\r\n",
        "y_pred = neigh.predict(H_test)"
      ],
      "execution_count": 24,
      "outputs": []
    },
    {
      "cell_type": "code",
      "metadata": {
        "id": "TUc7y4FVXz1l"
      },
      "source": [
        "y_prob = neigh.predict_proba(H_test)"
      ],
      "execution_count": 27,
      "outputs": []
    },
    {
      "cell_type": "code",
      "metadata": {
        "colab": {
          "base_uri": "https://localhost:8080/"
        },
        "id": "AngO2_FOY5o6",
        "outputId": "0d77018f-a542-4aa6-d825-a417af11ac4d"
      },
      "source": [
        "print(y_prob[0])"
      ],
      "execution_count": 32,
      "outputs": [
        {
          "output_type": "stream",
          "text": [
            "[0. 0. 0. 0. 0. 0. 0. 1. 0. 0.]\n"
          ],
          "name": "stdout"
        }
      ]
    },
    {
      "cell_type": "code",
      "metadata": {
        "colab": {
          "base_uri": "https://localhost:8080/"
        },
        "id": "6d9WylV_Ofnv",
        "outputId": "8d9682e0-4f48-43c4-f8ff-de9b69169e76"
      },
      "source": [
        "# Making the Confusion Matrix\r\n",
        "from sklearn.metrics import confusion_matrix\r\n",
        "cm = confusion_matrix(y_test, y_pred)\r\n",
        "print(cm)"
      ],
      "execution_count": 25,
      "outputs": [
        {
          "output_type": "stream",
          "text": [
            "[[ 962    0    3    4    1    4    6    0    0    0]\n",
            " [   0 1127    3    1    0    0    3    0    0    1]\n",
            " [  10    2  979    7    2    1    4    7   18    2]\n",
            " [   1    2    4  953    1    8    2   10   20    9]\n",
            " [   0    0    6    1  944    0    6    2    3   20]\n",
            " [   5    1    2   19    3  834   10    1    9    8]\n",
            " [   6    4    1    0    4    7  933    0    3    0]\n",
            " [   0   18   13    2    5    1    0  963    1   25]\n",
            " [   2    0    6   11    6   15    4    7  916    7]\n",
            " [   3    5    5   12   23    3    0   16    6  936]]\n"
          ],
          "name": "stdout"
        }
      ]
    },
    {
      "cell_type": "code",
      "metadata": {
        "colab": {
          "base_uri": "https://localhost:8080/"
        },
        "id": "nPIZp_ZERbpV",
        "outputId": "0eb0abec-dfd1-4039-d841-40f7d3441312"
      },
      "source": [
        "from sklearn.metrics import accuracy_score, classification_report\r\n",
        "print(accuracy_score(y_test, y_pred))\r\n",
        "print(classification_report(y_test, y_pred))"
      ],
      "execution_count": 26,
      "outputs": [
        {
          "output_type": "stream",
          "text": [
            "0.9547\n",
            "              precision    recall  f1-score   support\n",
            "\n",
            "           0       0.97      0.98      0.98       980\n",
            "           1       0.97      0.99      0.98      1135\n",
            "           2       0.96      0.95      0.95      1032\n",
            "           3       0.94      0.94      0.94      1010\n",
            "           4       0.95      0.96      0.96       982\n",
            "           5       0.96      0.93      0.95       892\n",
            "           6       0.96      0.97      0.97       958\n",
            "           7       0.96      0.94      0.95      1028\n",
            "           8       0.94      0.94      0.94       974\n",
            "           9       0.93      0.93      0.93      1009\n",
            "\n",
            "    accuracy                           0.95     10000\n",
            "   macro avg       0.95      0.95      0.95     10000\n",
            "weighted avg       0.95      0.95      0.95     10000\n",
            "\n"
          ],
          "name": "stdout"
        }
      ]
    },
    {
      "cell_type": "code",
      "metadata": {
        "id": "BIkeIePWSEcd"
      },
      "source": [
        ""
      ],
      "execution_count": null,
      "outputs": []
    }
  ]
}