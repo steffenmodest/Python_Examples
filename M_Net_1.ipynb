{
  "nbformat": 4,
  "nbformat_minor": 0,
  "metadata": {
    "colab": {
      "name": "M-Net_1",
      "provenance": [],
      "collapsed_sections": [],
      "authorship_tag": "ABX9TyNAt+AOyvZogxmqisd/XBxq",
      "include_colab_link": true
    },
    "kernelspec": {
      "name": "python3",
      "display_name": "Python 3"
    },
    "accelerator": "TPU"
  },
  "cells": [
    {
      "cell_type": "markdown",
      "metadata": {
        "id": "view-in-github",
        "colab_type": "text"
      },
      "source": [
        "<a href=\"https://colab.research.google.com/github/steffenmodest/Python_Examples/blob/Protocol/M_Net_1.ipynb\" target=\"_parent\"><img src=\"https://colab.research.google.com/assets/colab-badge.svg\" alt=\"Open In Colab\"/></a>"
      ]
    },
    {
      "cell_type": "code",
      "metadata": {
        "id": "BiRMJKUw4uJN"
      },
      "source": [
        "import os.path\r\n",
        "\r\n",
        "import numpy as np\r\n",
        "import pandas as pd\r\n",
        "import matplotlib.pyplot as plt\r\n",
        "from datetime import datetime\r\n",
        "\r\n",
        "rs = 23  # fester Random Seed"
      ],
      "execution_count": 40,
      "outputs": []
    },
    {
      "cell_type": "markdown",
      "metadata": {
        "id": "v7W9IXTQ-Nn6"
      },
      "source": [
        "Load Data"
      ]
    },
    {
      "cell_type": "code",
      "metadata": {
        "colab": {
          "base_uri": "https://localhost:8080/"
        },
        "id": "OkWXskSV9JUk",
        "outputId": "bc812008-4668-4126-dafe-7f07eb9f849a"
      },
      "source": [
        "from tensorflow.keras.datasets import fashion_mnist, mnist\r\n",
        "\r\n",
        "# Fashion MNIST Daten laden, wir wollen nur die Trainingsdaten und verwerfen die Testdaten\r\n",
        "# (X_train, y_train), (X_test, y_test) = fashion_mnist.load_data()\r\n",
        "(X_train, y_train), (X_test, y_test) = mnist.load_data()\r\n",
        "\r\n",
        "print(X_train.shape)\r\n",
        "print(X_test.shape)\r\n",
        "print(y_train.shape)\r\n",
        "print(y_test.shape)"
      ],
      "execution_count": 41,
      "outputs": [
        {
          "output_type": "stream",
          "text": [
            "(60000, 28, 28)\n",
            "(10000, 28, 28)\n",
            "(60000,)\n",
            "(10000,)\n"
          ],
          "name": "stdout"
        }
      ]
    },
    {
      "cell_type": "markdown",
      "metadata": {
        "id": "jlim3yjb70QK"
      },
      "source": [
        "Own Funs"
      ]
    },
    {
      "cell_type": "code",
      "metadata": {
        "id": "JMGlYaUOdE24"
      },
      "source": [
        "def ifelse(a):\r\n",
        "  if a == 0:\r\n",
        "    return 1\r\n",
        "  else:\r\n",
        "    return a\r\n",
        "\r\n",
        "\r\n",
        "def rms_norm(v_x):\r\n",
        "  n_rms = np.sqrt(np.sum(v_x ** 2)/(len(v_x) - 1))\r\n",
        "  return v_x/n_rms\r\n",
        "\r\n",
        "\r\n",
        "def prot_row(d_results):\r\n",
        "    \"\"\"\r\n",
        "    make a new row in protokoll\r\n",
        "\r\n",
        "    Parameters\r\n",
        "    ----------\r\n",
        "    outcome : TYPE\r\n",
        "        DESCRIPTION.\r\n",
        "\r\n",
        "    Returns\r\n",
        "    -------\r\n",
        "    None.\r\n",
        "\r\n",
        "    \"\"\"\r\n",
        "    \r\n",
        "    prot_file = 'M-Net_Protocol.xlsx'\r\n",
        "    if os.path.isfile(prot_file):\r\n",
        "        df_prot = pd.read_excel (prot_file)\r\n",
        "        df_prot = df_prot.append(d_results, \r\n",
        "                          ignore_index=True)\r\n",
        "    else:\r\n",
        "        df_prot = pd.DataFrame.from_dict(d_results)\r\n",
        "        # df_prot = pd.DataFrame(columns=('TIMESTAMP', \r\n",
        "        #                                 'NUMBER_OF_HIDDEN', \r\n",
        "        #                                 'ACCURACY_SCORE', \r\n",
        "        #                                 'MAE_1ST_FL',\r\n",
        "        #                                 'MSE_1ST_FL',\r\n",
        "        #                                 'R2_1ST_FL',\r\n",
        "        #                                 'MAE_1ST_BA',\r\n",
        "        #                                 'MSE_1ST_BA',\r\n",
        "        #                                 'R2_1ST_BA',\r\n",
        "        #                                 'MAE_2ND_FL',\r\n",
        "        #                                 'MSE_2ND_FL',\r\n",
        "        #                                 'R2_2ND_FL',\r\n",
        "        #                                 'MAE_2ND_BA',\r\n",
        "        #                                 'MSE_2ND_BA',\r\n",
        "        #                                 'R2_2ND_BA',\r\n",
        "        #                                 'MSG'))\r\n",
        "        \r\n",
        "    # s_outcome = outcome.partition('<msg>')[2]\r\n",
        "    # s_outcome = s_outcome.partition('</msg>')[0]\r\n",
        "    # s_outcome = s_outcome.partition('Set ')[2]\r\n",
        "    # s_set = s_outcome.partition(' ')[0]\r\n",
        "    # s_msg = s_outcome.partition(' ')[2]\r\n",
        "    \r\n",
        "    # s_outcome = s_outcome.strip(',()')\r\n",
        "    # l_outcome = s_outcome.split(',')\r\n",
        "    # df_prot = df_prot.append({'TIMESTAMP':datetime.now(),\r\n",
        "    #                           'RESULT': result,\r\n",
        "    #                           'SAS_SET':int(s_set),\r\n",
        "    #                           'MSG':s_msg,\r\n",
        "    #                           'COUNT':n_len}, ignore_index=True)\r\n",
        "    \r\n",
        "    # df_prot = df_prot.append(d_results, \r\n",
        "    #                          ignore_index=True)\r\n",
        "    df_prot.to_excel(prot_file, index=False)\r\n",
        "        \r\n",
        "    return None"
      ],
      "execution_count": 31,
      "outputs": []
    },
    {
      "cell_type": "markdown",
      "metadata": {
        "id": "FEmVcmBC765i"
      },
      "source": [
        "Params and Results"
      ]
    },
    {
      "cell_type": "code",
      "metadata": {
        "id": "P85EafID7-W3"
      },
      "source": [
        "params = {'N_HIDDEN': 47}\r\n",
        "results = {'NUMBER_OF_HIDDEN': params['N_HIDDEN'],\r\n",
        "          'ACCURACY_SCORE': 0, \r\n",
        "          'MAE_1ST_FL': 0,\r\n",
        "          'MSE_1ST_FL': 0,\r\n",
        "          'R2_1ST_FL': 0,\r\n",
        "          'MAE_1ST_BA': 0,\r\n",
        "          'MSE_1ST_BA': 0,\r\n",
        "          'R2_1ST_BA': 0,\r\n",
        "          'MAE_2ND_FL': 0,\r\n",
        "          'MSE_2ND_FL': 0,\r\n",
        "          'R2_2ND_FL': 0,\r\n",
        "          'MAE_2ND_BA': 0,\r\n",
        "          'MSE_2ND_BA': 0,\r\n",
        "          'R2_2ND_BA': 0,\r\n",
        "          'MSG':'M-Net on python'}"
      ],
      "execution_count": 56,
      "outputs": []
    },
    {
      "cell_type": "code",
      "metadata": {
        "id": "bnQ7DCTbCVmX",
        "outputId": "258d8895-011c-48fb-a524-b77498083bf1",
        "colab": {
          "base_uri": "https://localhost:8080/"
        }
      },
      "source": [
        "results"
      ],
      "execution_count": 59,
      "outputs": [
        {
          "output_type": "execute_result",
          "data": {
            "text/plain": [
              "{'ACCURACY_SCORE': 0,\n",
              " 'MAE_1ST_BA': 0,\n",
              " 'MAE_1ST_FL': 0.438,\n",
              " 'MAE_2ND_BA': 0,\n",
              " 'MAE_2ND_FL': 0,\n",
              " 'MSE_1ST_BA': 0,\n",
              " 'MSE_1ST_FL': 0.593,\n",
              " 'MSE_2ND_BA': 0,\n",
              " 'MSE_2ND_FL': 0,\n",
              " 'MSG': 'M-Net on python',\n",
              " 'NUMBER_OF_HIDDEN': 47,\n",
              " 'R2_1ST_BA': 0,\n",
              " 'R2_1ST_FL': -1286.242,\n",
              " 'R2_2ND_BA': 0,\n",
              " 'R2_2ND_FL': 0}"
            ]
          },
          "metadata": {
            "tags": []
          },
          "execution_count": 59
        }
      ]
    },
    {
      "cell_type": "markdown",
      "metadata": {
        "id": "ZIUroMbRAalY"
      },
      "source": [
        "Preprocess data"
      ]
    },
    {
      "cell_type": "markdown",
      "metadata": {
        "id": "PFdez5n4fGzR"
      },
      "source": [
        "NEW Norm"
      ]
    },
    {
      "cell_type": "code",
      "metadata": {
        "id": "-8ErTTfidPh4"
      },
      "source": [
        "X = X_train.reshape(len(X_train), -1).astype('int')\r\n",
        "X = pd.DataFrame(X)\r\n",
        "X = X.applymap(ifelse)\r\n",
        "X = X.apply(rms_norm, axis=1)\r\n",
        "X = np.array(X)"
      ],
      "execution_count": 44,
      "outputs": []
    },
    {
      "cell_type": "code",
      "metadata": {
        "colab": {
          "base_uri": "https://localhost:8080/"
        },
        "id": "N4zT45_vd8gJ",
        "outputId": "f5ba10fa-1175-446c-9b8e-b31d2feeb4ed"
      },
      "source": [
        "X"
      ],
      "execution_count": 45,
      "outputs": [
        {
          "output_type": "execute_result",
          "data": {
            "text/plain": [
              "array([[0.01148061, 0.01148061, 0.01148061, ..., 0.01148061, 0.01148061,\n",
              "        0.01148061],\n",
              "       [0.01076957, 0.01076957, 0.01076957, ..., 0.01076957, 0.01076957,\n",
              "        0.01076957],\n",
              "       [0.01425251, 0.01425251, 0.01425251, ..., 0.01425251, 0.01425251,\n",
              "        0.01425251],\n",
              "       ...,\n",
              "       [0.01299969, 0.01299969, 0.01299969, ..., 0.01299969, 0.01299969,\n",
              "        0.01299969],\n",
              "       [0.01400668, 0.01400668, 0.01400668, ..., 0.01400668, 0.01400668,\n",
              "        0.01400668],\n",
              "       [0.01375564, 0.01375564, 0.01375564, ..., 0.01375564, 0.01375564,\n",
              "        0.01375564]])"
            ]
          },
          "metadata": {
            "tags": []
          },
          "execution_count": 45
        }
      ]
    },
    {
      "cell_type": "code",
      "metadata": {
        "colab": {
          "base_uri": "https://localhost:8080/"
        },
        "id": "vG-KCjq_AYkG",
        "outputId": "83679d43-6654-4ea9-9534-17cb06b7db0d"
      },
      "source": [
        "from sklearn.pipeline import Pipeline\r\n",
        "from sklearn.preprocessing import StandardScaler, Normalizer, MinMaxScaler, FunctionTransformer\r\n",
        "from sklearn.metrics import mean_absolute_error, mean_squared_error, r2_score\r\n",
        "\r\n",
        "# Plätte 2D Bild in einen Vektor:\r\n",
        "# Reshape behält die Anzahl Element in der ersten Dimension (len(X_orig) -> #Bilder)\r\n",
        "# die restlichen Zellen des Arrays (-1 -> Pixel) bekommen alle ihre eigene Dimension\r\n",
        "# X = X_train.reshape(len(X_train), -1).astype('float64')\r\n",
        "\r\n",
        "# # Dimensionen um den Mittelpunkt zentrieren\r\n",
        "# preproccessing = StandardScaler()\r\n",
        "# X = preproccessing.fit_transform(X)\r\n",
        "# X = np.array(X)\r\n",
        "\r\n",
        "print (\"Originaldaten:\")\r\n",
        "print(\"Shape: {}, Mean: {:f}, STD: {:f}\".format(X_train.shape, np.mean(X_train), np.std(X_train)))\r\n",
        "\r\n",
        "print (\"Vorbereitete Daten:\")\r\n",
        "print(\"Shape: {}, Mean: {:f}, STD: {:f}\".format(X.shape, np.mean(X), np.std(X)))"
      ],
      "execution_count": 46,
      "outputs": [
        {
          "output_type": "stream",
          "text": [
            "Originaldaten:\n",
            "Shape: (60000, 28, 28), Mean: 33.318421, STD: 78.567490\n",
            "Vorbereitete Daten:\n",
            "Shape: (60000, 784), Mean: 0.396041, STD: 0.917538\n"
          ],
          "name": "stdout"
        }
      ]
    },
    {
      "cell_type": "markdown",
      "metadata": {
        "id": "lbpaEp8-ChlG"
      },
      "source": [
        "Create Hidden Activations"
      ]
    },
    {
      "cell_type": "code",
      "metadata": {
        "colab": {
          "base_uri": "https://localhost:8080/"
        },
        "id": "O6SBu62b9Sky",
        "outputId": "62beb0f2-471e-4b4e-c55d-bf921397ad98"
      },
      "source": [
        "H = np.random.rand(60000, params['N_HIDDEN'])\r\n",
        "print(H.shape)\r\n",
        "print(H)"
      ],
      "execution_count": 47,
      "outputs": [
        {
          "output_type": "stream",
          "text": [
            "(60000, 47)\n",
            "[[0.76698671 0.15224302 0.38386216 ... 0.08177844 0.90891421 0.17231748]\n",
            " [0.07967899 0.64019002 0.60553739 ... 0.05185562 0.14796193 0.90810176]\n",
            " [0.41193242 0.43120971 0.0055453  ... 0.71492125 0.50228483 0.38522493]\n",
            " ...\n",
            " [0.51536431 0.63376455 0.98916293 ... 0.6367384  0.92647823 0.66765817]\n",
            " [0.35274112 0.90261053 0.17914327 ... 0.33058589 0.45580698 0.89094583]\n",
            " [0.89669648 0.37682444 0.62679282 ... 0.81718993 0.3284485  0.20389433]]\n"
          ],
          "name": "stdout"
        }
      ]
    },
    {
      "cell_type": "markdown",
      "metadata": {
        "id": "3W8_KWaMCmpe"
      },
      "source": [
        "1st Forward Learn"
      ]
    },
    {
      "cell_type": "code",
      "metadata": {
        "colab": {
          "base_uri": "https://localhost:8080/"
        },
        "id": "7qf5L17T4Npb",
        "outputId": "83ea0377-4ed0-4ab1-c3d7-029653030d29"
      },
      "source": [
        "import numpy as np\r\n",
        "from sklearn.linear_model import LinearRegression\r\n",
        "\r\n",
        "reg = LinearRegression().fit(H, X)\r\n",
        "print(reg.score(H, X))\r\n",
        "X_pred = reg.predict(H)\r\n",
        "\r\n",
        "results['MAE_1ST_FL'] = round(mean_absolute_error(X_pred, X), 3)\r\n",
        "results['MSE_1ST_FL'] = round(mean_squared_error(X_pred, X), 3)\r\n",
        "results['R2_1ST_FL'] = round(r2_score(X_pred, X, multioutput=\"variance_weighted\"), 3)\r\n",
        "\r\n",
        "print(f'MAE {mean_absolute_error(X_pred, X)}')\r\n",
        "print(f'MSE {mean_squared_error(X_pred, X)}')\r\n",
        "print(f'R2 {r2_score(X_pred, X)}')\r\n",
        "print(f'R2 vw {r2_score(X_pred, X, multioutput=\"variance_weighted\")}')\r\n",
        "print(f'R2 ua {r2_score(X_pred, X, multioutput=\"uniform_average\")}')\r\n",
        "\r\n",
        "W = reg.coef_\r\n",
        "print(W.shape)\r\n",
        "WI = reg.intercept_\r\n",
        "print(WI.shape)"
      ],
      "execution_count": 58,
      "outputs": [
        {
          "output_type": "stream",
          "text": [
            "/usr/local/lib/python3.6/dist-packages/sklearn/base.py:434: FutureWarning: The default value of multioutput (not exposed in score method) will change from 'variance_weighted' to 'uniform_average' in 0.23 to keep consistent with 'metrics.r2_score'. To specify the default value manually and avoid the warning, please either call 'metrics.r2_score' directly or make a custom scorer with 'metrics.make_scorer' (the built-in scorer 'r2' uses multioutput='uniform_average').\n",
            "  \"multioutput='uniform_average').\", FutureWarning)\n"
          ],
          "name": "stderr"
        },
        {
          "output_type": "stream",
          "text": [
            "0.0007762516957600187\n",
            "MAE 0.43755518984205777\n",
            "MSE 0.5934450042598118\n",
            "R2 -1296.9983977631955\n",
            "R2 vw -1286.2419522712282\n",
            "R2 ua -1296.9983977631955\n",
            "(784, 47)\n",
            "(784,)\n"
          ],
          "name": "stdout"
        }
      ]
    },
    {
      "cell_type": "markdown",
      "metadata": {
        "id": "yYL74vKOCss2"
      },
      "source": [
        "1st Back Activations"
      ]
    },
    {
      "cell_type": "code",
      "metadata": {
        "id": "rat3oCtciJ9x"
      },
      "source": [
        "# # X = X_train.reshape(len(X_train), -1).astype('int')\r\n",
        "# W = pd.DataFrame(W)\r\n",
        "# # X = X.applymap(ifelse)\r\n",
        "# W = W.apply(rms_norm)\r\n",
        "# W = np.array(X)"
      ],
      "execution_count": null,
      "outputs": []
    },
    {
      "cell_type": "code",
      "metadata": {
        "colab": {
          "base_uri": "https://localhost:8080/"
        },
        "id": "j2p9rcyI4dcK",
        "outputId": "4e6836bc-51bb-4d73-e581-8aee317725ce"
      },
      "source": [
        "XT = X.transpose()\r\n",
        "print(f'shape of X_train {X.shape} and X_train transposed {XT.shape}')\r\n",
        "\r\n",
        "reg = LinearRegression().fit(W, XT)\r\n",
        "print(reg.score(W, XT))\r\n",
        "XT_pred = reg.predict(W)\r\n",
        "print(f'MAE {mean_absolute_error(XT_pred, XT)}')\r\n",
        "print(f'MSE {mean_squared_error(XT_pred, XT)}')\r\n",
        "print(f'R2 {r2_score(XT_pred, XT)}')\r\n",
        "print(f'R2 vw {r2_score(XT_pred, XT, multioutput=\"variance_weighted\")}')\r\n",
        "print(f'R2 ua {r2_score(XT_pred, XT, multioutput=\"uniform_average\")}')\r\n",
        "\r\n",
        "H_new = reg.coef_\r\n",
        "print(H_new.shape)\r\n",
        "HI = reg.intercept_\r\n",
        "print(HI.shape)"
      ],
      "execution_count": 12,
      "outputs": [
        {
          "output_type": "stream",
          "text": [
            "shape of X_train (60000, 784) and X_train transposed (784, 60000)\n"
          ],
          "name": "stdout"
        },
        {
          "output_type": "stream",
          "text": [
            "/usr/local/lib/python3.6/dist-packages/sklearn/base.py:434: FutureWarning: The default value of multioutput (not exposed in score method) will change from 'variance_weighted' to 'uniform_average' in 0.23 to keep consistent with 'metrics.r2_score'. To specify the default value manually and avoid the warning, please either call 'metrics.r2_score' directly or make a custom scorer with 'metrics.make_scorer' (the built-in scorer 'r2' uses multioutput='uniform_average').\n",
            "  \"multioutput='uniform_average').\", FutureWarning)\n"
          ],
          "name": "stderr"
        },
        {
          "output_type": "stream",
          "text": [
            "0.5503781540173167\n",
            "MAE 0.45070693403875034\n",
            "MSE 0.3770613092389211\n",
            "R2 0.14888888940256373\n",
            "R2 vw 0.1830674188268436\n",
            "R2 ua 0.14888888940256373\n",
            "(60000, 47)\n",
            "(60000,)\n"
          ],
          "name": "stdout"
        }
      ]
    },
    {
      "cell_type": "markdown",
      "metadata": {
        "id": "dNzKvgmixxyY"
      },
      "source": [
        "Hidden Norm"
      ]
    },
    {
      "cell_type": "code",
      "metadata": {
        "id": "pdeH0Ua6x0LH"
      },
      "source": [
        "# X = H_new_train.reshape(len(H_new_train), -1).astype('int')\r\n",
        "H_new = pd.DataFrame(H_new)\r\n",
        "# H_new = H_new.applymap(ifelse)\r\n",
        "H_new = H_new.apply(rms_norm, axis=1)\r\n",
        "H_new = np.array(H_new)"
      ],
      "execution_count": 13,
      "outputs": []
    },
    {
      "cell_type": "markdown",
      "metadata": {
        "id": "zuXNkE6hGXbO"
      },
      "source": [
        "2nd Forward learn - result are Coherent Weights"
      ]
    },
    {
      "cell_type": "code",
      "metadata": {
        "colab": {
          "base_uri": "https://localhost:8080/"
        },
        "id": "prT-plGDGbrQ",
        "outputId": "4d848da1-48aa-4a63-96f4-219b41e06aa9"
      },
      "source": [
        "reg = LinearRegression().fit(H_new, X)\r\n",
        "print(reg.score(H_new, X))\r\n",
        "X_pred = reg.predict(H_new)\r\n",
        "print(f'MAE {mean_absolute_error(X_pred, X)}')\r\n",
        "print(f'MSE {mean_squared_error(X_pred, X)}')\r\n",
        "print(f'R2 {r2_score(X_pred, X)}')\r\n",
        "print(f'R2 vw {r2_score(X_pred, X, multioutput=\"variance_weighted\")}')\r\n",
        "print(f'R2 ua {r2_score(X_pred, X, multioutput=\"uniform_average\")}')\r\n",
        "\r\n",
        "W = reg.coef_\r\n",
        "print(W.shape)\r\n",
        "WI = reg.intercept_\r\n",
        "print(WI.shape)"
      ],
      "execution_count": 14,
      "outputs": [
        {
          "output_type": "stream",
          "text": [
            "/usr/local/lib/python3.6/dist-packages/sklearn/base.py:434: FutureWarning: The default value of multioutput (not exposed in score method) will change from 'variance_weighted' to 'uniform_average' in 0.23 to keep consistent with 'metrics.r2_score'. To specify the default value manually and avoid the warning, please either call 'metrics.r2_score' directly or make a custom scorer with 'metrics.make_scorer' (the built-in scorer 'r2' uses multioutput='uniform_average').\n",
            "  \"multioutput='uniform_average').\", FutureWarning)\n"
          ],
          "name": "stderr"
        },
        {
          "output_type": "stream",
          "text": [
            "0.7420401249643278\n",
            "MAE 0.21152485290296427\n",
            "MSE 0.1532039239451645\n",
            "R2 -12.498669437080768\n",
            "R2 vw 0.6523639809261351\n",
            "R2 ua -12.498669437080768\n",
            "(784, 47)\n",
            "(784,)\n"
          ],
          "name": "stdout"
        }
      ]
    },
    {
      "cell_type": "markdown",
      "metadata": {
        "id": "QQm_Dd-RJ3Q-"
      },
      "source": [
        "2nd Back Activation - final representation of X_train in Hidden Activations"
      ]
    },
    {
      "cell_type": "code",
      "metadata": {
        "colab": {
          "base_uri": "https://localhost:8080/"
        },
        "id": "Ti-h4fmn4tKY",
        "outputId": "509f7de8-ebe3-4425-b87a-73a00d4b0d3d"
      },
      "source": [
        "reg = LinearRegression().fit(W, XT)\r\n",
        "print(reg.score(W, XT))\r\n",
        "XT_pred = reg.predict(W)\r\n",
        "print(f'MAE {mean_absolute_error(XT_pred, XT)}')\r\n",
        "print(f'MSE {mean_squared_error(XT_pred, XT)}')\r\n",
        "print(f'R2 vw {r2_score(XT_pred, XT, multioutput=\"variance_weighted\")}')\r\n",
        "print(f'R2 ua {r2_score(XT_pred, XT, multioutput=\"uniform_average\")}')\r\n",
        "\r\n",
        "H_new = reg.coef_\r\n",
        "print(H_new.shape)\r\n",
        "HI = reg.intercept_\r\n",
        "print(HI.shape)"
      ],
      "execution_count": 15,
      "outputs": [
        {
          "output_type": "stream",
          "text": [
            "/usr/local/lib/python3.6/dist-packages/sklearn/base.py:434: FutureWarning: The default value of multioutput (not exposed in score method) will change from 'variance_weighted' to 'uniform_average' in 0.23 to keep consistent with 'metrics.r2_score'. To specify the default value manually and avoid the warning, please either call 'metrics.r2_score' directly or make a custom scorer with 'metrics.make_scorer' (the built-in scorer 'r2' uses multioutput='uniform_average').\n",
            "  \"multioutput='uniform_average').\", FutureWarning)\n"
          ],
          "name": "stderr"
        },
        {
          "output_type": "stream",
          "text": [
            "0.7854812913253687\n",
            "MAE 0.29005513499063856\n",
            "MSE 0.17989941074218724\n",
            "R2 vw 0.7268952029237173\n",
            "R2 ua 0.715949996888594\n",
            "(60000, 47)\n",
            "(60000,)\n"
          ],
          "name": "stdout"
        }
      ]
    },
    {
      "cell_type": "code",
      "metadata": {
        "id": "gkDe8CIJywnO"
      },
      "source": [
        "# X = H_new_train.reshape(len(H_new_train), -1).astype('int')\r\n",
        "H_new = pd.DataFrame(H_new)\r\n",
        "# H_new = H_new.applymap(ifelse)\r\n",
        "H_new = H_new.apply(rms_norm, axis=1)\r\n",
        "H_new = np.array(H_new)"
      ],
      "execution_count": 16,
      "outputs": []
    },
    {
      "cell_type": "markdown",
      "metadata": {
        "id": "o6coHZMrLna9"
      },
      "source": [
        "KNN test with Hidden Activations"
      ]
    },
    {
      "cell_type": "code",
      "metadata": {
        "id": "371e-fLufZA9"
      },
      "source": [
        "X = X_test.reshape(len(X_test), -1).astype('int')\r\n",
        "X = pd.DataFrame(X)\r\n",
        "X = X.applymap(ifelse)\r\n",
        "X = X.apply(rms_norm, axis=1)\r\n",
        "X = np.array(X)"
      ],
      "execution_count": 17,
      "outputs": []
    },
    {
      "cell_type": "code",
      "metadata": {
        "colab": {
          "base_uri": "https://localhost:8080/"
        },
        "id": "GlQidejSLkNv",
        "outputId": "72963eb3-5be4-4211-eeac-7ff733f05266"
      },
      "source": [
        "# X = [[0], [1], [2], [3]]\r\n",
        "# y = [0, 0, 1, 1]\r\n",
        "\r\n",
        "# Plätte 2D Bild in einen Vektor:\r\n",
        "# Reshape behält die Anzahl Element in der ersten Dimension (len(X_orig) -> #Bilder)\r\n",
        "# die restlichen Zellen des Arrays (-1 -> Pixel) bekommen alle ihre eigene Dimension\r\n",
        "# X_p_test = X_test.reshape(len(X_test), -1).astype('float64')\r\n",
        "\r\n",
        "# # Dimensionen um den Mittelpunkt zentrieren\r\n",
        "# preproccessing = StandardScaler()\r\n",
        "# X_p_test = preproccessing.fit_transform(X_p_test)\r\n",
        "\r\n",
        "print (\"Originaldaten:\")\r\n",
        "print(\"Shape: {}, Mean: {:f}, STD: {:f}\".format(X_test.shape, np.mean(X_test), np.std(X_test)))\r\n",
        "\r\n",
        "print (\"Vorbereitete Daten:\")\r\n",
        "print(\"Shape: {}, Mean: {:f}, STD: {:f}\".format(X.shape, np.mean(X), np.std(X)))\r\n",
        "\r\n",
        "from sklearn.neighbors import KNeighborsClassifier\r\n",
        "neigh = KNeighborsClassifier(n_neighbors=5, n_jobs=-1, weights='distance')\r\n",
        "neigh.fit(H_new, y_train)\r\n",
        "\r\n",
        "# print(neigh.predict([[1.1]]))\r\n",
        "\r\n",
        "# print(neigh.predict_proba([[0.9]]))"
      ],
      "execution_count": 18,
      "outputs": [
        {
          "output_type": "stream",
          "text": [
            "Originaldaten:\n",
            "Shape: (10000, 28, 28), Mean: 33.791224, STD: 79.172463\n",
            "Vorbereitete Daten:\n",
            "Shape: (10000, 784), Mean: 0.398067, STD: 0.916661\n"
          ],
          "name": "stdout"
        },
        {
          "output_type": "execute_result",
          "data": {
            "text/plain": [
              "KNeighborsClassifier(algorithm='auto', leaf_size=30, metric='minkowski',\n",
              "                     metric_params=None, n_jobs=-1, n_neighbors=5, p=2,\n",
              "                     weights='distance')"
            ]
          },
          "metadata": {
            "tags": []
          },
          "execution_count": 18
        }
      ]
    },
    {
      "cell_type": "markdown",
      "metadata": {
        "id": "a_ntlc-AQVpU"
      },
      "source": [
        "Back Activation of Test Data"
      ]
    },
    {
      "cell_type": "code",
      "metadata": {
        "colab": {
          "base_uri": "https://localhost:8080/"
        },
        "id": "qynKZ5tSQadw",
        "outputId": "cb261cd5-f661-4490-f8fd-5381d57f5a9d"
      },
      "source": [
        "XT = X.transpose()\r\n",
        "print(f'shape of X_p_train {X.shape} and X_p_train transposed {XT.shape}')\r\n",
        "\r\n",
        "reg = LinearRegression().fit(W, XT)\r\n",
        "print(reg.score(W, XT))\r\n",
        "XT_pred = reg.predict(W)\r\n",
        "print(f'MAE {mean_absolute_error(XT_pred, XT)}')\r\n",
        "print(f'MSE {mean_squared_error(XT_pred, XT)}')\r\n",
        "print(f'R2 {r2_score(XT_pred, XT)}')\r\n",
        "print(f'R2 vw {r2_score(XT_pred, XT, multioutput=\"variance_weighted\")}')\r\n",
        "print(f'R2 ua {r2_score(XT_pred, XT, multioutput=\"uniform_average\")}')\r\n",
        "\r\n",
        "H_test = reg.coef_\r\n",
        "print(H_test.shape)\r\n",
        "HI_test = reg.intercept_\r\n",
        "print(HI_test.shape)"
      ],
      "execution_count": 19,
      "outputs": [
        {
          "output_type": "stream",
          "text": [
            "shape of X_p_train (10000, 784) and X_p_train transposed (784, 10000)\n"
          ],
          "name": "stdout"
        },
        {
          "output_type": "stream",
          "text": [
            "/usr/local/lib/python3.6/dist-packages/sklearn/base.py:434: FutureWarning: The default value of multioutput (not exposed in score method) will change from 'variance_weighted' to 'uniform_average' in 0.23 to keep consistent with 'metrics.r2_score'. To specify the default value manually and avoid the warning, please either call 'metrics.r2_score' directly or make a custom scorer with 'metrics.make_scorer' (the built-in scorer 'r2' uses multioutput='uniform_average').\n",
            "  \"multioutput='uniform_average').\", FutureWarning)\n"
          ],
          "name": "stderr"
        },
        {
          "output_type": "stream",
          "text": [
            "0.7912424379251364\n",
            "MAE 0.2870582230781911\n",
            "MSE 0.17472950898481382\n",
            "R2 0.7268773205363537\n",
            "R2 vw 0.7361648565990903\n",
            "R2 ua 0.7268773205363537\n",
            "(10000, 47)\n",
            "(10000,)\n"
          ],
          "name": "stdout"
        }
      ]
    },
    {
      "cell_type": "code",
      "metadata": {
        "id": "r8G69WEYzGOu"
      },
      "source": [
        "# X = H_new_train.reshape(len(H_new_train), -1).astype('int')\r\n",
        "H_test = pd.DataFrame(H_test)\r\n",
        "# H_new = H_new.applymap(ifelse)\r\n",
        "H_test = H_test.apply(rms_norm, axis=1)\r\n",
        "H_test = np.array(H_test)"
      ],
      "execution_count": 20,
      "outputs": []
    },
    {
      "cell_type": "code",
      "metadata": {
        "id": "IlF5bJweNXr-"
      },
      "source": [
        "# Predicting the Test set results\r\n",
        "y_pred = neigh.predict(H_test)"
      ],
      "execution_count": 21,
      "outputs": []
    },
    {
      "cell_type": "code",
      "metadata": {
        "id": "TUc7y4FVXz1l"
      },
      "source": [
        "# y_prob = neigh.predict_proba(H_test)"
      ],
      "execution_count": null,
      "outputs": []
    },
    {
      "cell_type": "code",
      "metadata": {
        "colab": {
          "base_uri": "https://localhost:8080/"
        },
        "id": "AngO2_FOY5o6",
        "outputId": "c174fa4c-f810-4690-8711-810c13c33a70"
      },
      "source": [
        "# print(y_prob[0])"
      ],
      "execution_count": null,
      "outputs": [
        {
          "output_type": "stream",
          "text": [
            "[0. 0. 0. 0. 0. 0. 0. 1. 0. 0.]\n"
          ],
          "name": "stdout"
        }
      ]
    },
    {
      "cell_type": "code",
      "metadata": {
        "colab": {
          "base_uri": "https://localhost:8080/"
        },
        "id": "6d9WylV_Ofnv",
        "outputId": "bf410b77-ec45-47f8-ff01-df235120475a"
      },
      "source": [
        "# Making the Confusion Matrix\r\n",
        "from sklearn.metrics import confusion_matrix\r\n",
        "cm = confusion_matrix(y_test, y_pred)\r\n",
        "print(cm)"
      ],
      "execution_count": 22,
      "outputs": [
        {
          "output_type": "stream",
          "text": [
            "[[ 976    1    0    0    0    0    1    1    0    1]\n",
            " [   0 1132    2    0    0    0    1    0    0    0]\n",
            " [   9    0 1001    3    1    0    1   12    5    0]\n",
            " [   0    0    2  980    1    9    0    7    8    3]\n",
            " [   2    4    1    0  944    0    5    1    2   23]\n",
            " [   4    0    0   12    1  851    9    1    9    5]\n",
            " [   8    2    0    0    2    1  944    0    1    0]\n",
            " [   2   13   10    1    4    1    0  986    1   10]\n",
            " [   7    1    3   10    3    9    5    3  929    4]\n",
            " [   6    4    3    5    5    2    1    6    5  972]]\n"
          ],
          "name": "stdout"
        }
      ]
    },
    {
      "cell_type": "code",
      "metadata": {
        "colab": {
          "base_uri": "https://localhost:8080/"
        },
        "id": "nPIZp_ZERbpV",
        "outputId": "07b15fc5-9e3d-4a73-d5e3-c39bb86c2ecc"
      },
      "source": [
        "from sklearn.metrics import accuracy_score, classification_report\r\n",
        "print(accuracy_score(y_test, y_pred))\r\n",
        "print(classification_report(y_test, y_pred))"
      ],
      "execution_count": 23,
      "outputs": [
        {
          "output_type": "stream",
          "text": [
            "0.9715\n",
            "              precision    recall  f1-score   support\n",
            "\n",
            "           0       0.96      1.00      0.98       980\n",
            "           1       0.98      1.00      0.99      1135\n",
            "           2       0.98      0.97      0.97      1032\n",
            "           3       0.97      0.97      0.97      1010\n",
            "           4       0.98      0.96      0.97       982\n",
            "           5       0.97      0.95      0.96       892\n",
            "           6       0.98      0.99      0.98       958\n",
            "           7       0.97      0.96      0.96      1028\n",
            "           8       0.97      0.95      0.96       974\n",
            "           9       0.95      0.96      0.96      1009\n",
            "\n",
            "    accuracy                           0.97     10000\n",
            "   macro avg       0.97      0.97      0.97     10000\n",
            "weighted avg       0.97      0.97      0.97     10000\n",
            "\n"
          ],
          "name": "stdout"
        }
      ]
    },
    {
      "cell_type": "code",
      "metadata": {
        "id": "BIkeIePWSEcd"
      },
      "source": [
        "prot_row(results)"
      ],
      "execution_count": 60,
      "outputs": []
    }
  ]
}