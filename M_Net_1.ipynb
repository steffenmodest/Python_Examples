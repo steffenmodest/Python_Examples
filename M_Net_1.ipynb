{
  "nbformat": 4,
  "nbformat_minor": 0,
  "metadata": {
    "colab": {
      "name": "M-Net_1",
      "provenance": [],
      "collapsed_sections": [],
      "toc_visible": true,
      "authorship_tag": "ABX9TyOAQStPSutdheYYF7yllfGp",
      "include_colab_link": true
    },
    "kernelspec": {
      "name": "python385jvsc74a57bd055fbbc34578867cc69883bfb8dd9489e285a54cb6b6140d8076f8cd41350922e",
      "display_name": "Python 3.8.5 64-bit ('M-Net': conda)"
    },
    "accelerator": "TPU"
  },
  "cells": [
    {
      "cell_type": "markdown",
      "metadata": {
        "id": "view-in-github",
        "colab_type": "text"
      },
      "source": [
        "<a href=\"https://colab.research.google.com/github/steffenmodest/Python_Examples/blob/Protocol/M_Net_1.ipynb\" target=\"_parent\"><img src=\"https://colab.research.google.com/assets/colab-badge.svg\" alt=\"Open In Colab\"/></a>"
      ]
    },
    {
      "cell_type": "code",
      "metadata": {
        "id": "BiRMJKUw4uJN"
      },
      "source": [
        "import os.path\n",
        "\n",
        "import numpy as np\n",
        "import pandas as pd\n",
        "import matplotlib.pyplot as plt\n",
        "\n",
        "from datetime import datetime\n",
        "\n",
        "rs = 23  # fester Random Seed"
      ],
      "execution_count": 1,
      "outputs": []
    },
    {
      "cell_type": "code",
      "metadata": {
        "id": "B4Dxqo7zygEJ"
      },
      "source": [
        "# from google.colab import drive\n",
        "# drive.mount('/content/drive')"
      ],
      "execution_count": 2,
      "outputs": []
    },
    {
      "cell_type": "markdown",
      "metadata": {
        "id": "v7W9IXTQ-Nn6"
      },
      "source": [
        "Load Data"
      ]
    },
    {
      "cell_type": "code",
      "metadata": {
        "colab": {
          "base_uri": "https://localhost:8080/"
        },
        "id": "OkWXskSV9JUk",
        "outputId": "517d992e-2cd2-470b-a8e8-160a9302b860"
      },
      "source": [
        "from tensorflow.keras.datasets import fashion_mnist, mnist\n",
        "\n",
        "# Fashion MNIST Daten laden, wir wollen nur die Trainingsdaten und verwerfen die Testdaten\n",
        "# (X_train, y_train), (X_test, y_test) = fashion_mnist.load_data()\n",
        "(X_train, y_train), (X_test, y_test) = mnist.load_data()\n",
        "\n",
        "print(X_train.shape)\n",
        "print(X_test.shape)\n",
        "print(y_train.shape)\n",
        "print(y_test.shape)"
      ],
      "execution_count": 3,
      "outputs": [
        {
          "output_type": "stream",
          "name": "stdout",
          "text": [
            "(60000, 28, 28)\n(10000, 28, 28)\n(60000,)\n(10000,)\n"
          ]
        }
      ]
    },
    {
      "cell_type": "markdown",
      "metadata": {
        "id": "jlim3yjb70QK"
      },
      "source": [
        "Own Funs"
      ]
    },
    {
      "cell_type": "code",
      "metadata": {
        "id": "JMGlYaUOdE24"
      },
      "source": [
        "def ifelse(a):\n",
        "  if a == 0:\n",
        "    return 1\n",
        "  else:\n",
        "    return a\n",
        "\n",
        "\n",
        "def rms_norm(v_x):\n",
        "  n_rms = np.sqrt(np.sum(v_x ** 2)/(len(v_x) - 1))\n",
        "  return v_x/n_rms\n",
        "\n",
        "\n",
        "def prot_row(d_results):\n",
        "    \"\"\"\n",
        "    make a new row in protokoll\n",
        "\n",
        "    Parameters\n",
        "    ----------\n",
        "    outcome : TYPE\n",
        "        DESCRIPTION.\n",
        "\n",
        "    Returns\n",
        "    -------\n",
        "    None.\n",
        "\n",
        "    \"\"\"\n",
        "    \n",
        "    prot_file = 'M-Net_Protocol.xlsx'\n",
        "    # prot_file = '/content/sample_data/M-Net_Protocol.xlsx'\n",
        "    if os.path.isfile(prot_file):\n",
        "        df_prot = pd.read_excel (prot_file)\n",
        "        df_prot = df_prot.append(d_results, \n",
        "                          ignore_index=True)\n",
        "    else:\n",
        "        # df_prot = pd.DataFrame.from_dict(d_results)\n",
        "        df_prot = pd.DataFrame([results])\n",
        "        # pf_prot = pd.DataFrame.from_records([d_results], index='TIMESTAMP')\n",
        "        # df_prot = pd.DataFrame(columns=('TIMESTAMP', \n",
        "        #                                 'NUMBER_OF_HIDDEN', \n",
        "        #                                 'ACCURACY_SCORE', \n",
        "        #                                 'MAE_1ST_FL',\n",
        "        #                                 'MSE_1ST_FL',\n",
        "        #                                 'R2_1ST_FL',\n",
        "        #                                 'MAE_1ST_BA',\n",
        "        #                                 'MSE_1ST_BA',\n",
        "        #                                 'R2_1ST_BA',\n",
        "        #                                 'MAE_2ND_FL',\n",
        "        #                                 'MSE_2ND_FL',\n",
        "        #                                 'R2_2ND_FL',\n",
        "        #                                 'MAE_2ND_BA',\n",
        "        #                                 'MSE_2ND_BA',\n",
        "        #                                 'R2_2ND_BA',\n",
        "        #                                 'MSG'))\n",
        "        \n",
        "    # s_outcome = outcome.partition('<msg>')[2]\n",
        "    # s_outcome = s_outcome.partition('</msg>')[0]\n",
        "    # s_outcome = s_outcome.partition('Set ')[2]\n",
        "    # s_set = s_outcome.partition(' ')[0]\n",
        "    # s_msg = s_outcome.partition(' ')[2]\n",
        "    \n",
        "    # s_outcome = s_outcome.strip(',()')\n",
        "    # l_outcome = s_outcome.split(',')\n",
        "    # df_prot = df_prot.append({'TIMESTAMP':datetime.now(),\n",
        "    #                           'RESULT': result,\n",
        "    #                           'SAS_SET':int(s_set),\n",
        "    #                           'MSG':s_msg,\n",
        "    #                           'COUNT':n_len}, ignore_index=True)\n",
        "    \n",
        "    # df_prot = df_prot.append(d_results, \n",
        "    #                          ignore_index=True)\n",
        "    df_prot.to_excel(prot_file, index=False)\n",
        "        \n",
        "    return None"
      ],
      "execution_count": 4,
      "outputs": []
    },
    {
      "cell_type": "markdown",
      "metadata": {
        "id": "FEmVcmBC765i"
      },
      "source": [
        "Params and Results"
      ]
    },
    {
      "cell_type": "code",
      "metadata": {
        "id": "P85EafID7-W3"
      },
      "source": [
        "params = {'N_HIDDEN': 10}\n",
        "results = {'TIMESTAMP': datetime.now(),\n",
        "           'NUMBER_OF_HIDDEN': params['N_HIDDEN'],\n",
        "          'ACCURACY_SCORE': 0, \n",
        "          'MAE_1ST_FL': 0,\n",
        "          'MSE_1ST_FL': 0,\n",
        "          'R2_1ST_FL': 0,\n",
        "          'MAE_1ST_BA': 0,\n",
        "          'MSE_1ST_BA': 0,\n",
        "          'R2_1ST_BA': 0,\n",
        "          'MAE_2ND_FL': 0,\n",
        "          'MSE_2ND_FL': 0,\n",
        "          'R2_2ND_FL': 0,\n",
        "          'MAE_2ND_BA': 0,\n",
        "          'MSE_2ND_BA': 0,\n",
        "          'R2_2ND_BA': 0,\n",
        "          'MAE_TEST_BA': 0,\n",
        "          'MSE_TEST_BA': 0,\n",
        "          'R2_TEST_BA': 0,\n",
        "          'DICT_REPORT': '',\n",
        "          'MSG':'M-Net on python'}"
      ],
      "execution_count": 5,
      "outputs": []
    },
    {
      "cell_type": "code",
      "metadata": {
        "colab": {
          "base_uri": "https://localhost:8080/"
        },
        "id": "bnQ7DCTbCVmX",
        "outputId": "4d44642e-c7a8-4860-945b-fd44808176fa"
      },
      "source": [
        "results"
      ],
      "execution_count": 6,
      "outputs": [
        {
          "output_type": "execute_result",
          "data": {
            "text/plain": [
              "{'TIMESTAMP': datetime.datetime(2021, 4, 16, 23, 12, 55, 883612),\n",
              " 'NUMBER_OF_HIDDEN': 10,\n",
              " 'ACCURACY_SCORE': 0,\n",
              " 'MAE_1ST_FL': 0,\n",
              " 'MSE_1ST_FL': 0,\n",
              " 'R2_1ST_FL': 0,\n",
              " 'MAE_1ST_BA': 0,\n",
              " 'MSE_1ST_BA': 0,\n",
              " 'R2_1ST_BA': 0,\n",
              " 'MAE_2ND_FL': 0,\n",
              " 'MSE_2ND_FL': 0,\n",
              " 'R2_2ND_FL': 0,\n",
              " 'MAE_2ND_BA': 0,\n",
              " 'MSE_2ND_BA': 0,\n",
              " 'R2_2ND_BA': 0,\n",
              " 'MAE_TEST_BA': 0,\n",
              " 'MSE_TEST_BA': 0,\n",
              " 'R2_TEST_BA': 0,\n",
              " 'DICT_REPORT': '',\n",
              " 'MSG': 'M-Net on python'}"
            ]
          },
          "metadata": {},
          "execution_count": 6
        }
      ]
    },
    {
      "cell_type": "markdown",
      "metadata": {
        "id": "ZIUroMbRAalY"
      },
      "source": [
        "Preprocess data"
      ]
    },
    {
      "cell_type": "code",
      "execution_count": 7,
      "metadata": {},
      "outputs": [],
      "source": [
        "prot_row(results)"
      ]
    },
    {
      "cell_type": "markdown",
      "metadata": {
        "id": "PFdez5n4fGzR"
      },
      "source": [
        "NEW Norm"
      ]
    },
    {
      "cell_type": "code",
      "metadata": {
        "id": "-8ErTTfidPh4"
      },
      "source": [
        "X = X_train.reshape(len(X_train), -1).astype('int')\r\n",
        "X = pd.DataFrame(X)\r\n",
        "X = X.applymap(ifelse)\r\n",
        "X = X.apply(rms_norm, axis=1)\r\n",
        "X = np.array(X)"
      ],
      "execution_count": 8,
      "outputs": []
    },
    {
      "cell_type": "code",
      "metadata": {
        "colab": {
          "base_uri": "https://localhost:8080/"
        },
        "id": "N4zT45_vd8gJ",
        "outputId": "882bff91-26e2-4ad7-cb9c-89058a0086b5"
      },
      "source": [
        "X"
      ],
      "execution_count": 9,
      "outputs": [
        {
          "output_type": "execute_result",
          "data": {
            "text/plain": [
              "array([[0.01148061, 0.01148061, 0.01148061, ..., 0.01148061, 0.01148061,\n",
              "        0.01148061],\n",
              "       [0.01076957, 0.01076957, 0.01076957, ..., 0.01076957, 0.01076957,\n",
              "        0.01076957],\n",
              "       [0.01425251, 0.01425251, 0.01425251, ..., 0.01425251, 0.01425251,\n",
              "        0.01425251],\n",
              "       ...,\n",
              "       [0.01299969, 0.01299969, 0.01299969, ..., 0.01299969, 0.01299969,\n",
              "        0.01299969],\n",
              "       [0.01400668, 0.01400668, 0.01400668, ..., 0.01400668, 0.01400668,\n",
              "        0.01400668],\n",
              "       [0.01375564, 0.01375564, 0.01375564, ..., 0.01375564, 0.01375564,\n",
              "        0.01375564]])"
            ]
          },
          "metadata": {},
          "execution_count": 9
        }
      ]
    },
    {
      "cell_type": "code",
      "metadata": {
        "colab": {
          "base_uri": "https://localhost:8080/"
        },
        "id": "vG-KCjq_AYkG",
        "outputId": "0551d9a1-d5b4-4c5a-b0cb-61cc298649bc"
      },
      "source": [
        "from sklearn.pipeline import Pipeline\r\n",
        "from sklearn.preprocessing import StandardScaler, Normalizer, MinMaxScaler, FunctionTransformer\r\n",
        "from sklearn.metrics import mean_absolute_error, mean_squared_error, r2_score\r\n",
        "\r\n",
        "# Plätte 2D Bild in einen Vektor:\r\n",
        "# Reshape behält die Anzahl Element in der ersten Dimension (len(X_orig) -> #Bilder)\r\n",
        "# die restlichen Zellen des Arrays (-1 -> Pixel) bekommen alle ihre eigene Dimension\r\n",
        "# X = X_train.reshape(len(X_train), -1).astype('float64')\r\n",
        "\r\n",
        "# # Dimensionen um den Mittelpunkt zentrieren\r\n",
        "# preproccessing = StandardScaler()\r\n",
        "# X = preproccessing.fit_transform(X)\r\n",
        "# X = np.array(X)\r\n",
        "\r\n",
        "print (\"Originaldaten:\")\r\n",
        "print(\"Shape: {}, Mean: {:f}, STD: {:f}\".format(X_train.shape, np.mean(X_train), np.std(X_train)))\r\n",
        "\r\n",
        "print (\"Vorbereitete Daten:\")\r\n",
        "print(\"Shape: {}, Mean: {:f}, STD: {:f}\".format(X.shape, np.mean(X), np.std(X)))"
      ],
      "execution_count": 10,
      "outputs": [
        {
          "output_type": "stream",
          "name": "stdout",
          "text": [
            "Originaldaten:\n",
            "Shape: (60000, 28, 28), Mean: 33.318421, STD: 78.567490\n",
            "Vorbereitete Daten:\n",
            "Shape: (60000, 784), Mean: 0.396041, STD: 0.917538\n"
          ]
        }
      ]
    },
    {
      "cell_type": "markdown",
      "metadata": {
        "id": "lbpaEp8-ChlG"
      },
      "source": [
        "Create Hidden Activations"
      ]
    },
    {
      "cell_type": "code",
      "metadata": {
        "colab": {
          "base_uri": "https://localhost:8080/"
        },
        "id": "O6SBu62b9Sky",
        "outputId": "1de1cf9b-905c-4c41-b746-48dffe13ad60"
      },
      "source": [
        "H = np.random.rand(60000, params['N_HIDDEN'])\r\n",
        "print(H.shape)\r\n",
        "print(H)"
      ],
      "execution_count": 11,
      "outputs": [
        {
          "output_type": "stream",
          "name": "stdout",
          "text": [
            "(60000, 10)\n[[0.51199882 0.79209962 0.89410479 ... 0.76735254 0.5282281  0.92742326]\n [0.24833398 0.21328955 0.8465505  ... 0.18923217 0.38287134 0.61052366]\n [0.71379627 0.67007006 0.08354901 ... 0.33061485 0.16229715 0.63615999]\n ...\n [0.30819182 0.83523741 0.25343739 ... 0.1779576  0.67317072 0.24075655]\n [0.1459305  0.05859992 0.38403147 ... 0.39574445 0.54412118 0.48807615]\n [0.83322608 0.51053665 0.2352269  ... 0.84615442 0.86533197 0.17271619]]\n"
          ]
        }
      ]
    },
    {
      "cell_type": "markdown",
      "metadata": {
        "id": "3W8_KWaMCmpe"
      },
      "source": [
        "1st Forward Learn"
      ]
    },
    {
      "cell_type": "code",
      "metadata": {
        "colab": {
          "base_uri": "https://localhost:8080/"
        },
        "id": "7qf5L17T4Npb",
        "outputId": "c1f95dbb-ab04-4c4d-daaf-77d3de426d9a"
      },
      "source": [
        "import numpy as np\r\n",
        "from sklearn.linear_model import LinearRegression\r\n",
        "\r\n",
        "reg = LinearRegression().fit(H, X)\r\n",
        "print(reg.score(H, X))\r\n",
        "X_pred = reg.predict(H)\r\n",
        "\r\n",
        "results['MAE_1ST_FL'] = round(mean_absolute_error(X_pred, X), 3)\r\n",
        "results['MSE_1ST_FL'] = round(mean_squared_error(X_pred, X), 3)\r\n",
        "results['R2_1ST_FL'] = round(r2_score(X_pred, X, multioutput=\"variance_weighted\"), 3)\r\n",
        "\r\n",
        "print(f'MAE {mean_absolute_error(X_pred, X)}')\r\n",
        "print(f'MSE {mean_squared_error(X_pred, X)}')\r\n",
        "print(f'R2 {r2_score(X_pred, X)}')\r\n",
        "print(f'R2 vw {r2_score(X_pred, X, multioutput=\"variance_weighted\")}')\r\n",
        "print(f'R2 ua {r2_score(X_pred, X, multioutput=\"uniform_average\")}')\r\n",
        "\r\n",
        "W = reg.coef_\r\n",
        "print(W.shape)\r\n",
        "WI = reg.intercept_\r\n",
        "print(WI.shape)"
      ],
      "execution_count": 12,
      "outputs": [
        {
          "output_type": "stream",
          "name": "stdout",
          "text": [
            "0.00018522488514982716\n",
            "MAE 0.43775997454043447\n",
            "MSE 0.5937982569743558\n",
            "R2 -6790.300958782893\n",
            "R2 vw -5508.976195508291\n",
            "R2 ua -6790.300958782893\n",
            "(784, 10)\n",
            "(784,)\n"
          ]
        }
      ]
    },
    {
      "cell_type": "markdown",
      "metadata": {
        "id": "yYL74vKOCss2"
      },
      "source": [
        "1st Back Activations"
      ]
    },
    {
      "cell_type": "code",
      "metadata": {
        "id": "rat3oCtciJ9x"
      },
      "source": [
        "# # X = X_train.reshape(len(X_train), -1).astype('int')\r\n",
        "# W = pd.DataFrame(W)\r\n",
        "# # X = X.applymap(ifelse)\r\n",
        "# W = W.apply(rms_norm)\r\n",
        "# W = np.array(X)"
      ],
      "execution_count": 13,
      "outputs": []
    },
    {
      "cell_type": "code",
      "metadata": {
        "colab": {
          "base_uri": "https://localhost:8080/"
        },
        "id": "j2p9rcyI4dcK",
        "outputId": "2feb8ed0-8b03-4b62-f664-016a5cf71842"
      },
      "source": [
        "XT = X.transpose()\r\n",
        "print(f'shape of X_train {X.shape} and X_train transposed {XT.shape}')\r\n",
        "\r\n",
        "reg = LinearRegression().fit(W, XT)\r\n",
        "print(reg.score(W, XT))\r\n",
        "XT_pred = reg.predict(W)\r\n",
        "\r\n",
        "results['MAE_1ST_BA'] = round(mean_absolute_error(XT_pred, XT), 3)\r\n",
        "results['MSE_1ST_BA'] = round(mean_squared_error(XT_pred, XT), 3)\r\n",
        "results['R2_1ST_BA'] = round(r2_score(XT_pred, XT, multioutput=\"variance_weighted\"), 3)\r\n",
        "\r\n",
        "print(f'MAE {mean_absolute_error(XT_pred, XT)}')\r\n",
        "print(f'MSE {mean_squared_error(XT_pred, XT)}')\r\n",
        "print(f'R2 {r2_score(XT_pred, XT)}')\r\n",
        "print(f'R2 vw {r2_score(XT_pred, XT, multioutput=\"variance_weighted\")}')\r\n",
        "print(f'R2 ua {r2_score(XT_pred, XT, multioutput=\"uniform_average\")}')\r\n",
        "\r\n",
        "H_new = reg.coef_\r\n",
        "print(H_new.shape)\r\n",
        "HI = reg.intercept_\r\n",
        "print(HI.shape)"
      ],
      "execution_count": 14,
      "outputs": [
        {
          "output_type": "stream",
          "name": "stdout",
          "text": [
            "shape of X_train (60000, 784) and X_train transposed (784, 60000)\n",
            "0.19942704879920192\n",
            "MAE 0.5751535870453993\n",
            "MSE 0.6704785582025172\n",
            "R2 -3.917118476837708\n",
            "R2 vw -2.987616296745072\n",
            "R2 ua -3.917118476837708\n",
            "(60000, 10)\n",
            "(60000,)\n"
          ]
        }
      ]
    },
    {
      "cell_type": "markdown",
      "metadata": {
        "id": "dNzKvgmixxyY"
      },
      "source": [
        "Hidden Norm"
      ]
    },
    {
      "cell_type": "code",
      "metadata": {
        "id": "pdeH0Ua6x0LH"
      },
      "source": [
        "# X = H_new_train.reshape(len(H_new_train), -1).astype('int')\r\n",
        "H_new = pd.DataFrame(H_new)\r\n",
        "# H_new = H_new.applymap(ifelse)\r\n",
        "H_new = H_new.apply(rms_norm, axis=1)\r\n",
        "H_new = np.array(H_new)"
      ],
      "execution_count": 15,
      "outputs": []
    },
    {
      "cell_type": "markdown",
      "metadata": {
        "id": "zuXNkE6hGXbO"
      },
      "source": [
        "2nd Forward learn - result are Coherent Weights"
      ]
    },
    {
      "cell_type": "code",
      "metadata": {
        "colab": {
          "base_uri": "https://localhost:8080/"
        },
        "id": "prT-plGDGbrQ",
        "outputId": "23ac4998-9c1e-4c40-f02b-585df161f26b"
      },
      "source": [
        "reg = LinearRegression().fit(H_new, X)\r\n",
        "print(reg.score(H_new, X))\r\n",
        "X_pred = reg.predict(H_new)\r\n",
        "\r\n",
        "results['MAE_2ND_FL'] = round(mean_absolute_error(X_pred, X), 3)\r\n",
        "results['MSE_2ND_FL'] = round(mean_squared_error(X_pred, X), 3)\r\n",
        "results['R2_2ND_FL'] = round(r2_score(X_pred, X, multioutput=\"variance_weighted\"), 3)\r\n",
        "\r\n",
        "print(f'MAE {mean_absolute_error(X_pred, X)}')\r\n",
        "print(f'MSE {mean_squared_error(X_pred, X)}')\r\n",
        "print(f'R2 {r2_score(X_pred, X)}')\r\n",
        "print(f'R2 vw {r2_score(X_pred, X, multioutput=\"variance_weighted\")}')\r\n",
        "print(f'R2 ua {r2_score(X_pred, X, multioutput=\"uniform_average\")}')\r\n",
        "\r\n",
        "W = reg.coef_\r\n",
        "print(W.shape)\r\n",
        "WI = reg.intercept_\r\n",
        "print(WI.shape)"
      ],
      "execution_count": 16,
      "outputs": [
        {
          "output_type": "stream",
          "name": "stdout",
          "text": [
            "0.2085879325513491\n",
            "MAE 0.33007999324528847\n",
            "MSE 0.38353793694105576\n",
            "R2 -41.94903718406265\n",
            "R2 vw -0.8231754673937641\n",
            "R2 ua -41.94903718406265\n",
            "(784, 10)\n",
            "(784,)\n"
          ]
        }
      ]
    },
    {
      "cell_type": "markdown",
      "metadata": {
        "id": "QQm_Dd-RJ3Q-"
      },
      "source": [
        "2nd Back Activation - final representation of X_train in Hidden Activations"
      ]
    },
    {
      "cell_type": "code",
      "metadata": {
        "colab": {
          "base_uri": "https://localhost:8080/"
        },
        "id": "Ti-h4fmn4tKY",
        "outputId": "b0672a1b-baf4-431c-a57c-d82f65d07f25"
      },
      "source": [
        "reg = LinearRegression().fit(W, XT)\r\n",
        "print(reg.score(W, XT))\r\n",
        "XT_pred = reg.predict(W)\r\n",
        "\r\n",
        "results['MAE_2ND_BA'] = round(mean_absolute_error(XT_pred, XT), 3)\r\n",
        "results['MSE_2ND_BA'] = round(mean_squared_error(XT_pred, XT), 3)\r\n",
        "results['R2_2ND_BA'] = round(r2_score(XT_pred, XT, multioutput=\"variance_weighted\"), 3)\r\n",
        "\r\n",
        "print(f'MAE {mean_absolute_error(XT_pred, XT)}')\r\n",
        "print(f'MSE {mean_squared_error(XT_pred, XT)}')\r\n",
        "print(f'R2 vw {r2_score(XT_pred, XT, multioutput=\"variance_weighted\")}')\r\n",
        "print(f'R2 ua {r2_score(XT_pred, XT, multioutput=\"uniform_average\")}')\r\n",
        "\r\n",
        "H_new = reg.coef_\r\n",
        "print(H_new.shape)\r\n",
        "HI = reg.intercept_\r\n",
        "print(HI.shape)"
      ],
      "execution_count": 17,
      "outputs": [
        {
          "output_type": "stream",
          "name": "stdout",
          "text": [
            "0.38818569034280376\n",
            "MAE 0.5181485526671504\n",
            "MSE 0.5118462962683661\n",
            "R2 vw -0.5663691802804929\n",
            "R2 ua -0.8427834634543515\n",
            "(60000, 10)\n",
            "(60000,)\n"
          ]
        }
      ]
    },
    {
      "cell_type": "code",
      "metadata": {
        "id": "gkDe8CIJywnO"
      },
      "source": [
        "# X = H_new_train.reshape(len(H_new_train), -1).astype('int')\r\n",
        "H_new = pd.DataFrame(H_new)\r\n",
        "# H_new = H_new.applymap(ifelse)\r\n",
        "H_new = H_new.apply(rms_norm, axis=1)\r\n",
        "H_new = np.array(H_new)"
      ],
      "execution_count": 18,
      "outputs": []
    },
    {
      "cell_type": "markdown",
      "metadata": {
        "id": "o6coHZMrLna9"
      },
      "source": [
        "KNN test with Hidden Activations"
      ]
    },
    {
      "cell_type": "code",
      "metadata": {
        "id": "371e-fLufZA9"
      },
      "source": [
        "X = X_test.reshape(len(X_test), -1).astype('int')\r\n",
        "X = pd.DataFrame(X)\r\n",
        "X = X.applymap(ifelse)\r\n",
        "X = X.apply(rms_norm, axis=1)\r\n",
        "X = np.array(X)"
      ],
      "execution_count": 19,
      "outputs": []
    },
    {
      "cell_type": "code",
      "metadata": {
        "colab": {
          "base_uri": "https://localhost:8080/"
        },
        "id": "GlQidejSLkNv",
        "outputId": "2eaad343-0c2e-45ad-badd-8148fe7201f7"
      },
      "source": [
        "# X = [[0], [1], [2], [3]]\r\n",
        "# y = [0, 0, 1, 1]\r\n",
        "\r\n",
        "# Plätte 2D Bild in einen Vektor:\r\n",
        "# Reshape behält die Anzahl Element in der ersten Dimension (len(X_orig) -> #Bilder)\r\n",
        "# die restlichen Zellen des Arrays (-1 -> Pixel) bekommen alle ihre eigene Dimension\r\n",
        "# X_p_test = X_test.reshape(len(X_test), -1).astype('float64')\r\n",
        "\r\n",
        "# # Dimensionen um den Mittelpunkt zentrieren\r\n",
        "# preproccessing = StandardScaler()\r\n",
        "# X_p_test = preproccessing.fit_transform(X_p_test)\r\n",
        "\r\n",
        "print (\"Originaldaten:\")\r\n",
        "print(\"Shape: {}, Mean: {:f}, STD: {:f}\".format(X_test.shape, np.mean(X_test), np.std(X_test)))\r\n",
        "\r\n",
        "print (\"Vorbereitete Daten:\")\r\n",
        "print(\"Shape: {}, Mean: {:f}, STD: {:f}\".format(X.shape, np.mean(X), np.std(X)))\r\n",
        "\r\n",
        "from sklearn.neighbors import KNeighborsClassifier\r\n",
        "neigh = KNeighborsClassifier(n_neighbors=5, n_jobs=-1, weights='distance')\r\n",
        "neigh.fit(H_new, y_train)\r\n",
        "\r\n",
        "# print(neigh.predict([[1.1]]))\r\n",
        "\r\n",
        "# print(neigh.predict_proba([[0.9]]))"
      ],
      "execution_count": 20,
      "outputs": [
        {
          "output_type": "stream",
          "name": "stdout",
          "text": [
            "Originaldaten:\nShape: (10000, 28, 28), Mean: 33.791224, STD: 79.172463\nVorbereitete Daten:\nShape: (10000, 784), Mean: 0.398067, STD: 0.916661\n"
          ]
        },
        {
          "output_type": "execute_result",
          "data": {
            "text/plain": [
              "KNeighborsClassifier(n_jobs=-1, weights='distance')"
            ]
          },
          "metadata": {},
          "execution_count": 20
        }
      ]
    },
    {
      "cell_type": "markdown",
      "metadata": {
        "id": "a_ntlc-AQVpU"
      },
      "source": [
        "Back Activation of Test Data"
      ]
    },
    {
      "cell_type": "code",
      "metadata": {
        "colab": {
          "base_uri": "https://localhost:8080/"
        },
        "id": "qynKZ5tSQadw",
        "outputId": "690ede93-e068-4e54-9fc9-45f45fa2bf61"
      },
      "source": [
        "XT = X.transpose()\r\n",
        "print(f'shape of X_p_train {X.shape} and X_p_train transposed {XT.shape}')\r\n",
        "\r\n",
        "reg = LinearRegression().fit(W, XT)\r\n",
        "print(reg.score(W, XT))\r\n",
        "XT_pred = reg.predict(W)\r\n",
        "\r\n",
        "results['MAE_TEST_BA'] = round(mean_absolute_error(XT_pred, XT), 3)\r\n",
        "results['MSE_TEST_BA'] = round(mean_squared_error(XT_pred, XT), 3)\r\n",
        "results['R2_TEST_BA'] = round(r2_score(XT_pred, XT, multioutput=\"variance_weighted\"), 3)\r\n",
        "\r\n",
        "print(f'MAE {mean_absolute_error(XT_pred, XT)}')\r\n",
        "print(f'MSE {mean_squared_error(XT_pred, XT)}')\r\n",
        "print(f'R2 {r2_score(XT_pred, XT)}')\r\n",
        "print(f'R2 vw {r2_score(XT_pred, XT, multioutput=\"variance_weighted\")}')\r\n",
        "print(f'R2 ua {r2_score(XT_pred, XT, multioutput=\"uniform_average\")}')\r\n",
        "\r\n",
        "H_test = reg.coef_\r\n",
        "print(H_test.shape)\r\n",
        "HI_test = reg.intercept_\r\n",
        "print(HI_test.shape)"
      ],
      "execution_count": 21,
      "outputs": [
        {
          "output_type": "stream",
          "name": "stdout",
          "text": [
            "shape of X_p_train (10000, 784) and X_p_train transposed (784, 10000)\n",
            "0.3931287617795535\n",
            "MAE 0.5172530397145618\n",
            "MSE 0.5066449049643522\n",
            "R2 -0.7898492137891091\n",
            "R2 vw -0.5336500135270926\n",
            "R2 ua -0.7898492137891091\n",
            "(10000, 10)\n",
            "(10000,)\n"
          ]
        }
      ]
    },
    {
      "cell_type": "code",
      "metadata": {
        "id": "r8G69WEYzGOu"
      },
      "source": [
        "# X = H_new_train.reshape(len(H_new_train), -1).astype('int')\r\n",
        "H_test = pd.DataFrame(H_test)\r\n",
        "# H_new = H_new.applymap(ifelse)\r\n",
        "H_test = H_test.apply(rms_norm, axis=1)\r\n",
        "H_test = np.array(H_test)"
      ],
      "execution_count": 22,
      "outputs": []
    },
    {
      "cell_type": "code",
      "metadata": {
        "id": "IlF5bJweNXr-"
      },
      "source": [
        "# Predicting the Test set results\n",
        "y_pred = neigh.predict(H_test)\n"
      ],
      "execution_count": 25,
      "outputs": [
        {
          "output_type": "error",
          "ename": "KeyboardInterrupt",
          "evalue": "",
          "traceback": [
            "\u001b[1;31m---------------------------------------------------------------------------\u001b[0m",
            "\u001b[1;31mKeyboardInterrupt\u001b[0m                         Traceback (most recent call last)",
            "\u001b[1;32m<ipython-input-25-966a9e28929c>\u001b[0m in \u001b[0;36m<module>\u001b[1;34m\u001b[0m\n\u001b[0;32m      1\u001b[0m \u001b[0mbreakpoint\u001b[0m\u001b[1;33m(\u001b[0m\u001b[1;33m)\u001b[0m\u001b[1;33m\u001b[0m\u001b[1;33m\u001b[0m\u001b[0m\n\u001b[0;32m      2\u001b[0m \u001b[1;31m# Predicting the Test set results\u001b[0m\u001b[1;33m\u001b[0m\u001b[1;33m\u001b[0m\u001b[1;33m\u001b[0m\u001b[0m\n\u001b[1;32m----> 3\u001b[1;33m \u001b[0my_pred\u001b[0m \u001b[1;33m=\u001b[0m \u001b[0mneigh\u001b[0m\u001b[1;33m.\u001b[0m\u001b[0mpredict\u001b[0m\u001b[1;33m(\u001b[0m\u001b[0mH_test\u001b[0m\u001b[1;33m)\u001b[0m\u001b[1;33m\u001b[0m\u001b[1;33m\u001b[0m\u001b[0m\n\u001b[0m",
            "\u001b[1;32m<ipython-input-25-966a9e28929c>\u001b[0m in \u001b[0;36m<module>\u001b[1;34m\u001b[0m\n\u001b[0;32m      1\u001b[0m \u001b[0mbreakpoint\u001b[0m\u001b[1;33m(\u001b[0m\u001b[1;33m)\u001b[0m\u001b[1;33m\u001b[0m\u001b[1;33m\u001b[0m\u001b[0m\n\u001b[0;32m      2\u001b[0m \u001b[1;31m# Predicting the Test set results\u001b[0m\u001b[1;33m\u001b[0m\u001b[1;33m\u001b[0m\u001b[1;33m\u001b[0m\u001b[0m\n\u001b[1;32m----> 3\u001b[1;33m \u001b[0my_pred\u001b[0m \u001b[1;33m=\u001b[0m \u001b[0mneigh\u001b[0m\u001b[1;33m.\u001b[0m\u001b[0mpredict\u001b[0m\u001b[1;33m(\u001b[0m\u001b[0mH_test\u001b[0m\u001b[1;33m)\u001b[0m\u001b[1;33m\u001b[0m\u001b[1;33m\u001b[0m\u001b[0m\n\u001b[0m",
            "\u001b[1;32m_pydevd_bundle/pydevd_cython.pyx\u001b[0m in \u001b[0;36m_pydevd_bundle.pydevd_cython.SafeCallWrapper.__call__\u001b[1;34m()\u001b[0m\n",
            "\u001b[1;32m_pydevd_bundle/pydevd_cython.pyx\u001b[0m in \u001b[0;36m_pydevd_bundle.pydevd_cython.PyDBFrame.trace_dispatch\u001b[1;34m()\u001b[0m\n",
            "\u001b[1;32m_pydevd_bundle/pydevd_cython.pyx\u001b[0m in \u001b[0;36m_pydevd_bundle.pydevd_cython.PyDBFrame.trace_dispatch\u001b[1;34m()\u001b[0m\n",
            "\u001b[1;32m_pydevd_bundle/pydevd_cython.pyx\u001b[0m in \u001b[0;36m_pydevd_bundle.pydevd_cython.PyDBFrame.trace_dispatch\u001b[1;34m()\u001b[0m\n",
            "\u001b[1;32m_pydevd_bundle/pydevd_cython.pyx\u001b[0m in \u001b[0;36m_pydevd_bundle.pydevd_cython.PyDBFrame.do_wait_suspend\u001b[1;34m()\u001b[0m\n",
            "\u001b[1;32mc:\\Users\\Usuario\\.vscode\\extensions\\ms-python.python-2021.3.680753044\\pythonFiles\\lib\\python\\debugpy\\_vendored\\pydevd\\pydevd.py\u001b[0m in \u001b[0;36mdo_wait_suspend\u001b[1;34m(self, thread, frame, event, arg, exception_type)\u001b[0m\n\u001b[0;32m   1853\u001b[0m \u001b[1;33m\u001b[0m\u001b[0m\n\u001b[0;32m   1854\u001b[0m             \u001b[1;32mwith\u001b[0m \u001b[0mself\u001b[0m\u001b[1;33m.\u001b[0m\u001b[0m_threads_suspended_single_notification\u001b[0m\u001b[1;33m.\u001b[0m\u001b[0mnotify_thread_suspended\u001b[0m\u001b[1;33m(\u001b[0m\u001b[0mthread_id\u001b[0m\u001b[1;33m,\u001b[0m \u001b[0mstop_reason\u001b[0m\u001b[1;33m)\u001b[0m\u001b[1;33m:\u001b[0m\u001b[1;33m\u001b[0m\u001b[1;33m\u001b[0m\u001b[0m\n\u001b[1;32m-> 1855\u001b[1;33m                 \u001b[0mkeep_suspended\u001b[0m \u001b[1;33m=\u001b[0m \u001b[0mself\u001b[0m\u001b[1;33m.\u001b[0m\u001b[0m_do_wait_suspend\u001b[0m\u001b[1;33m(\u001b[0m\u001b[0mthread\u001b[0m\u001b[1;33m,\u001b[0m \u001b[0mframe\u001b[0m\u001b[1;33m,\u001b[0m \u001b[0mevent\u001b[0m\u001b[1;33m,\u001b[0m \u001b[0marg\u001b[0m\u001b[1;33m,\u001b[0m \u001b[0msuspend_type\u001b[0m\u001b[1;33m,\u001b[0m \u001b[0mfrom_this_thread\u001b[0m\u001b[1;33m,\u001b[0m \u001b[0mframes_tracker\u001b[0m\u001b[1;33m)\u001b[0m\u001b[1;33m\u001b[0m\u001b[1;33m\u001b[0m\u001b[0m\n\u001b[0m\u001b[0;32m   1856\u001b[0m \u001b[1;33m\u001b[0m\u001b[0m\n\u001b[0;32m   1857\u001b[0m         \u001b[0mframes_list\u001b[0m \u001b[1;33m=\u001b[0m \u001b[1;32mNone\u001b[0m\u001b[1;33m\u001b[0m\u001b[1;33m\u001b[0m\u001b[0m\n",
            "\u001b[1;32mc:\\Users\\Usuario\\.vscode\\extensions\\ms-python.python-2021.3.680753044\\pythonFiles\\lib\\python\\debugpy\\_vendored\\pydevd\\pydevd.py\u001b[0m in \u001b[0;36m_do_wait_suspend\u001b[1;34m(self, thread, frame, event, arg, suspend_type, from_this_thread, frames_tracker)\u001b[0m\n\u001b[0;32m   1888\u001b[0m \u001b[1;33m\u001b[0m\u001b[0m\n\u001b[0;32m   1889\u001b[0m             \u001b[0mself\u001b[0m\u001b[1;33m.\u001b[0m\u001b[0mprocess_internal_commands\u001b[0m\u001b[1;33m(\u001b[0m\u001b[1;33m)\u001b[0m\u001b[1;33m\u001b[0m\u001b[1;33m\u001b[0m\u001b[0m\n\u001b[1;32m-> 1890\u001b[1;33m             \u001b[0mtime\u001b[0m\u001b[1;33m.\u001b[0m\u001b[0msleep\u001b[0m\u001b[1;33m(\u001b[0m\u001b[1;36m0.01\u001b[0m\u001b[1;33m)\u001b[0m\u001b[1;33m\u001b[0m\u001b[1;33m\u001b[0m\u001b[0m\n\u001b[0m\u001b[0;32m   1891\u001b[0m \u001b[1;33m\u001b[0m\u001b[0m\n\u001b[0;32m   1892\u001b[0m         \u001b[0mself\u001b[0m\u001b[1;33m.\u001b[0m\u001b[0mcancel_async_evaluation\u001b[0m\u001b[1;33m(\u001b[0m\u001b[0mget_current_thread_id\u001b[0m\u001b[1;33m(\u001b[0m\u001b[0mthread\u001b[0m\u001b[1;33m)\u001b[0m\u001b[1;33m,\u001b[0m \u001b[0mstr\u001b[0m\u001b[1;33m(\u001b[0m\u001b[0mid\u001b[0m\u001b[1;33m(\u001b[0m\u001b[0mframe\u001b[0m\u001b[1;33m)\u001b[0m\u001b[1;33m)\u001b[0m\u001b[1;33m)\u001b[0m\u001b[1;33m\u001b[0m\u001b[1;33m\u001b[0m\u001b[0m\n",
            "\u001b[1;31mKeyboardInterrupt\u001b[0m: "
          ]
        }
      ]
    },
    {
      "cell_type": "code",
      "execution_count": 34,
      "metadata": {},
      "outputs": [
        {
          "output_type": "execute_result",
          "data": {
            "text/plain": [
              "      0  1\n",
              "0     7  7\n",
              "1     2  2\n",
              "2     1  1\n",
              "3     0  0\n",
              "4     4  4\n",
              "...  .. ..\n",
              "9995  2  2\n",
              "9996  3  3\n",
              "9997  4  4\n",
              "9998  5  5\n",
              "9999  6  6\n",
              "\n",
              "[10000 rows x 2 columns]"
            ],
            "text/html": "<div>\n<style scoped>\n    .dataframe tbody tr th:only-of-type {\n        vertical-align: middle;\n    }\n\n    .dataframe tbody tr th {\n        vertical-align: top;\n    }\n\n    .dataframe thead th {\n        text-align: right;\n    }\n</style>\n<table border=\"1\" class=\"dataframe\">\n  <thead>\n    <tr style=\"text-align: right;\">\n      <th></th>\n      <th>0</th>\n      <th>1</th>\n    </tr>\n  </thead>\n  <tbody>\n    <tr>\n      <th>0</th>\n      <td>7</td>\n      <td>7</td>\n    </tr>\n    <tr>\n      <th>1</th>\n      <td>2</td>\n      <td>2</td>\n    </tr>\n    <tr>\n      <th>2</th>\n      <td>1</td>\n      <td>1</td>\n    </tr>\n    <tr>\n      <th>3</th>\n      <td>0</td>\n      <td>0</td>\n    </tr>\n    <tr>\n      <th>4</th>\n      <td>4</td>\n      <td>4</td>\n    </tr>\n    <tr>\n      <th>...</th>\n      <td>...</td>\n      <td>...</td>\n    </tr>\n    <tr>\n      <th>9995</th>\n      <td>2</td>\n      <td>2</td>\n    </tr>\n    <tr>\n      <th>9996</th>\n      <td>3</td>\n      <td>3</td>\n    </tr>\n    <tr>\n      <th>9997</th>\n      <td>4</td>\n      <td>4</td>\n    </tr>\n    <tr>\n      <th>9998</th>\n      <td>5</td>\n      <td>5</td>\n    </tr>\n    <tr>\n      <th>9999</th>\n      <td>6</td>\n      <td>6</td>\n    </tr>\n  </tbody>\n</table>\n<p>10000 rows × 2 columns</p>\n</div>"
          },
          "metadata": {},
          "execution_count": 34
        }
      ],
      "source": [
        "y1_pred = y_pred\n",
        "df_y1 = pd.DataFrame(y_pred)\n",
        "df_y1[1] = y1_pred\n",
        "df_y1 "
      ]
    },
    {
      "cell_type": "code",
      "metadata": {
        "id": "TUc7y4FVXz1l"
      },
      "source": [
        "# y_prob = neigh.predict_proba(H_test)"
      ],
      "execution_count": 58,
      "outputs": []
    },
    {
      "cell_type": "code",
      "metadata": {
        "id": "AngO2_FOY5o6"
      },
      "source": [
        "# print(y_prob[0])"
      ],
      "execution_count": 59,
      "outputs": []
    },
    {
      "cell_type": "code",
      "metadata": {
        "colab": {
          "base_uri": "https://localhost:8080/"
        },
        "id": "6d9WylV_Ofnv",
        "outputId": "9d70b683-63a0-417b-dea4-e6ab2839ecb1"
      },
      "source": [
        "# Making the Confusion Matrix\r\n",
        "from sklearn.metrics import confusion_matrix\r\n",
        "cm = confusion_matrix(y_test, y_pred)\r\n",
        "print(cm)"
      ],
      "execution_count": 60,
      "outputs": [
        {
          "output_type": "stream",
          "text": [
            "[[ 974    0    0    0    0    1    4    1    0    0]\n",
            " [   0 1128    3    0    3    0    1    0    0    0]\n",
            " [  10    2  994    3    0    0    0   12   10    1]\n",
            " [   3    0    8  964    1   10    0    7   13    4]\n",
            " [   2    4    1    0  941    0    7    2    2   23]\n",
            " [   4    0    1   12    3  844   14    0   12    2]\n",
            " [   6    4    0    0    1    1  945    0    1    0]\n",
            " [   2   11    5    0    2    0    1  994    0   13]\n",
            " [  11    2    2    8    2    2    5    3  934    5]\n",
            " [   8    5    2    6    7    2    1   11    2  965]]\n"
          ],
          "name": "stdout"
        }
      ]
    },
    {
      "cell_type": "code",
      "metadata": {
        "colab": {
          "base_uri": "https://localhost:8080/"
        },
        "id": "nPIZp_ZERbpV",
        "outputId": "02aa5c0e-b065-47a1-c680-dba617731fe9"
      },
      "source": [
        "from sklearn.metrics import accuracy_score, classification_report\r\n",
        "\r\n",
        "results['ACCURACY_SCORE'] = accuracy_score(y_test, y_pred)\r\n",
        "results['DICT_REPORT'] = str(classification_report(y_test, y_pred, output_dict=True))\r\n",
        "# results['DICT_REPORT'] = ''\r\n",
        "\r\n",
        "print(accuracy_score(y_test, y_pred))\r\n",
        "print(classification_report(y_test, y_pred))"
      ],
      "execution_count": 61,
      "outputs": [
        {
          "output_type": "stream",
          "text": [
            "0.9683\n",
            "              precision    recall  f1-score   support\n",
            "\n",
            "           0       0.95      0.99      0.97       980\n",
            "           1       0.98      0.99      0.98      1135\n",
            "           2       0.98      0.96      0.97      1032\n",
            "           3       0.97      0.95      0.96      1010\n",
            "           4       0.98      0.96      0.97       982\n",
            "           5       0.98      0.95      0.96       892\n",
            "           6       0.97      0.99      0.98       958\n",
            "           7       0.97      0.97      0.97      1028\n",
            "           8       0.96      0.96      0.96       974\n",
            "           9       0.95      0.96      0.95      1009\n",
            "\n",
            "    accuracy                           0.97     10000\n",
            "   macro avg       0.97      0.97      0.97     10000\n",
            "weighted avg       0.97      0.97      0.97     10000\n",
            "\n"
          ],
          "name": "stdout"
        }
      ]
    },
    {
      "cell_type": "code",
      "metadata": {
        "id": "BIkeIePWSEcd"
      },
      "source": [
        "prot_row(results)"
      ],
      "execution_count": 13,
      "outputs": [
        {
          "output_type": "error",
          "ename": "FileNotFoundError",
          "evalue": "[Errno 2] No such file or directory: '/content/sample_data/M-Net_Protocol.xlsx'",
          "traceback": [
            "\u001b[1;31m---------------------------------------------------------------------------\u001b[0m",
            "\u001b[1;31mFileNotFoundError\u001b[0m                         Traceback (most recent call last)",
            "\u001b[1;32m<ipython-input-13-320aad3964ac>\u001b[0m in \u001b[0;36m<module>\u001b[1;34m\u001b[0m\n\u001b[1;32m----> 1\u001b[1;33m \u001b[0mprot_row\u001b[0m\u001b[1;33m(\u001b[0m\u001b[0mresults\u001b[0m\u001b[1;33m)\u001b[0m\u001b[1;33m\u001b[0m\u001b[1;33m\u001b[0m\u001b[0m\n\u001b[0m",
            "\u001b[1;32m<ipython-input-9-362f79ceb809>\u001b[0m in \u001b[0;36mprot_row\u001b[1;34m(d_results)\u001b[0m\n\u001b[0;32m     68\u001b[0m     \u001b[1;31m# df_prot = df_prot.append(d_results,\u001b[0m\u001b[1;33m\u001b[0m\u001b[1;33m\u001b[0m\u001b[1;33m\u001b[0m\u001b[0m\n\u001b[0;32m     69\u001b[0m     \u001b[1;31m#                          ignore_index=True)\u001b[0m\u001b[1;33m\u001b[0m\u001b[1;33m\u001b[0m\u001b[1;33m\u001b[0m\u001b[0m\n\u001b[1;32m---> 70\u001b[1;33m     \u001b[0mdf_prot\u001b[0m\u001b[1;33m.\u001b[0m\u001b[0mto_excel\u001b[0m\u001b[1;33m(\u001b[0m\u001b[0mprot_file\u001b[0m\u001b[1;33m,\u001b[0m \u001b[0mindex\u001b[0m\u001b[1;33m=\u001b[0m\u001b[1;32mFalse\u001b[0m\u001b[1;33m)\u001b[0m\u001b[1;33m\u001b[0m\u001b[1;33m\u001b[0m\u001b[0m\n\u001b[0m\u001b[0;32m     71\u001b[0m \u001b[1;33m\u001b[0m\u001b[0m\n\u001b[0;32m     72\u001b[0m     \u001b[1;32mreturn\u001b[0m \u001b[1;32mNone\u001b[0m\u001b[1;33m\u001b[0m\u001b[1;33m\u001b[0m\u001b[0m\n",
            "\u001b[1;32m~\\anaconda3\\envs\\M-Net\\lib\\site-packages\\pandas\\core\\generic.py\u001b[0m in \u001b[0;36mto_excel\u001b[1;34m(self, excel_writer, sheet_name, na_rep, float_format, columns, header, index, index_label, startrow, startcol, engine, merge_cells, encoding, inf_rep, verbose, freeze_panes, storage_options)\u001b[0m\n\u001b[0;32m   2187\u001b[0m             \u001b[0minf_rep\u001b[0m\u001b[1;33m=\u001b[0m\u001b[0minf_rep\u001b[0m\u001b[1;33m,\u001b[0m\u001b[1;33m\u001b[0m\u001b[1;33m\u001b[0m\u001b[0m\n\u001b[0;32m   2188\u001b[0m         )\n\u001b[1;32m-> 2189\u001b[1;33m         formatter.write(\n\u001b[0m\u001b[0;32m   2190\u001b[0m             \u001b[0mexcel_writer\u001b[0m\u001b[1;33m,\u001b[0m\u001b[1;33m\u001b[0m\u001b[1;33m\u001b[0m\u001b[0m\n\u001b[0;32m   2191\u001b[0m             \u001b[0msheet_name\u001b[0m\u001b[1;33m=\u001b[0m\u001b[0msheet_name\u001b[0m\u001b[1;33m,\u001b[0m\u001b[1;33m\u001b[0m\u001b[1;33m\u001b[0m\u001b[0m\n",
            "\u001b[1;32m~\\anaconda3\\envs\\M-Net\\lib\\site-packages\\pandas\\io\\formats\\excel.py\u001b[0m in \u001b[0;36mwrite\u001b[1;34m(self, writer, sheet_name, startrow, startcol, freeze_panes, engine, storage_options)\u001b[0m\n\u001b[0;32m    813\u001b[0m             \u001b[1;31m# abstract class 'ExcelWriter' with abstract attributes 'engine',\u001b[0m\u001b[1;33m\u001b[0m\u001b[1;33m\u001b[0m\u001b[1;33m\u001b[0m\u001b[0m\n\u001b[0;32m    814\u001b[0m             \u001b[1;31m# 'save', 'supported_extensions' and 'write_cells'  [abstract]\u001b[0m\u001b[1;33m\u001b[0m\u001b[1;33m\u001b[0m\u001b[1;33m\u001b[0m\u001b[0m\n\u001b[1;32m--> 815\u001b[1;33m             writer = ExcelWriter(  # type: ignore[abstract]\n\u001b[0m\u001b[0;32m    816\u001b[0m                 \u001b[0mwriter\u001b[0m\u001b[1;33m,\u001b[0m \u001b[0mengine\u001b[0m\u001b[1;33m=\u001b[0m\u001b[0mengine\u001b[0m\u001b[1;33m,\u001b[0m \u001b[0mstorage_options\u001b[0m\u001b[1;33m=\u001b[0m\u001b[0mstorage_options\u001b[0m\u001b[1;33m\u001b[0m\u001b[1;33m\u001b[0m\u001b[0m\n\u001b[0;32m    817\u001b[0m             )\n",
            "\u001b[1;32m~\\anaconda3\\envs\\M-Net\\lib\\site-packages\\pandas\\io\\excel\\_xlsxwriter.py\u001b[0m in \u001b[0;36m__init__\u001b[1;34m(self, path, engine, date_format, datetime_format, mode, storage_options, **engine_kwargs)\u001b[0m\n\u001b[0;32m    180\u001b[0m             \u001b[1;32mraise\u001b[0m \u001b[0mValueError\u001b[0m\u001b[1;33m(\u001b[0m\u001b[1;34m\"Append mode is not supported with xlsxwriter!\"\u001b[0m\u001b[1;33m)\u001b[0m\u001b[1;33m\u001b[0m\u001b[1;33m\u001b[0m\u001b[0m\n\u001b[0;32m    181\u001b[0m \u001b[1;33m\u001b[0m\u001b[0m\n\u001b[1;32m--> 182\u001b[1;33m         super().__init__(\n\u001b[0m\u001b[0;32m    183\u001b[0m             \u001b[0mpath\u001b[0m\u001b[1;33m,\u001b[0m\u001b[1;33m\u001b[0m\u001b[1;33m\u001b[0m\u001b[0m\n\u001b[0;32m    184\u001b[0m             \u001b[0mengine\u001b[0m\u001b[1;33m=\u001b[0m\u001b[0mengine\u001b[0m\u001b[1;33m,\u001b[0m\u001b[1;33m\u001b[0m\u001b[1;33m\u001b[0m\u001b[0m\n",
            "\u001b[1;32m~\\anaconda3\\envs\\M-Net\\lib\\site-packages\\pandas\\io\\excel\\_base.py\u001b[0m in \u001b[0;36m__init__\u001b[1;34m(self, path, engine, date_format, datetime_format, mode, storage_options, **engine_kwargs)\u001b[0m\n\u001b[0;32m    808\u001b[0m         \u001b[0mself\u001b[0m\u001b[1;33m.\u001b[0m\u001b[0mhandles\u001b[0m \u001b[1;33m=\u001b[0m \u001b[0mIOHandles\u001b[0m\u001b[1;33m(\u001b[0m\u001b[0mcast\u001b[0m\u001b[1;33m(\u001b[0m\u001b[0mBuffer\u001b[0m\u001b[1;33m,\u001b[0m \u001b[0mpath\u001b[0m\u001b[1;33m)\u001b[0m\u001b[1;33m,\u001b[0m \u001b[0mcompression\u001b[0m\u001b[1;33m=\u001b[0m\u001b[1;33m{\u001b[0m\u001b[1;34m\"copression\"\u001b[0m\u001b[1;33m:\u001b[0m \u001b[1;32mNone\u001b[0m\u001b[1;33m}\u001b[0m\u001b[1;33m)\u001b[0m\u001b[1;33m\u001b[0m\u001b[1;33m\u001b[0m\u001b[0m\n\u001b[0;32m    809\u001b[0m         \u001b[1;32mif\u001b[0m \u001b[1;32mnot\u001b[0m \u001b[0misinstance\u001b[0m\u001b[1;33m(\u001b[0m\u001b[0mpath\u001b[0m\u001b[1;33m,\u001b[0m \u001b[0mExcelWriter\u001b[0m\u001b[1;33m)\u001b[0m\u001b[1;33m:\u001b[0m\u001b[1;33m\u001b[0m\u001b[1;33m\u001b[0m\u001b[0m\n\u001b[1;32m--> 810\u001b[1;33m             self.handles = get_handle(\n\u001b[0m\u001b[0;32m    811\u001b[0m                 \u001b[0mpath\u001b[0m\u001b[1;33m,\u001b[0m \u001b[0mmode\u001b[0m\u001b[1;33m,\u001b[0m \u001b[0mstorage_options\u001b[0m\u001b[1;33m=\u001b[0m\u001b[0mstorage_options\u001b[0m\u001b[1;33m,\u001b[0m \u001b[0mis_text\u001b[0m\u001b[1;33m=\u001b[0m\u001b[1;32mFalse\u001b[0m\u001b[1;33m\u001b[0m\u001b[1;33m\u001b[0m\u001b[0m\n\u001b[0;32m    812\u001b[0m             )\n",
            "\u001b[1;32m~\\anaconda3\\envs\\M-Net\\lib\\site-packages\\pandas\\io\\common.py\u001b[0m in \u001b[0;36mget_handle\u001b[1;34m(path_or_buf, mode, encoding, compression, memory_map, is_text, errors, storage_options)\u001b[0m\n\u001b[0;32m    649\u001b[0m         \u001b[1;32melse\u001b[0m\u001b[1;33m:\u001b[0m\u001b[1;33m\u001b[0m\u001b[1;33m\u001b[0m\u001b[0m\n\u001b[0;32m    650\u001b[0m             \u001b[1;31m# Binary mode\u001b[0m\u001b[1;33m\u001b[0m\u001b[1;33m\u001b[0m\u001b[1;33m\u001b[0m\u001b[0m\n\u001b[1;32m--> 651\u001b[1;33m             \u001b[0mhandle\u001b[0m \u001b[1;33m=\u001b[0m \u001b[0mopen\u001b[0m\u001b[1;33m(\u001b[0m\u001b[0mhandle\u001b[0m\u001b[1;33m,\u001b[0m \u001b[0mioargs\u001b[0m\u001b[1;33m.\u001b[0m\u001b[0mmode\u001b[0m\u001b[1;33m)\u001b[0m\u001b[1;33m\u001b[0m\u001b[1;33m\u001b[0m\u001b[0m\n\u001b[0m\u001b[0;32m    652\u001b[0m         \u001b[0mhandles\u001b[0m\u001b[1;33m.\u001b[0m\u001b[0mappend\u001b[0m\u001b[1;33m(\u001b[0m\u001b[0mhandle\u001b[0m\u001b[1;33m)\u001b[0m\u001b[1;33m\u001b[0m\u001b[1;33m\u001b[0m\u001b[0m\n\u001b[0;32m    653\u001b[0m \u001b[1;33m\u001b[0m\u001b[0m\n",
            "\u001b[1;31mFileNotFoundError\u001b[0m: [Errno 2] No such file or directory: '/content/sample_data/M-Net_Protocol.xlsx'"
          ]
        }
      ]
    },
    {
      "cell_type": "code",
      "metadata": {
        "colab": {
          "base_uri": "https://localhost:8080/",
          "height": 133
        },
        "id": "xd3mmOpF9FgT",
        "outputId": "2cc9ec25-1383-4f83-bac9-a22c11dabac3"
      },
      "source": [
        "pd.DataFrame([results])"
      ],
      "execution_count": 63,
      "outputs": [
        {
          "output_type": "execute_result",
          "data": {
            "text/html": [
              "<div>\n",
              "<style scoped>\n",
              "    .dataframe tbody tr th:only-of-type {\n",
              "        vertical-align: middle;\n",
              "    }\n",
              "\n",
              "    .dataframe tbody tr th {\n",
              "        vertical-align: top;\n",
              "    }\n",
              "\n",
              "    .dataframe thead th {\n",
              "        text-align: right;\n",
              "    }\n",
              "</style>\n",
              "<table border=\"1\" class=\"dataframe\">\n",
              "  <thead>\n",
              "    <tr style=\"text-align: right;\">\n",
              "      <th></th>\n",
              "      <th>TIMESTAMP</th>\n",
              "      <th>NUMBER_OF_HIDDEN</th>\n",
              "      <th>ACCURACY_SCORE</th>\n",
              "      <th>MAE_1ST_FL</th>\n",
              "      <th>MSE_1ST_FL</th>\n",
              "      <th>R2_1ST_FL</th>\n",
              "      <th>MAE_1ST_BA</th>\n",
              "      <th>MSE_1ST_BA</th>\n",
              "      <th>R2_1ST_BA</th>\n",
              "      <th>MAE_2ND_FL</th>\n",
              "      <th>MSE_2ND_FL</th>\n",
              "      <th>R2_2ND_FL</th>\n",
              "      <th>MAE_2ND_BA</th>\n",
              "      <th>MSE_2ND_BA</th>\n",
              "      <th>R2_2ND_BA</th>\n",
              "      <th>MAE_TEST_BA</th>\n",
              "      <th>MSE_TEST_BA</th>\n",
              "      <th>R2_TEST_BA</th>\n",
              "      <th>DICT_REPORT</th>\n",
              "      <th>MSG</th>\n",
              "    </tr>\n",
              "  </thead>\n",
              "  <tbody>\n",
              "    <tr>\n",
              "      <th>0</th>\n",
              "      <td>2020-12-26 21:42:11.050776</td>\n",
              "      <td>67</td>\n",
              "      <td>0.9683</td>\n",
              "      <td>0.437</td>\n",
              "      <td>0.593</td>\n",
              "      <td>-889.527</td>\n",
              "      <td>0.392</td>\n",
              "      <td>0.285</td>\n",
              "      <td>0.485</td>\n",
              "      <td>0.184</td>\n",
              "      <td>0.113</td>\n",
              "      <td>0.765</td>\n",
              "      <td>0.233</td>\n",
              "      <td>0.121</td>\n",
              "      <td>0.832</td>\n",
              "      <td>0.23</td>\n",
              "      <td>0.117</td>\n",
              "      <td>0.838</td>\n",
              "      <td>{'0': {'precision': 0.9549019607843138, 'recal...</td>\n",
              "      <td>M-Net on python</td>\n",
              "    </tr>\n",
              "  </tbody>\n",
              "</table>\n",
              "</div>"
            ],
            "text/plain": [
              "                   TIMESTAMP  ...              MSG\n",
              "0 2020-12-26 21:42:11.050776  ...  M-Net on python\n",
              "\n",
              "[1 rows x 20 columns]"
            ]
          },
          "metadata": {
            "tags": []
          },
          "execution_count": 63
        }
      ]
    },
    {
      "cell_type": "code",
      "metadata": {
        "id": "4mA1EbPcEePv",
        "colab": {
          "base_uri": "https://localhost:8080/"
        },
        "outputId": "67d7512d-d44e-40f8-8f4c-e7e083bd1a48"
      },
      "source": [
        "results"
      ],
      "execution_count": 64,
      "outputs": [
        {
          "output_type": "execute_result",
          "data": {
            "text/plain": [
              "{'ACCURACY_SCORE': 0.9683,\n",
              " 'DICT_REPORT': \"{'0': {'precision': 0.9549019607843138, 'recall': 0.9938775510204082, 'f1-score': 0.974, 'support': 980}, '1': {'precision': 0.9757785467128027, 'recall': 0.9938325991189427, 'f1-score': 0.9847228284591881, 'support': 1135}, '2': {'precision': 0.9783464566929134, 'recall': 0.9631782945736435, 'f1-score': 0.9707031250000001, 'support': 1032}, '3': {'precision': 0.9707955689828801, 'recall': 0.9544554455445544, 'f1-score': 0.9625561657513728, 'support': 1010}, '4': {'precision': 0.9802083333333333, 'recall': 0.9582484725050916, 'f1-score': 0.9691040164778579, 'support': 982}, '5': {'precision': 0.9813953488372092, 'recall': 0.9461883408071748, 'f1-score': 0.9634703196347031, 'support': 892}, '6': {'precision': 0.9662576687116564, 'recall': 0.9864300626304802, 'f1-score': 0.9762396694214875, 'support': 958}, '7': {'precision': 0.9650485436893204, 'recall': 0.9669260700389105, 'f1-score': 0.9659863945578231, 'support': 1028}, '8': {'precision': 0.9589322381930184, 'recall': 0.9589322381930184, 'f1-score': 0.9589322381930184, 'support': 974}, '9': {'precision': 0.9526159921026653, 'recall': 0.956392467789891, 'f1-score': 0.9545004945598418, 'support': 1009}, 'accuracy': 0.9683, 'macro avg': {'precision': 0.9684280658040112, 'recall': 0.9678461542222117, 'f1-score': 0.9680215252055293, 'support': 10000}, 'weighted avg': {'precision': 0.9684373160133557, 'recall': 0.9683, 'f1-score': 0.9682566047927583, 'support': 10000}}\",\n",
              " 'MAE_1ST_BA': 0.392,\n",
              " 'MAE_1ST_FL': 0.437,\n",
              " 'MAE_2ND_BA': 0.233,\n",
              " 'MAE_2ND_FL': 0.184,\n",
              " 'MAE_TEST_BA': 0.23,\n",
              " 'MSE_1ST_BA': 0.285,\n",
              " 'MSE_1ST_FL': 0.593,\n",
              " 'MSE_2ND_BA': 0.121,\n",
              " 'MSE_2ND_FL': 0.113,\n",
              " 'MSE_TEST_BA': 0.117,\n",
              " 'MSG': 'M-Net on python',\n",
              " 'NUMBER_OF_HIDDEN': 67,\n",
              " 'R2_1ST_BA': 0.485,\n",
              " 'R2_1ST_FL': -889.527,\n",
              " 'R2_2ND_BA': 0.832,\n",
              " 'R2_2ND_FL': 0.765,\n",
              " 'R2_TEST_BA': 0.838,\n",
              " 'TIMESTAMP': datetime.datetime(2020, 12, 26, 21, 42, 11, 50776)}"
            ]
          },
          "metadata": {
            "tags": []
          },
          "execution_count": 64
        }
      ]
    }
  ]
}