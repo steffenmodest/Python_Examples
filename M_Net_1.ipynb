{
  "nbformat": 4,
  "nbformat_minor": 0,
  "metadata": {
    "colab": {
      "name": "M-Net_1",
      "provenance": [],
      "collapsed_sections": [],
      "authorship_tag": "ABX9TyOLUtq/cZ/LUEig8fvyx1YM",
      "include_colab_link": true
    },
    "kernelspec": {
      "name": "python3",
      "display_name": "Python 3"
    },
    "accelerator": "TPU"
  },
  "cells": [
    {
      "cell_type": "markdown",
      "metadata": {
        "id": "view-in-github",
        "colab_type": "text"
      },
      "source": [
        "<a href=\"https://colab.research.google.com/github/steffenmodest/Python_Examples/blob/main/M_Net_1.ipynb\" target=\"_parent\"><img src=\"https://colab.research.google.com/assets/colab-badge.svg\" alt=\"Open In Colab\"/></a>"
      ]
    },
    {
      "cell_type": "code",
      "metadata": {
        "id": "BiRMJKUw4uJN"
      },
      "source": [
        "import numpy as np\r\n",
        "import matplotlib.pyplot as plt\r\n",
        "\r\n",
        "rs = 23  # fester Random Seed"
      ],
      "execution_count": 33,
      "outputs": []
    },
    {
      "cell_type": "markdown",
      "metadata": {
        "id": "v7W9IXTQ-Nn6"
      },
      "source": [
        "Load Data"
      ]
    },
    {
      "cell_type": "code",
      "metadata": {
        "colab": {
          "base_uri": "https://localhost:8080/"
        },
        "id": "OkWXskSV9JUk",
        "outputId": "263b7de2-cda7-4895-83c6-50c35cabb142"
      },
      "source": [
        "from tensorflow.keras.datasets import fashion_mnist, mnist\r\n",
        "\r\n",
        "# Fashion MNIST Daten laden, wir wollen nur die Trainingsdaten und verwerfen die Testdaten\r\n",
        "# (X_train, y_train), (X_test, y_test) = fashion_mnist.load_data()\r\n",
        "(X_train, y_train), (X_test, y_test) = mnist.load_data()\r\n",
        "\r\n",
        "print(X_train.shape)\r\n",
        "print(X_test.shape)\r\n",
        "print(y_train.shape)\r\n",
        "print(y_test.shape)"
      ],
      "execution_count": 34,
      "outputs": [
        {
          "output_type": "stream",
          "text": [
            "(60000, 28, 28)\n",
            "(10000, 28, 28)\n",
            "(60000,)\n",
            "(10000,)\n"
          ],
          "name": "stdout"
        }
      ]
    },
    {
      "cell_type": "markdown",
      "metadata": {
        "id": "ZIUroMbRAalY"
      },
      "source": [
        "Preprocess data"
      ]
    },
    {
      "cell_type": "code",
      "metadata": {
        "colab": {
          "base_uri": "https://localhost:8080/"
        },
        "id": "vG-KCjq_AYkG",
        "outputId": "f96812c8-c2a4-4e92-88eb-c0e117de583a"
      },
      "source": [
        "from sklearn.pipeline import Pipeline\r\n",
        "from sklearn.preprocessing import StandardScaler, Normalizer, MinMaxScaler, FunctionTransformer\r\n",
        "from sklearn.metrics import mean_absolute_error, mean_squared_error, r2_score\r\n",
        "\r\n",
        "# Plätte 2D Bild in einen Vektor:\r\n",
        "# Reshape behält die Anzahl Element in der ersten Dimension (len(X_orig) -> #Bilder)\r\n",
        "# die restlichen Zellen des Arrays (-1 -> Pixel) bekommen alle ihre eigene Dimension\r\n",
        "X = X_train.reshape(len(X_train), -1).astype('float64')\r\n",
        "\r\n",
        "# Dimensionen um den Mittelpunkt zentrieren\r\n",
        "preproccessing = StandardScaler()\r\n",
        "X = preproccessing.fit_transform(X)\r\n",
        "\r\n",
        "print (\"Originaldaten:\")\r\n",
        "print(\"Shape: {}, Mean: {:f}, STD: {:f}\".format(X_train.shape, np.mean(X_train), np.std(X_train)))\r\n",
        "\r\n",
        "print (\"Vorbereitete Daten:\")\r\n",
        "print(\"Shape: {}, Mean: {:f}, STD: {:f}\".format(X.shape, np.mean(X), np.std(X)))"
      ],
      "execution_count": 35,
      "outputs": [
        {
          "output_type": "stream",
          "text": [
            "Originaldaten:\n",
            "Shape: (60000, 28, 28), Mean: 33.318421, STD: 78.567490\n",
            "Vorbereitete Daten:\n",
            "Shape: (60000, 784), Mean: -0.000000, STD: 0.956316\n"
          ],
          "name": "stdout"
        }
      ]
    },
    {
      "cell_type": "markdown",
      "metadata": {
        "id": "lbpaEp8-ChlG"
      },
      "source": [
        "Create Hidden Activations"
      ]
    },
    {
      "cell_type": "code",
      "metadata": {
        "colab": {
          "base_uri": "https://localhost:8080/"
        },
        "id": "O6SBu62b9Sky",
        "outputId": "f9b6100c-83fa-40bb-9bac-9be9ee8c3a7c"
      },
      "source": [
        "H = np.random.rand(60000, 47)\r\n",
        "print(H.shape)\r\n",
        "print(H)"
      ],
      "execution_count": 36,
      "outputs": [
        {
          "output_type": "stream",
          "text": [
            "(60000, 47)\n",
            "[[0.73381412 0.25964245 0.85269754 ... 0.5485695  0.02970626 0.27021045]\n",
            " [0.0098423  0.4355777  0.97304208 ... 0.61285447 0.5801299  0.24818694]\n",
            " [0.24185742 0.71085661 0.695936   ... 0.18473198 0.89046182 0.46635063]\n",
            " ...\n",
            " [0.20104714 0.79819324 0.67521615 ... 0.33429603 0.85958191 0.50527446]\n",
            " [0.94129889 0.8031049  0.41771092 ... 0.26592046 0.00590372 0.68506177]\n",
            " [0.2255826  0.16537059 0.13502342 ... 0.55256423 0.91012608 0.38616573]]\n"
          ],
          "name": "stdout"
        }
      ]
    },
    {
      "cell_type": "markdown",
      "metadata": {
        "id": "3W8_KWaMCmpe"
      },
      "source": [
        "1st Forward Learn"
      ]
    },
    {
      "cell_type": "code",
      "metadata": {
        "colab": {
          "base_uri": "https://localhost:8080/"
        },
        "id": "7qf5L17T4Npb",
        "outputId": "04594c4a-5954-408d-f2d8-7230a6e347f8"
      },
      "source": [
        "import numpy as np\r\n",
        "from sklearn.linear_model import LinearRegression\r\n",
        "\r\n",
        "reg = LinearRegression().fit(H, X)\r\n",
        "print(reg.score(H, X))\r\n",
        "X_pred = reg.predict(H)\r\n",
        "print(f'MAE {mean_absolute_error(X_pred, X)}')\r\n",
        "print(f'MSE {mean_squared_error(X_pred, X)}')\r\n",
        "print(f'R2 {r2_score(X_pred, X)}')\r\n",
        "print(f'R2 vw {r2_score(X_pred, X, multioutput=\"variance_weighted\")}')\r\n",
        "print(f'R2 ua {r2_score(X_pred, X, multioutput=\"uniform_average\")}')\r\n",
        "\r\n",
        "W = reg.coef_\r\n",
        "print(W.shape)\r\n",
        "WI = reg.intercept_\r\n",
        "print(WI.shape)"
      ],
      "execution_count": 37,
      "outputs": [
        {
          "output_type": "stream",
          "text": [
            "/usr/local/lib/python3.6/dist-packages/sklearn/base.py:434: FutureWarning: The default value of multioutput (not exposed in score method) will change from 'variance_weighted' to 'uniform_average' in 0.23 to keep consistent with 'metrics.r2_score'. To specify the default value manually and avoid the warning, please either call 'metrics.r2_score' directly or make a custom scorer with 'metrics.make_scorer' (the built-in scorer 'r2' uses multioutput='uniform_average').\n",
            "  \"multioutput='uniform_average').\", FutureWarning)\n"
          ],
          "name": "stderr"
        },
        {
          "output_type": "stream",
          "text": [
            "0.0008283244946358989\n",
            "MAE 0.4444723959616089\n",
            "MSE 0.9137832797669974\n",
            "R2 -1146.9943616037758\n",
            "R2 vw -1205.2563426682048\n",
            "R2 ua -1146.9943616037758\n",
            "(784, 47)\n",
            "(784,)\n"
          ],
          "name": "stdout"
        }
      ]
    },
    {
      "cell_type": "markdown",
      "metadata": {
        "id": "yYL74vKOCss2"
      },
      "source": [
        "1st Back Activations"
      ]
    },
    {
      "cell_type": "code",
      "metadata": {
        "colab": {
          "base_uri": "https://localhost:8080/"
        },
        "id": "j2p9rcyI4dcK",
        "outputId": "ed29d233-1b08-43e3-8ac7-b29b42691d51"
      },
      "source": [
        "XT = X.transpose()\r\n",
        "print(f'shape of X_train {X.shape} and X_train transposed {XT.shape}')\r\n",
        "\r\n",
        "reg = LinearRegression().fit(W, XT)\r\n",
        "print(reg.score(W, XT))\r\n",
        "XT_pred = reg.predict(W)\r\n",
        "print(f'MAE {mean_absolute_error(XT_pred, XT)}')\r\n",
        "print(f'MSE {mean_squared_error(XT_pred, XT)}')\r\n",
        "print(f'R2 {r2_score(XT_pred, XT)}')\r\n",
        "print(f'R2 vw {r2_score(XT_pred, XT, multioutput=\"variance_weighted\")}')\r\n",
        "print(f'R2 ua {r2_score(XT_pred, XT, multioutput=\"uniform_average\")}')\r\n",
        "\r\n",
        "H_new = reg.coef_\r\n",
        "print(H_new.shape)\r\n",
        "HI = reg.intercept_\r\n",
        "print(HI.shape)"
      ],
      "execution_count": 38,
      "outputs": [
        {
          "output_type": "stream",
          "text": [
            "shape of X_train (60000, 784) and X_train transposed (784, 60000)\n"
          ],
          "name": "stdout"
        },
        {
          "output_type": "stream",
          "text": [
            "/usr/local/lib/python3.6/dist-packages/sklearn/base.py:434: FutureWarning: The default value of multioutput (not exposed in score method) will change from 'variance_weighted' to 'uniform_average' in 0.23 to keep consistent with 'metrics.r2_score'. To specify the default value manually and avoid the warning, please either call 'metrics.r2_score' directly or make a custom scorer with 'metrics.make_scorer' (the built-in scorer 'r2' uses multioutput='uniform_average').\n",
            "  \"multioutput='uniform_average').\", FutureWarning)\n"
          ],
          "name": "stderr"
        },
        {
          "output_type": "stream",
          "text": [
            "0.32662283320227303\n",
            "MAE 0.41938725689437534\n",
            "MSE 0.6029921665119466\n",
            "R2 -0.7753276902430041\n",
            "R2 vw -1.061635312497317\n",
            "R2 ua -0.7753276902430041\n",
            "(60000, 47)\n",
            "(60000,)\n"
          ],
          "name": "stdout"
        }
      ]
    },
    {
      "cell_type": "markdown",
      "metadata": {
        "id": "zuXNkE6hGXbO"
      },
      "source": [
        "2nd Forward learn - result are Coherent Weights"
      ]
    },
    {
      "cell_type": "code",
      "metadata": {
        "colab": {
          "base_uri": "https://localhost:8080/"
        },
        "id": "prT-plGDGbrQ",
        "outputId": "269b6d83-092d-48e5-c24f-677aaeb4a0ba"
      },
      "source": [
        "reg = LinearRegression().fit(H_new, X)\r\n",
        "print(reg.score(H_new, X))\r\n",
        "X_pred = reg.predict(H_new)\r\n",
        "print(f'MAE {mean_absolute_error(X_pred, X)}')\r\n",
        "print(f'MSE {mean_squared_error(X_pred, X)}')\r\n",
        "print(f'R2 {r2_score(X_pred, X)}')\r\n",
        "print(f'R2 vw {r2_score(X_pred, X, multioutput=\"variance_weighted\")}')\r\n",
        "print(f'R2 ua {r2_score(X_pred, X, multioutput=\"uniform_average\")}')\r\n",
        "\r\n",
        "W = reg.coef_\r\n",
        "print(W.shape)\r\n",
        "WI = reg.intercept_\r\n",
        "print(WI.shape)"
      ],
      "execution_count": 39,
      "outputs": [
        {
          "output_type": "stream",
          "text": [
            "/usr/local/lib/python3.6/dist-packages/sklearn/base.py:434: FutureWarning: The default value of multioutput (not exposed in score method) will change from 'variance_weighted' to 'uniform_average' in 0.23 to keep consistent with 'metrics.r2_score'. To specify the default value manually and avoid the warning, please either call 'metrics.r2_score' directly or make a custom scorer with 'metrics.make_scorer' (the built-in scorer 'r2' uses multioutput='uniform_average').\n",
            "  \"multioutput='uniform_average').\", FutureWarning)\n"
          ],
          "name": "stderr"
        },
        {
          "output_type": "stream",
          "text": [
            "0.45111437915228336\n",
            "MAE 0.3439832698745408\n",
            "MSE 0.5019783037599513\n",
            "R2 -1.0174002672557898\n",
            "R2 vw -0.21673270951614798\n",
            "R2 ua -1.0174002672557898\n",
            "(784, 47)\n",
            "(784,)\n"
          ],
          "name": "stdout"
        }
      ]
    },
    {
      "cell_type": "markdown",
      "metadata": {
        "id": "QQm_Dd-RJ3Q-"
      },
      "source": [
        "2nd Back Activation - final representation of X_train in Hidden Activations"
      ]
    },
    {
      "cell_type": "code",
      "metadata": {
        "colab": {
          "base_uri": "https://localhost:8080/"
        },
        "id": "Ti-h4fmn4tKY",
        "outputId": "7a772f1a-1148-437c-f574-90da8422c1fd"
      },
      "source": [
        "reg = LinearRegression().fit(W, XT)\r\n",
        "print(reg.score(W, XT))\r\n",
        "XT_pred = reg.predict(W)\r\n",
        "print(f'MAE {mean_absolute_error(XT_pred, XT)}')\r\n",
        "print(f'MSE {mean_squared_error(XT_pred, XT)}')\r\n",
        "print(f'R2 vw {r2_score(XT_pred, XT, multioutput=\"variance_weighted\")}')\r\n",
        "print(f'R2 ua {r2_score(XT_pred, XT, multioutput=\"uniform_average\")}')\r\n",
        "\r\n",
        "H_new = reg.coef_\r\n",
        "print(H_new.shape)\r\n",
        "HI = reg.intercept_\r\n",
        "print(HI.shape)"
      ],
      "execution_count": 40,
      "outputs": [
        {
          "output_type": "stream",
          "text": [
            "/usr/local/lib/python3.6/dist-packages/sklearn/base.py:434: FutureWarning: The default value of multioutput (not exposed in score method) will change from 'variance_weighted' to 'uniform_average' in 0.23 to keep consistent with 'metrics.r2_score'. To specify the default value manually and avoid the warning, please either call 'metrics.r2_score' directly or make a custom scorer with 'metrics.make_scorer' (the built-in scorer 'r2' uses multioutput='uniform_average').\n",
            "  \"multioutput='uniform_average').\", FutureWarning)\n"
          ],
          "name": "stderr"
        },
        {
          "output_type": "stream",
          "text": [
            "0.4876921176771286\n",
            "MAE 0.32747559144714194\n",
            "MSE 0.4587587092566359\n",
            "R2 vw -0.05047398502765832\n",
            "R2 ua 0.1821958626258969\n",
            "(60000, 47)\n",
            "(60000,)\n"
          ],
          "name": "stdout"
        }
      ]
    },
    {
      "cell_type": "markdown",
      "metadata": {
        "id": "o6coHZMrLna9"
      },
      "source": [
        "KNN test with Hidden Activations"
      ]
    },
    {
      "cell_type": "code",
      "metadata": {
        "colab": {
          "base_uri": "https://localhost:8080/"
        },
        "id": "GlQidejSLkNv",
        "outputId": "1297f389-e839-4350-d2e4-9f61ebb791a4"
      },
      "source": [
        "# X = [[0], [1], [2], [3]]\r\n",
        "# y = [0, 0, 1, 1]\r\n",
        "\r\n",
        "# Plätte 2D Bild in einen Vektor:\r\n",
        "# Reshape behält die Anzahl Element in der ersten Dimension (len(X_orig) -> #Bilder)\r\n",
        "# die restlichen Zellen des Arrays (-1 -> Pixel) bekommen alle ihre eigene Dimension\r\n",
        "X_p_test = X_test.reshape(len(X_test), -1).astype('float64')\r\n",
        "\r\n",
        "# Dimensionen um den Mittelpunkt zentrieren\r\n",
        "preproccessing = StandardScaler()\r\n",
        "X_p_test = preproccessing.fit_transform(X_p_test)\r\n",
        "\r\n",
        "print (\"Originaldaten:\")\r\n",
        "print(\"Shape: {}, Mean: {:f}, STD: {:f}\".format(X_test.shape, np.mean(X_test), np.std(X_test)))\r\n",
        "\r\n",
        "print (\"Vorbereitete Daten:\")\r\n",
        "print(\"Shape: {}, Mean: {:f}, STD: {:f}\".format(X_p_test.shape, np.mean(X_p_test), np.std(X_p_test)))\r\n",
        "\r\n",
        "from sklearn.neighbors import KNeighborsClassifier\r\n",
        "neigh = KNeighborsClassifier(n_neighbors=5, n_jobs=-1, weights='distance')\r\n",
        "neigh.fit(H_new, y_train)\r\n",
        "\r\n",
        "# print(neigh.predict([[1.1]]))\r\n",
        "\r\n",
        "# print(neigh.predict_proba([[0.9]]))"
      ],
      "execution_count": 41,
      "outputs": [
        {
          "output_type": "stream",
          "text": [
            "Originaldaten:\n",
            "Shape: (10000, 28, 28), Mean: 33.791224, STD: 79.172463\n",
            "Vorbereitete Daten:\n",
            "Shape: (10000, 784), Mean: 0.000000, STD: 0.923061\n"
          ],
          "name": "stdout"
        },
        {
          "output_type": "execute_result",
          "data": {
            "text/plain": [
              "KNeighborsClassifier(algorithm='auto', leaf_size=30, metric='minkowski',\n",
              "                     metric_params=None, n_jobs=-1, n_neighbors=5, p=2,\n",
              "                     weights='distance')"
            ]
          },
          "metadata": {
            "tags": []
          },
          "execution_count": 41
        }
      ]
    },
    {
      "cell_type": "markdown",
      "metadata": {
        "id": "a_ntlc-AQVpU"
      },
      "source": [
        "Back Activation of Test Data"
      ]
    },
    {
      "cell_type": "code",
      "metadata": {
        "colab": {
          "base_uri": "https://localhost:8080/"
        },
        "id": "qynKZ5tSQadw",
        "outputId": "4539d0c6-e828-4261-8956-144aadc8dcfc"
      },
      "source": [
        "XT = X_p_test.transpose()\r\n",
        "print(f'shape of X_p_train {X_p_test.shape} and X_p_train transposed {XT.shape}')\r\n",
        "\r\n",
        "reg = LinearRegression().fit(W, XT)\r\n",
        "print(reg.score(W, XT))\r\n",
        "XT_pred = reg.predict(W)\r\n",
        "print(f'MAE {mean_absolute_error(XT_pred, XT)}')\r\n",
        "print(f'MSE {mean_squared_error(XT_pred, XT)}')\r\n",
        "print(f'R2 {r2_score(XT_pred, XT)}')\r\n",
        "print(f'R2 vw {r2_score(XT_pred, XT, multioutput=\"variance_weighted\")}')\r\n",
        "print(f'R2 ua {r2_score(XT_pred, XT, multioutput=\"uniform_average\")}')\r\n",
        "\r\n",
        "H_test = reg.coef_\r\n",
        "print(H_test.shape)\r\n",
        "HI_test = reg.intercept_\r\n",
        "print(HI_test.shape)"
      ],
      "execution_count": 42,
      "outputs": [
        {
          "output_type": "stream",
          "text": [
            "shape of X_p_train (10000, 784) and X_p_train transposed (784, 10000)\n"
          ],
          "name": "stdout"
        },
        {
          "output_type": "stream",
          "text": [
            "/usr/local/lib/python3.6/dist-packages/sklearn/base.py:434: FutureWarning: The default value of multioutput (not exposed in score method) will change from 'variance_weighted' to 'uniform_average' in 0.23 to keep consistent with 'metrics.r2_score'. To specify the default value manually and avoid the warning, please either call 'metrics.r2_score' directly or make a custom scorer with 'metrics.make_scorer' (the built-in scorer 'r2' uses multioutput='uniform_average').\n",
            "  \"multioutput='uniform_average').\", FutureWarning)\n"
          ],
          "name": "stderr"
        },
        {
          "output_type": "stream",
          "text": [
            "0.5140096634008963\n",
            "MAE 0.3235687078691093\n",
            "MSE 0.4048574803435664\n",
            "R2 0.21183028927938177\n",
            "R2 vw 0.05451128411945735\n",
            "R2 ua 0.21183028927938177\n",
            "(10000, 47)\n",
            "(10000,)\n"
          ],
          "name": "stdout"
        }
      ]
    },
    {
      "cell_type": "code",
      "metadata": {
        "id": "IlF5bJweNXr-"
      },
      "source": [
        "# Predicting the Test set results\r\n",
        "y_pred = neigh.predict(H_test)"
      ],
      "execution_count": 43,
      "outputs": []
    },
    {
      "cell_type": "code",
      "metadata": {
        "id": "TUc7y4FVXz1l"
      },
      "source": [
        "y_prob = neigh.predict_proba(H_test)"
      ],
      "execution_count": 44,
      "outputs": []
    },
    {
      "cell_type": "code",
      "metadata": {
        "colab": {
          "base_uri": "https://localhost:8080/"
        },
        "id": "AngO2_FOY5o6",
        "outputId": "17a326f0-6a47-40dc-e47e-448e49225fb9"
      },
      "source": [
        "print(y_prob[0])"
      ],
      "execution_count": 45,
      "outputs": [
        {
          "output_type": "stream",
          "text": [
            "[0. 0. 0. 0. 0. 0. 0. 1. 0. 0.]\n"
          ],
          "name": "stdout"
        }
      ]
    },
    {
      "cell_type": "code",
      "metadata": {
        "colab": {
          "base_uri": "https://localhost:8080/"
        },
        "id": "6d9WylV_Ofnv",
        "outputId": "8ae7dde4-f9a0-4685-d233-af11f58c63a4"
      },
      "source": [
        "# Making the Confusion Matrix\r\n",
        "from sklearn.metrics import confusion_matrix\r\n",
        "cm = confusion_matrix(y_test, y_pred)\r\n",
        "print(cm)"
      ],
      "execution_count": 48,
      "outputs": [
        {
          "output_type": "stream",
          "text": [
            "[[ 966    0    0    2    1    5    3    3    0    0]\n",
            " [   0 1125    3    0    2    0    4    0    1    0]\n",
            " [   8    6  979    8    3    1    5    8   13    1]\n",
            " [   0    1    4  955    0   14    2   12   16    6]\n",
            " [   0    2    5    2  942    0    6    3    3   19]\n",
            " [   4    0    2   25    4  829   11    2    9    6]\n",
            " [   5    3    1    0    4    6  937    0    2    0]\n",
            " [   0   17   14    2    5    1    0  956    2   31]\n",
            " [   5    0    6   11    8   17    5    5  908    9]\n",
            " [   4    6    4   11   17    3    0   19    6  939]]\n"
          ],
          "name": "stdout"
        }
      ]
    },
    {
      "cell_type": "code",
      "metadata": {
        "colab": {
          "base_uri": "https://localhost:8080/"
        },
        "id": "nPIZp_ZERbpV",
        "outputId": "15ee9951-97f2-4f36-ce37-ff7f5297b4fd"
      },
      "source": [
        "from sklearn.metrics import accuracy_score, classification_report\r\n",
        "print(accuracy_score(y_test, y_pred))\r\n",
        "print(classification_report(y_test, y_pred))"
      ],
      "execution_count": 49,
      "outputs": [
        {
          "output_type": "stream",
          "text": [
            "0.9536\n",
            "              precision    recall  f1-score   support\n",
            "\n",
            "           0       0.97      0.99      0.98       980\n",
            "           1       0.97      0.99      0.98      1135\n",
            "           2       0.96      0.95      0.96      1032\n",
            "           3       0.94      0.95      0.94      1010\n",
            "           4       0.96      0.96      0.96       982\n",
            "           5       0.95      0.93      0.94       892\n",
            "           6       0.96      0.98      0.97       958\n",
            "           7       0.95      0.93      0.94      1028\n",
            "           8       0.95      0.93      0.94       974\n",
            "           9       0.93      0.93      0.93      1009\n",
            "\n",
            "    accuracy                           0.95     10000\n",
            "   macro avg       0.95      0.95      0.95     10000\n",
            "weighted avg       0.95      0.95      0.95     10000\n",
            "\n"
          ],
          "name": "stdout"
        }
      ]
    },
    {
      "cell_type": "code",
      "metadata": {
        "id": "BIkeIePWSEcd"
      },
      "source": [
        ""
      ],
      "execution_count": null,
      "outputs": []
    }
  ]
}