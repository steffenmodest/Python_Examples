{
  "nbformat": 4,
  "nbformat_minor": 0,
  "metadata": {
    "colab": {
      "name": "M-Net_1",
      "provenance": [],
      "collapsed_sections": [],
      "authorship_tag": "ABX9TyNmOZgH+S1JKVy+avOY+dfr",
      "include_colab_link": true
    },
    "kernelspec": {
      "name": "python3",
      "display_name": "Python 3"
    },
    "accelerator": "TPU"
  },
  "cells": [
    {
      "cell_type": "markdown",
      "metadata": {
        "id": "view-in-github",
        "colab_type": "text"
      },
      "source": [
        "<a href=\"https://colab.research.google.com/github/steffenmodest/Python_Examples/blob/Norm_Weights/M_Net_1.ipynb\" target=\"_parent\"><img src=\"https://colab.research.google.com/assets/colab-badge.svg\" alt=\"Open In Colab\"/></a>"
      ]
    },
    {
      "cell_type": "code",
      "metadata": {
        "id": "BiRMJKUw4uJN"
      },
      "source": [
        "import numpy as np\r\n",
        "import pandas as pd\r\n",
        "import matplotlib.pyplot as plt\r\n",
        "\r\n",
        "rs = 23  # fester Random Seed"
      ],
      "execution_count": null,
      "outputs": []
    },
    {
      "cell_type": "markdown",
      "metadata": {
        "id": "v7W9IXTQ-Nn6"
      },
      "source": [
        "Load Data"
      ]
    },
    {
      "cell_type": "code",
      "metadata": {
        "colab": {
          "base_uri": "https://localhost:8080/"
        },
        "id": "OkWXskSV9JUk",
        "outputId": "5f900ed0-f704-4012-bd4d-6c0803efc5ca"
      },
      "source": [
        "from tensorflow.keras.datasets import fashion_mnist, mnist\r\n",
        "\r\n",
        "# Fashion MNIST Daten laden, wir wollen nur die Trainingsdaten und verwerfen die Testdaten\r\n",
        "# (X_train, y_train), (X_test, y_test) = fashion_mnist.load_data()\r\n",
        "(X_train, y_train), (X_test, y_test) = mnist.load_data()\r\n",
        "\r\n",
        "print(X_train.shape)\r\n",
        "print(X_test.shape)\r\n",
        "print(y_train.shape)\r\n",
        "print(y_test.shape)"
      ],
      "execution_count": null,
      "outputs": [
        {
          "output_type": "stream",
          "text": [
            "(60000, 28, 28)\n",
            "(10000, 28, 28)\n",
            "(60000,)\n",
            "(10000,)\n"
          ],
          "name": "stdout"
        }
      ]
    },
    {
      "cell_type": "code",
      "metadata": {
        "id": "JsMdDq_Ac7HK"
      },
      "source": [
        "def ifelse(a):\r\n",
        "  if a == 0:\r\n",
        "    return 1\r\n",
        "  else:\r\n",
        "    return a"
      ],
      "execution_count": null,
      "outputs": []
    },
    {
      "cell_type": "code",
      "metadata": {
        "id": "JMGlYaUOdE24"
      },
      "source": [
        "def rms_norm(v_x):\r\n",
        "  n_rms = np.sqrt(np.sum(v_x ** 2)/(len(v_x) - 1))\r\n",
        "  return v_x/n_rms"
      ],
      "execution_count": null,
      "outputs": []
    },
    {
      "cell_type": "markdown",
      "metadata": {
        "id": "ZIUroMbRAalY"
      },
      "source": [
        "Preprocess data"
      ]
    },
    {
      "cell_type": "markdown",
      "metadata": {
        "id": "PFdez5n4fGzR"
      },
      "source": [
        "NEW Norm"
      ]
    },
    {
      "cell_type": "code",
      "metadata": {
        "id": "-8ErTTfidPh4"
      },
      "source": [
        "X = X_train.reshape(len(X_train), -1).astype('int')\r\n",
        "X = pd.DataFrame(X)\r\n",
        "X = X.applymap(ifelse)\r\n",
        "X = X.apply(rms_norm, axis=1)\r\n",
        "X = np.array(X)"
      ],
      "execution_count": null,
      "outputs": []
    },
    {
      "cell_type": "code",
      "metadata": {
        "colab": {
          "base_uri": "https://localhost:8080/"
        },
        "id": "N4zT45_vd8gJ",
        "outputId": "1b54f935-a694-4274-b73a-15d7e91f901f"
      },
      "source": [
        "X"
      ],
      "execution_count": null,
      "outputs": [
        {
          "output_type": "execute_result",
          "data": {
            "text/plain": [
              "array([[0.01148061, 0.01148061, 0.01148061, ..., 0.01148061, 0.01148061,\n",
              "        0.01148061],\n",
              "       [0.01076957, 0.01076957, 0.01076957, ..., 0.01076957, 0.01076957,\n",
              "        0.01076957],\n",
              "       [0.01425251, 0.01425251, 0.01425251, ..., 0.01425251, 0.01425251,\n",
              "        0.01425251],\n",
              "       ...,\n",
              "       [0.01299969, 0.01299969, 0.01299969, ..., 0.01299969, 0.01299969,\n",
              "        0.01299969],\n",
              "       [0.01400668, 0.01400668, 0.01400668, ..., 0.01400668, 0.01400668,\n",
              "        0.01400668],\n",
              "       [0.01375564, 0.01375564, 0.01375564, ..., 0.01375564, 0.01375564,\n",
              "        0.01375564]])"
            ]
          },
          "metadata": {
            "tags": []
          },
          "execution_count": 37
        }
      ]
    },
    {
      "cell_type": "code",
      "metadata": {
        "colab": {
          "base_uri": "https://localhost:8080/"
        },
        "id": "vG-KCjq_AYkG",
        "outputId": "411504eb-858c-4143-8fc2-ffac035f4bae"
      },
      "source": [
        "from sklearn.pipeline import Pipeline\r\n",
        "from sklearn.preprocessing import StandardScaler, Normalizer, MinMaxScaler, FunctionTransformer\r\n",
        "from sklearn.metrics import mean_absolute_error, mean_squared_error, r2_score\r\n",
        "\r\n",
        "# Plätte 2D Bild in einen Vektor:\r\n",
        "# Reshape behält die Anzahl Element in der ersten Dimension (len(X_orig) -> #Bilder)\r\n",
        "# die restlichen Zellen des Arrays (-1 -> Pixel) bekommen alle ihre eigene Dimension\r\n",
        "# X = X_train.reshape(len(X_train), -1).astype('float64')\r\n",
        "\r\n",
        "# # Dimensionen um den Mittelpunkt zentrieren\r\n",
        "# preproccessing = StandardScaler()\r\n",
        "# X = preproccessing.fit_transform(X)\r\n",
        "# X = np.array(X)\r\n",
        "\r\n",
        "print (\"Originaldaten:\")\r\n",
        "print(\"Shape: {}, Mean: {:f}, STD: {:f}\".format(X_train.shape, np.mean(X_train), np.std(X_train)))\r\n",
        "\r\n",
        "print (\"Vorbereitete Daten:\")\r\n",
        "print(\"Shape: {}, Mean: {:f}, STD: {:f}\".format(X.shape, np.mean(X), np.std(X)))"
      ],
      "execution_count": null,
      "outputs": [
        {
          "output_type": "stream",
          "text": [
            "Originaldaten:\n",
            "Shape: (60000, 28, 28), Mean: 33.318421, STD: 78.567490\n",
            "Vorbereitete Daten:\n",
            "Shape: (60000, 784), Mean: 0.396041, STD: 0.917538\n"
          ],
          "name": "stdout"
        }
      ]
    },
    {
      "cell_type": "markdown",
      "metadata": {
        "id": "lbpaEp8-ChlG"
      },
      "source": [
        "Create Hidden Activations"
      ]
    },
    {
      "cell_type": "code",
      "metadata": {
        "colab": {
          "base_uri": "https://localhost:8080/"
        },
        "id": "O6SBu62b9Sky",
        "outputId": "63ec1fe3-6388-4072-e2bc-6bc0884ddc33"
      },
      "source": [
        "H = np.random.rand(60000, 47)\r\n",
        "print(H.shape)\r\n",
        "print(H)"
      ],
      "execution_count": null,
      "outputs": [
        {
          "output_type": "stream",
          "text": [
            "(60000, 47)\n",
            "[[0.49513491 0.15155807 0.98257142 ... 0.69709693 0.36592989 0.93263948]\n",
            " [0.0147601  0.79477543 0.32675365 ... 0.24706829 0.97242015 0.73620357]\n",
            " [0.4938151  0.32815325 0.75325356 ... 0.49339021 0.60644985 0.03500256]\n",
            " ...\n",
            " [0.03786549 0.65537212 0.28512296 ... 0.68464932 0.10953213 0.82473674]\n",
            " [0.57859913 0.0795812  0.50451679 ... 0.89766924 0.18481132 0.83113833]\n",
            " [0.07307085 0.87380464 0.55143636 ... 0.90457293 0.7268965  0.36791925]]\n"
          ],
          "name": "stdout"
        }
      ]
    },
    {
      "cell_type": "markdown",
      "metadata": {
        "id": "3W8_KWaMCmpe"
      },
      "source": [
        "1st Forward Learn"
      ]
    },
    {
      "cell_type": "code",
      "metadata": {
        "colab": {
          "base_uri": "https://localhost:8080/"
        },
        "id": "7qf5L17T4Npb",
        "outputId": "b3a8da0b-43eb-4fdc-8bda-587344b44687"
      },
      "source": [
        "import numpy as np\r\n",
        "from sklearn.linear_model import LinearRegression\r\n",
        "\r\n",
        "reg = LinearRegression().fit(H, X)\r\n",
        "print(reg.score(H, X))\r\n",
        "X_pred = reg.predict(H)\r\n",
        "print(f'MAE {mean_absolute_error(X_pred, X)}')\r\n",
        "print(f'MSE {mean_squared_error(X_pred, X)}')\r\n",
        "print(f'R2 {r2_score(X_pred, X)}')\r\n",
        "print(f'R2 vw {r2_score(X_pred, X, multioutput=\"variance_weighted\")}')\r\n",
        "print(f'R2 ua {r2_score(X_pred, X, multioutput=\"uniform_average\")}')\r\n",
        "\r\n",
        "W = reg.coef_\r\n",
        "print(W.shape)\r\n",
        "WI = reg.intercept_\r\n",
        "print(WI.shape)"
      ],
      "execution_count": null,
      "outputs": [
        {
          "output_type": "stream",
          "text": [
            "/usr/local/lib/python3.6/dist-packages/sklearn/base.py:434: FutureWarning: The default value of multioutput (not exposed in score method) will change from 'variance_weighted' to 'uniform_average' in 0.23 to keep consistent with 'metrics.r2_score'. To specify the default value manually and avoid the warning, please either call 'metrics.r2_score' directly or make a custom scorer with 'metrics.make_scorer' (the built-in scorer 'r2' uses multioutput='uniform_average').\n",
            "  \"multioutput='uniform_average').\", FutureWarning)\n"
          ],
          "name": "stderr"
        },
        {
          "output_type": "stream",
          "text": [
            "0.0008227862207679288\n",
            "MAE 0.4375410866622782\n",
            "MSE 0.5934173671250477\n",
            "R2 -1273.2925804428469\n",
            "R2 vw -1213.382531645295\n",
            "R2 ua -1273.2925804428469\n",
            "(784, 47)\n",
            "(784,)\n"
          ],
          "name": "stdout"
        }
      ]
    },
    {
      "cell_type": "markdown",
      "metadata": {
        "id": "yYL74vKOCss2"
      },
      "source": [
        "1st Back Activations"
      ]
    },
    {
      "cell_type": "code",
      "metadata": {
        "id": "rat3oCtciJ9x"
      },
      "source": [
        "# # X = X_train.reshape(len(X_train), -1).astype('int')\r\n",
        "# W = pd.DataFrame(W)\r\n",
        "# # X = X.applymap(ifelse)\r\n",
        "# W = W.apply(rms_norm)\r\n",
        "# W = np.array(X)"
      ],
      "execution_count": null,
      "outputs": []
    },
    {
      "cell_type": "code",
      "metadata": {
        "colab": {
          "base_uri": "https://localhost:8080/"
        },
        "id": "j2p9rcyI4dcK",
        "outputId": "8074d74d-bed1-4468-a159-e586347eeb48"
      },
      "source": [
        "XT = X.transpose()\r\n",
        "print(f'shape of X_train {X.shape} and X_train transposed {XT.shape}')\r\n",
        "\r\n",
        "reg = LinearRegression().fit(W, XT)\r\n",
        "print(reg.score(W, XT))\r\n",
        "XT_pred = reg.predict(W)\r\n",
        "print(f'MAE {mean_absolute_error(XT_pred, XT)}')\r\n",
        "print(f'MSE {mean_squared_error(XT_pred, XT)}')\r\n",
        "print(f'R2 {r2_score(XT_pred, XT)}')\r\n",
        "print(f'R2 vw {r2_score(XT_pred, XT, multioutput=\"variance_weighted\")}')\r\n",
        "print(f'R2 ua {r2_score(XT_pred, XT, multioutput=\"uniform_average\")}')\r\n",
        "\r\n",
        "H_new = reg.coef_\r\n",
        "print(H_new.shape)\r\n",
        "HI = reg.intercept_\r\n",
        "print(HI.shape)"
      ],
      "execution_count": null,
      "outputs": [
        {
          "output_type": "stream",
          "text": [
            "shape of X_train (60000, 784) and X_train transposed (784, 60000)\n"
          ],
          "name": "stdout"
        },
        {
          "output_type": "stream",
          "text": [
            "/usr/local/lib/python3.6/dist-packages/sklearn/base.py:434: FutureWarning: The default value of multioutput (not exposed in score method) will change from 'variance_weighted' to 'uniform_average' in 0.23 to keep consistent with 'metrics.r2_score'. To specify the default value manually and avoid the warning, please either call 'metrics.r2_score' directly or make a custom scorer with 'metrics.make_scorer' (the built-in scorer 'r2' uses multioutput='uniform_average').\n",
            "  \"multioutput='uniform_average').\", FutureWarning)\n"
          ],
          "name": "stderr"
        },
        {
          "output_type": "stream",
          "text": [
            "0.5772586716090594\n",
            "MAE 0.4317534726425359\n",
            "MSE 0.35451880324922613\n",
            "R2 0.23393011213975262\n",
            "R2 vw 0.26767435608617984\n",
            "R2 ua 0.23393011213975262\n",
            "(60000, 47)\n",
            "(60000,)\n"
          ],
          "name": "stdout"
        }
      ]
    },
    {
      "cell_type": "markdown",
      "metadata": {
        "id": "zuXNkE6hGXbO"
      },
      "source": [
        "2nd Forward learn - result are Coherent Weights"
      ]
    },
    {
      "cell_type": "code",
      "metadata": {
        "colab": {
          "base_uri": "https://localhost:8080/"
        },
        "id": "prT-plGDGbrQ",
        "outputId": "1c6b8166-1e37-4bd1-d54b-501be51f5083"
      },
      "source": [
        "reg = LinearRegression().fit(H_new, X)\r\n",
        "print(reg.score(H_new, X))\r\n",
        "X_pred = reg.predict(H_new)\r\n",
        "print(f'MAE {mean_absolute_error(X_pred, X)}')\r\n",
        "print(f'MSE {mean_squared_error(X_pred, X)}')\r\n",
        "print(f'R2 {r2_score(X_pred, X)}')\r\n",
        "print(f'R2 vw {r2_score(X_pred, X, multioutput=\"variance_weighted\")}')\r\n",
        "print(f'R2 ua {r2_score(X_pred, X, multioutput=\"uniform_average\")}')\r\n",
        "\r\n",
        "W = reg.coef_\r\n",
        "print(W.shape)\r\n",
        "WI = reg.intercept_\r\n",
        "print(WI.shape)"
      ],
      "execution_count": null,
      "outputs": [
        {
          "output_type": "stream",
          "text": [
            "/usr/local/lib/python3.6/dist-packages/sklearn/base.py:434: FutureWarning: The default value of multioutput (not exposed in score method) will change from 'variance_weighted' to 'uniform_average' in 0.23 to keep consistent with 'metrics.r2_score'. To specify the default value manually and avoid the warning, please either call 'metrics.r2_score' directly or make a custom scorer with 'metrics.make_scorer' (the built-in scorer 'r2' uses multioutput='uniform_average').\n",
            "  \"multioutput='uniform_average').\", FutureWarning)\n"
          ],
          "name": "stderr"
        },
        {
          "output_type": "stream",
          "text": [
            "0.7474183349259838\n",
            "MAE 0.2083892551361066\n",
            "MSE 0.1500097726461972\n",
            "R2 -13.307951844185855\n",
            "R2 vw 0.6620611867930305\n",
            "R2 ua -13.307951844185855\n",
            "(784, 47)\n",
            "(784,)\n"
          ],
          "name": "stdout"
        }
      ]
    },
    {
      "cell_type": "markdown",
      "metadata": {
        "id": "QQm_Dd-RJ3Q-"
      },
      "source": [
        "2nd Back Activation - final representation of X_train in Hidden Activations"
      ]
    },
    {
      "cell_type": "code",
      "metadata": {
        "colab": {
          "base_uri": "https://localhost:8080/"
        },
        "id": "Ti-h4fmn4tKY",
        "outputId": "131cf6c7-b0cc-409f-a998-5dc9e5f5c0d3"
      },
      "source": [
        "reg = LinearRegression().fit(W, XT)\r\n",
        "print(reg.score(W, XT))\r\n",
        "XT_pred = reg.predict(W)\r\n",
        "print(f'MAE {mean_absolute_error(XT_pred, XT)}')\r\n",
        "print(f'MSE {mean_squared_error(XT_pred, XT)}')\r\n",
        "print(f'R2 vw {r2_score(XT_pred, XT, multioutput=\"variance_weighted\")}')\r\n",
        "print(f'R2 ua {r2_score(XT_pred, XT, multioutput=\"uniform_average\")}')\r\n",
        "\r\n",
        "H_new = reg.coef_\r\n",
        "print(H_new.shape)\r\n",
        "HI = reg.intercept_\r\n",
        "print(HI.shape)"
      ],
      "execution_count": null,
      "outputs": [
        {
          "output_type": "stream",
          "text": [
            "/usr/local/lib/python3.6/dist-packages/sklearn/base.py:434: FutureWarning: The default value of multioutput (not exposed in score method) will change from 'variance_weighted' to 'uniform_average' in 0.23 to keep consistent with 'metrics.r2_score'. To specify the default value manually and avoid the warning, please either call 'metrics.r2_score' directly or make a custom scorer with 'metrics.make_scorer' (the built-in scorer 'r2' uses multioutput='uniform_average').\n",
            "  \"multioutput='uniform_average').\", FutureWarning)\n"
          ],
          "name": "stderr"
        },
        {
          "output_type": "stream",
          "text": [
            "0.7627893243364782\n",
            "MAE 0.32145760371562015\n",
            "MSE 0.19892931967229527\n",
            "R2 vw 0.6890220299427202\n",
            "R2 ua 0.6775149166870601\n",
            "(60000, 47)\n",
            "(60000,)\n"
          ],
          "name": "stdout"
        }
      ]
    },
    {
      "cell_type": "markdown",
      "metadata": {
        "id": "o6coHZMrLna9"
      },
      "source": [
        "KNN test with Hidden Activations"
      ]
    },
    {
      "cell_type": "code",
      "metadata": {
        "id": "371e-fLufZA9"
      },
      "source": [
        "X = X_test.reshape(len(X_test), -1).astype('int')\r\n",
        "X = pd.DataFrame(X)\r\n",
        "X = X.applymap(ifelse)\r\n",
        "X = X.apply(rms_norm, axis=1)\r\n",
        "X = np.array(X)"
      ],
      "execution_count": null,
      "outputs": []
    },
    {
      "cell_type": "code",
      "metadata": {
        "colab": {
          "base_uri": "https://localhost:8080/"
        },
        "id": "GlQidejSLkNv",
        "outputId": "2e60975f-b3f9-4f99-a0c8-a7a2140fc668"
      },
      "source": [
        "# X = [[0], [1], [2], [3]]\r\n",
        "# y = [0, 0, 1, 1]\r\n",
        "\r\n",
        "# Plätte 2D Bild in einen Vektor:\r\n",
        "# Reshape behält die Anzahl Element in der ersten Dimension (len(X_orig) -> #Bilder)\r\n",
        "# die restlichen Zellen des Arrays (-1 -> Pixel) bekommen alle ihre eigene Dimension\r\n",
        "# X_p_test = X_test.reshape(len(X_test), -1).astype('float64')\r\n",
        "\r\n",
        "# # Dimensionen um den Mittelpunkt zentrieren\r\n",
        "# preproccessing = StandardScaler()\r\n",
        "# X_p_test = preproccessing.fit_transform(X_p_test)\r\n",
        "\r\n",
        "print (\"Originaldaten:\")\r\n",
        "print(\"Shape: {}, Mean: {:f}, STD: {:f}\".format(X_test.shape, np.mean(X_test), np.std(X_test)))\r\n",
        "\r\n",
        "print (\"Vorbereitete Daten:\")\r\n",
        "print(\"Shape: {}, Mean: {:f}, STD: {:f}\".format(X.shape, np.mean(X), np.std(X)))\r\n",
        "\r\n",
        "from sklearn.neighbors import KNeighborsClassifier\r\n",
        "neigh = KNeighborsClassifier(n_neighbors=5, n_jobs=-1, weights='distance')\r\n",
        "neigh.fit(H_new, y_train)\r\n",
        "\r\n",
        "# print(neigh.predict([[1.1]]))\r\n",
        "\r\n",
        "# print(neigh.predict_proba([[0.9]]))"
      ],
      "execution_count": null,
      "outputs": [
        {
          "output_type": "stream",
          "text": [
            "Originaldaten:\n",
            "Shape: (10000, 28, 28), Mean: 33.791224, STD: 79.172463\n",
            "Vorbereitete Daten:\n",
            "Shape: (10000, 784), Mean: 0.398067, STD: 0.916661\n"
          ],
          "name": "stdout"
        },
        {
          "output_type": "execute_result",
          "data": {
            "text/plain": [
              "KNeighborsClassifier(algorithm='auto', leaf_size=30, metric='minkowski',\n",
              "                     metric_params=None, n_jobs=-1, n_neighbors=5, p=2,\n",
              "                     weights='distance')"
            ]
          },
          "metadata": {
            "tags": []
          },
          "execution_count": 54
        }
      ]
    },
    {
      "cell_type": "markdown",
      "metadata": {
        "id": "a_ntlc-AQVpU"
      },
      "source": [
        "Back Activation of Test Data"
      ]
    },
    {
      "cell_type": "code",
      "metadata": {
        "colab": {
          "base_uri": "https://localhost:8080/"
        },
        "id": "qynKZ5tSQadw",
        "outputId": "e8a51f83-870d-47ab-d09a-dd2bf6cad75b"
      },
      "source": [
        "XT = X.transpose()\r\n",
        "print(f'shape of X_p_train {X.shape} and X_p_train transposed {XT.shape}')\r\n",
        "\r\n",
        "reg = LinearRegression().fit(W, XT)\r\n",
        "print(reg.score(W, XT))\r\n",
        "XT_pred = reg.predict(W)\r\n",
        "print(f'MAE {mean_absolute_error(XT_pred, XT)}')\r\n",
        "print(f'MSE {mean_squared_error(XT_pred, XT)}')\r\n",
        "print(f'R2 {r2_score(XT_pred, XT)}')\r\n",
        "print(f'R2 vw {r2_score(XT_pred, XT, multioutput=\"variance_weighted\")}')\r\n",
        "print(f'R2 ua {r2_score(XT_pred, XT, multioutput=\"uniform_average\")}')\r\n",
        "\r\n",
        "H_test = reg.coef_\r\n",
        "print(H_test.shape)\r\n",
        "HI_test = reg.intercept_\r\n",
        "print(HI_test.shape)"
      ],
      "execution_count": null,
      "outputs": [
        {
          "output_type": "stream",
          "text": [
            "shape of X_p_train (10000, 784) and X_p_train transposed (784, 10000)\n"
          ],
          "name": "stdout"
        },
        {
          "output_type": "stream",
          "text": [
            "/usr/local/lib/python3.6/dist-packages/sklearn/base.py:434: FutureWarning: The default value of multioutput (not exposed in score method) will change from 'variance_weighted' to 'uniform_average' in 0.23 to keep consistent with 'metrics.r2_score'. To specify the default value manually and avoid the warning, please either call 'metrics.r2_score' directly or make a custom scorer with 'metrics.make_scorer' (the built-in scorer 'r2' uses multioutput='uniform_average').\n",
            "  \"multioutput='uniform_average').\", FutureWarning)\n"
          ],
          "name": "stderr"
        },
        {
          "output_type": "stream",
          "text": [
            "0.7680299084917839\n",
            "MAE 0.3190346581061518\n",
            "MSE 0.19415833268764418\n",
            "R2 0.6880860118920867\n",
            "R2 vw 0.6979673721772806\n",
            "R2 ua 0.6880860118920867\n",
            "(10000, 47)\n",
            "(10000,)\n"
          ],
          "name": "stdout"
        }
      ]
    },
    {
      "cell_type": "code",
      "metadata": {
        "id": "IlF5bJweNXr-"
      },
      "source": [
        "# Predicting the Test set results\r\n",
        "y_pred = neigh.predict(H_test)"
      ],
      "execution_count": null,
      "outputs": []
    },
    {
      "cell_type": "code",
      "metadata": {
        "id": "TUc7y4FVXz1l"
      },
      "source": [
        "# y_prob = neigh.predict_proba(H_test)"
      ],
      "execution_count": null,
      "outputs": []
    },
    {
      "cell_type": "code",
      "metadata": {
        "colab": {
          "base_uri": "https://localhost:8080/"
        },
        "id": "AngO2_FOY5o6",
        "outputId": "c174fa4c-f810-4690-8711-810c13c33a70"
      },
      "source": [
        "# print(y_prob[0])"
      ],
      "execution_count": null,
      "outputs": [
        {
          "output_type": "stream",
          "text": [
            "[0. 0. 0. 0. 0. 0. 0. 1. 0. 0.]\n"
          ],
          "name": "stdout"
        }
      ]
    },
    {
      "cell_type": "code",
      "metadata": {
        "colab": {
          "base_uri": "https://localhost:8080/"
        },
        "id": "6d9WylV_Ofnv",
        "outputId": "c9aee31e-326a-4456-8d9b-6931f3620356"
      },
      "source": [
        "# Making the Confusion Matrix\r\n",
        "from sklearn.metrics import confusion_matrix\r\n",
        "cm = confusion_matrix(y_test, y_pred)\r\n",
        "print(cm)"
      ],
      "execution_count": null,
      "outputs": [
        {
          "output_type": "stream",
          "text": [
            "[[ 975    1    0    0    0    1    2    1    0    0]\n",
            " [   0 1132    3    0    0    0    0    0    0    0]\n",
            " [  10    2  997    2    1    0    0   14    6    0]\n",
            " [   3    1    2  974    1    9    0    9    8    3]\n",
            " [   1    3    0    0  945    0    5    2    2   24]\n",
            " [   4    0    0   14    2  857    5    2    4    4]\n",
            " [   9    2    0    0    1    0  944    0    2    0]\n",
            " [   0   13    6    0    4    0    0  992    0   13]\n",
            " [   7    1    2   13    1    8    4    4  928    6]\n",
            " [   2    5    2    8    7    2    2    9    2  970]]\n"
          ],
          "name": "stdout"
        }
      ]
    },
    {
      "cell_type": "code",
      "metadata": {
        "colab": {
          "base_uri": "https://localhost:8080/"
        },
        "id": "nPIZp_ZERbpV",
        "outputId": "3f052043-69be-432c-f768-e2c035419b4c"
      },
      "source": [
        "from sklearn.metrics import accuracy_score, classification_report\r\n",
        "print(accuracy_score(y_test, y_pred))\r\n",
        "print(classification_report(y_test, y_pred))"
      ],
      "execution_count": null,
      "outputs": [
        {
          "output_type": "stream",
          "text": [
            "0.9714\n",
            "              precision    recall  f1-score   support\n",
            "\n",
            "           0       0.96      0.99      0.98       980\n",
            "           1       0.98      1.00      0.99      1135\n",
            "           2       0.99      0.97      0.98      1032\n",
            "           3       0.96      0.96      0.96      1010\n",
            "           4       0.98      0.96      0.97       982\n",
            "           5       0.98      0.96      0.97       892\n",
            "           6       0.98      0.99      0.98       958\n",
            "           7       0.96      0.96      0.96      1028\n",
            "           8       0.97      0.95      0.96       974\n",
            "           9       0.95      0.96      0.96      1009\n",
            "\n",
            "    accuracy                           0.97     10000\n",
            "   macro avg       0.97      0.97      0.97     10000\n",
            "weighted avg       0.97      0.97      0.97     10000\n",
            "\n"
          ],
          "name": "stdout"
        }
      ]
    },
    {
      "cell_type": "code",
      "metadata": {
        "id": "BIkeIePWSEcd"
      },
      "source": [
        ""
      ],
      "execution_count": null,
      "outputs": []
    }
  ]
}